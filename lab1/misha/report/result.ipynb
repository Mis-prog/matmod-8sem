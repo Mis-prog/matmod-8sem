{
 "cells": [
  {
   "cell_type": "code",
   "execution_count": 142,
   "id": "5e49bfcc-d6d2-4a72-ad0c-e4672650a847",
   "metadata": {},
   "outputs": [],
   "source": [
    "import pandas as pd\n",
    "import matplotlib.pyplot as plt\n",
    "import numpy as np"
   ]
  },
  {
   "cell_type": "code",
   "execution_count": 143,
   "id": "4e5e05ac-e32d-43b5-90b4-a8fc01cfb6be",
   "metadata": {},
   "outputs": [],
   "source": [
    "data_calc = pd.read_csv('../result/calc.csv',sep=' ', index_col=False)"
   ]
  },
  {
   "cell_type": "code",
   "execution_count": 144,
   "id": "1cbf7fa6-e5e4-4204-9c51-ae380710431d",
   "metadata": {},
   "outputs": [
    {
     "data": {
      "text/html": [
       "<div>\n",
       "<style scoped>\n",
       "    .dataframe tbody tr th:only-of-type {\n",
       "        vertical-align: middle;\n",
       "    }\n",
       "\n",
       "    .dataframe tbody tr th {\n",
       "        vertical-align: top;\n",
       "    }\n",
       "\n",
       "    .dataframe thead th {\n",
       "        text-align: right;\n",
       "    }\n",
       "</style>\n",
       "<table border=\"1\" class=\"dataframe\">\n",
       "  <thead>\n",
       "    <tr style=\"text-align: right;\">\n",
       "      <th></th>\n",
       "      <th>N</th>\n",
       "      <th>&lt;x&gt;</th>\n",
       "      <th>&lt;y&gt;</th>\n",
       "      <th>&lt;R&gt;</th>\n",
       "      <th>&lt;x^2&gt;</th>\n",
       "      <th>&lt;y^2&gt;</th>\n",
       "      <th>&lt;Δx^2&gt;</th>\n",
       "      <th>&lt;Δy^2&gt;</th>\n",
       "      <th>&lt;ΔR^2&gt;</th>\n",
       "    </tr>\n",
       "  </thead>\n",
       "  <tbody>\n",
       "    <tr>\n",
       "      <th>0</th>\n",
       "      <td>0</td>\n",
       "      <td>2.402330e-01</td>\n",
       "      <td>1.975970e-01</td>\n",
       "      <td>3.110570e-01</td>\n",
       "      <td>5.231400e+05</td>\n",
       "      <td>2.126810e+04</td>\n",
       "      <td>5.231400e+05</td>\n",
       "      <td>2.126800e+04</td>\n",
       "      <td>5.444080e+05</td>\n",
       "    </tr>\n",
       "    <tr>\n",
       "      <th>1</th>\n",
       "      <td>1000</td>\n",
       "      <td>6.464660e+02</td>\n",
       "      <td>-2.231420e+03</td>\n",
       "      <td>2.323180e+03</td>\n",
       "      <td>1.152070e+11</td>\n",
       "      <td>1.055910e+12</td>\n",
       "      <td>1.152070e+11</td>\n",
       "      <td>1.055910e+12</td>\n",
       "      <td>1.171120e+12</td>\n",
       "    </tr>\n",
       "    <tr>\n",
       "      <th>2</th>\n",
       "      <td>2000</td>\n",
       "      <td>-2.932220e+02</td>\n",
       "      <td>-2.138150e+03</td>\n",
       "      <td>2.158160e+03</td>\n",
       "      <td>2.327150e+11</td>\n",
       "      <td>1.063110e+12</td>\n",
       "      <td>2.327150e+11</td>\n",
       "      <td>1.063110e+12</td>\n",
       "      <td>1.295820e+12</td>\n",
       "    </tr>\n",
       "    <tr>\n",
       "      <th>3</th>\n",
       "      <td>3000</td>\n",
       "      <td>-1.339390e+03</td>\n",
       "      <td>-8.389890e+04</td>\n",
       "      <td>8.390960e+04</td>\n",
       "      <td>2.585160e+11</td>\n",
       "      <td>6.586080e+14</td>\n",
       "      <td>2.585140e+11</td>\n",
       "      <td>6.586010e+14</td>\n",
       "      <td>6.588600e+14</td>\n",
       "    </tr>\n",
       "    <tr>\n",
       "      <th>4</th>\n",
       "      <td>4000</td>\n",
       "      <td>-9.227090e+02</td>\n",
       "      <td>-8.450120e+04</td>\n",
       "      <td>8.450630e+04</td>\n",
       "      <td>2.837320e+11</td>\n",
       "      <td>6.586300e+14</td>\n",
       "      <td>2.837310e+11</td>\n",
       "      <td>6.586230e+14</td>\n",
       "      <td>6.589070e+14</td>\n",
       "    </tr>\n",
       "    <tr>\n",
       "      <th>...</th>\n",
       "      <td>...</td>\n",
       "      <td>...</td>\n",
       "      <td>...</td>\n",
       "      <td>...</td>\n",
       "      <td>...</td>\n",
       "      <td>...</td>\n",
       "      <td>...</td>\n",
       "      <td>...</td>\n",
       "      <td>...</td>\n",
       "    </tr>\n",
       "    <tr>\n",
       "      <th>1995</th>\n",
       "      <td>1995000</td>\n",
       "      <td>3.798660e+06</td>\n",
       "      <td>-1.011560e+06</td>\n",
       "      <td>3.931040e+06</td>\n",
       "      <td>1.565460e+18</td>\n",
       "      <td>1.655860e+17</td>\n",
       "      <td>1.565440e+18</td>\n",
       "      <td>1.655850e+17</td>\n",
       "      <td>1.731030e+18</td>\n",
       "    </tr>\n",
       "    <tr>\n",
       "      <th>1996</th>\n",
       "      <td>1996000</td>\n",
       "      <td>3.801210e+06</td>\n",
       "      <td>-1.186160e+06</td>\n",
       "      <td>3.981980e+06</td>\n",
       "      <td>1.565460e+18</td>\n",
       "      <td>1.682090e+17</td>\n",
       "      <td>1.565440e+18</td>\n",
       "      <td>1.682080e+17</td>\n",
       "      <td>1.733650e+18</td>\n",
       "    </tr>\n",
       "    <tr>\n",
       "      <th>1997</th>\n",
       "      <td>1997000</td>\n",
       "      <td>3.802540e+06</td>\n",
       "      <td>-1.184780e+06</td>\n",
       "      <td>3.982840e+06</td>\n",
       "      <td>1.565460e+18</td>\n",
       "      <td>1.682090e+17</td>\n",
       "      <td>1.565450e+18</td>\n",
       "      <td>1.682080e+17</td>\n",
       "      <td>1.733650e+18</td>\n",
       "    </tr>\n",
       "    <tr>\n",
       "      <th>1998</th>\n",
       "      <td>1998000</td>\n",
       "      <td>3.804160e+06</td>\n",
       "      <td>-1.185250e+06</td>\n",
       "      <td>3.984530e+06</td>\n",
       "      <td>1.565460e+18</td>\n",
       "      <td>1.682090e+17</td>\n",
       "      <td>1.565440e+18</td>\n",
       "      <td>1.682080e+17</td>\n",
       "      <td>1.733650e+18</td>\n",
       "    </tr>\n",
       "    <tr>\n",
       "      <th>1999</th>\n",
       "      <td>1999000</td>\n",
       "      <td>3.804310e+06</td>\n",
       "      <td>-1.183820e+06</td>\n",
       "      <td>3.984250e+06</td>\n",
       "      <td>1.565460e+18</td>\n",
       "      <td>1.682100e+17</td>\n",
       "      <td>1.565440e+18</td>\n",
       "      <td>1.682080e+17</td>\n",
       "      <td>1.733650e+18</td>\n",
       "    </tr>\n",
       "  </tbody>\n",
       "</table>\n",
       "<p>2000 rows × 9 columns</p>\n",
       "</div>"
      ],
      "text/plain": [
       "            N           <x>           <y>           <R>         <x^2>  \\\n",
       "0           0  2.402330e-01  1.975970e-01  3.110570e-01  5.231400e+05   \n",
       "1        1000  6.464660e+02 -2.231420e+03  2.323180e+03  1.152070e+11   \n",
       "2        2000 -2.932220e+02 -2.138150e+03  2.158160e+03  2.327150e+11   \n",
       "3        3000 -1.339390e+03 -8.389890e+04  8.390960e+04  2.585160e+11   \n",
       "4        4000 -9.227090e+02 -8.450120e+04  8.450630e+04  2.837320e+11   \n",
       "...       ...           ...           ...           ...           ...   \n",
       "1995  1995000  3.798660e+06 -1.011560e+06  3.931040e+06  1.565460e+18   \n",
       "1996  1996000  3.801210e+06 -1.186160e+06  3.981980e+06  1.565460e+18   \n",
       "1997  1997000  3.802540e+06 -1.184780e+06  3.982840e+06  1.565460e+18   \n",
       "1998  1998000  3.804160e+06 -1.185250e+06  3.984530e+06  1.565460e+18   \n",
       "1999  1999000  3.804310e+06 -1.183820e+06  3.984250e+06  1.565460e+18   \n",
       "\n",
       "             <y^2>        <Δx^2>        <Δy^2>        <ΔR^2>  \n",
       "0     2.126810e+04  5.231400e+05  2.126800e+04  5.444080e+05  \n",
       "1     1.055910e+12  1.152070e+11  1.055910e+12  1.171120e+12  \n",
       "2     1.063110e+12  2.327150e+11  1.063110e+12  1.295820e+12  \n",
       "3     6.586080e+14  2.585140e+11  6.586010e+14  6.588600e+14  \n",
       "4     6.586300e+14  2.837310e+11  6.586230e+14  6.589070e+14  \n",
       "...            ...           ...           ...           ...  \n",
       "1995  1.655860e+17  1.565440e+18  1.655850e+17  1.731030e+18  \n",
       "1996  1.682090e+17  1.565440e+18  1.682080e+17  1.733650e+18  \n",
       "1997  1.682090e+17  1.565450e+18  1.682080e+17  1.733650e+18  \n",
       "1998  1.682090e+17  1.565440e+18  1.682080e+17  1.733650e+18  \n",
       "1999  1.682100e+17  1.565440e+18  1.682080e+17  1.733650e+18  \n",
       "\n",
       "[2000 rows x 9 columns]"
      ]
     },
     "execution_count": 144,
     "metadata": {},
     "output_type": "execute_result"
    }
   ],
   "source": [
    "data_calc"
   ]
  },
  {
   "cell_type": "markdown",
   "id": "df0d3dce-d49e-47a5-9d69-f6f9cbd17147",
   "metadata": {},
   "source": [
    "## Апроксимация"
   ]
  },
  {
   "cell_type": "code",
   "execution_count": 145,
   "id": "8bd6455a-db82-437b-96a5-db9139ccb99d",
   "metadata": {},
   "outputs": [],
   "source": [
    "from scipy.stats import linregress\n",
    "from scipy.optimize import curve_fit"
   ]
  },
  {
   "cell_type": "code",
   "execution_count": 174,
   "id": "f4e3a8f4-a8aa-4ccd-a3f1-7683c9cb5702",
   "metadata": {},
   "outputs": [],
   "source": [
    "x = np.array([np.log1p(data_calc['N'][0])] + list(np.log(data_calc['N'][1:])))\n",
    "y = np.log(data_calc['<ΔR^2>'])\n",
    "\n",
    "coefficients = np.polyfit(x, y, 1)\n",
    "slope, intercept = coefficients"
   ]
  },
  {
   "cell_type": "code",
   "execution_count": 175,
   "id": "4034c206-d748-4121-83f4-10963e07cf66",
   "metadata": {},
   "outputs": [
    {
     "data": {
      "text/plain": [
       "(np.float64(1164.2602911304389), np.float64(2.3982066486282245))"
      ]
     },
     "execution_count": 175,
     "metadata": {},
     "output_type": "execute_result"
    }
   ],
   "source": [
    "b = slope \n",
    "a = np.e**intercept \n",
    "a,b"
   ]
  },
  {
   "cell_type": "code",
   "execution_count": 176,
   "id": "4fafbf12-66e0-4ead-abf8-8cb1000fcab5",
   "metadata": {},
   "outputs": [],
   "source": [
    "def power_law_log(x, a, b):\n",
    "    return a + x * b\n",
    "\n",
    "def power_law(x, a, b):\n",
    "    return a * x ** b"
   ]
  },
  {
   "cell_type": "code",
   "execution_count": 177,
   "id": "490ee428-9e72-4b4a-94e0-b110d2df7cdf",
   "metadata": {},
   "outputs": [
    {
     "name": "stdout",
     "output_type": "stream",
     "text": [
      "Оптимальное a: 1164.2604409446737\n",
      "Оптимальное b: 2.398206639181839\n"
     ]
    }
   ],
   "source": [
    "x_data = data_calc['N'][1:].values\n",
    "y_data = data_calc['<ΔR^2>'][1:].values\n",
    "\n",
    "np.seterr(over='ignore')\n",
    "initial_guess = [1, 1]  # a = 1, b = 1\n",
    "\n",
    "# Аппроксимация\n",
    "params, covariance = curve_fit(power_law_log, x, y, p0=initial_guess)\n",
    "a_opt, b_opt = params\n",
    "\n",
    "print(f\"Оптимальное a: {np.e**a_opt}\")\n",
    "print(f\"Оптимальное b: {b_opt}\")"
   ]
  },
  {
   "cell_type": "code",
   "execution_count": 178,
   "id": "a8db68ad-835b-42a1-912d-9b72d2888c63",
   "metadata": {},
   "outputs": [
    {
     "data": {
      "image/png": "[encoded data removed]",
      "text/plain": [
       "<Figure size 640x480 with 2 Axes>"
      ]
     },
     "metadata": {},
     "output_type": "display_data"
    }
   ],
   "source": [
    "plt.figure()\n",
    "\n",
    "plt.subplot(2, 1, 1) \n",
    "plt.title('В логарифмическом виде')\n",
    "plt.plot(x, y)\n",
    "plt.plot(x, power_law_log(x ,intercept,b))\n",
    "\n",
    "plt.subplot(2, 1, 2) \n",
    "plt.title('В натуральном виде')\n",
    "plt.plot(data_calc['N'], data_calc['<ΔR^2>'],the)\n",
    "plt.plot(data_calc['N'], power_law(data_calc['N'], a, b))\n",
    "\n",
    "plt.tight_layout() \n",
    "plt.show()"
   ]
  },
  {
   "cell_type": "code",
   "execution_count": 12,
   "id": "7068d29d-2eb6-4ab9-a1ed-e7edea9b9381",
   "metadata": {},
   "outputs": [],
   "source": [
    "data_first_particle = pd.read_csv('../result/first_particle.csv',sep=' ', index_col=False)"
   ]
  },
  {
   "cell_type": "code",
   "execution_count": 13,
   "id": "1d5384e4-5050-4be0-8352-4ef5b5232a2b",
   "metadata": {},
   "outputs": [
    {
     "data": {
      "text/html": [
       "<div>\n",
       "<style scoped>\n",
       "    .dataframe tbody tr th:only-of-type {\n",
       "        vertical-align: middle;\n",
       "    }\n",
       "\n",
       "    .dataframe tbody tr th {\n",
       "        vertical-align: top;\n",
       "    }\n",
       "\n",
       "    .dataframe thead th {\n",
       "        text-align: right;\n",
       "    }\n",
       "</style>\n",
       "<table border=\"1\" class=\"dataframe\">\n",
       "  <thead>\n",
       "    <tr style=\"text-align: right;\">\n",
       "      <th></th>\n",
       "      <th>x</th>\n",
       "      <th>y</th>\n",
       "    </tr>\n",
       "  </thead>\n",
       "  <tbody>\n",
       "    <tr>\n",
       "      <th>0</th>\n",
       "      <td>-1.57587</td>\n",
       "      <td>0.000000e+00</td>\n",
       "    </tr>\n",
       "    <tr>\n",
       "      <th>1</th>\n",
       "      <td>-4.21742</td>\n",
       "      <td>0.000000e+00</td>\n",
       "    </tr>\n",
       "    <tr>\n",
       "      <th>2</th>\n",
       "      <td>-6.12226</td>\n",
       "      <td>0.000000e+00</td>\n",
       "    </tr>\n",
       "    <tr>\n",
       "      <th>3</th>\n",
       "      <td>-6.12226</td>\n",
       "      <td>-1.922390e-01</td>\n",
       "    </tr>\n",
       "    <tr>\n",
       "      <th>4</th>\n",
       "      <td>-6.12226</td>\n",
       "      <td>9.639280e-01</td>\n",
       "    </tr>\n",
       "    <tr>\n",
       "      <th>...</th>\n",
       "      <td>...</td>\n",
       "      <td>...</td>\n",
       "    </tr>\n",
       "    <tr>\n",
       "      <th>1999995</th>\n",
       "      <td>70663.60000</td>\n",
       "      <td>-2.580960e+06</td>\n",
       "    </tr>\n",
       "    <tr>\n",
       "      <th>1999996</th>\n",
       "      <td>70663.60000</td>\n",
       "      <td>-2.580960e+06</td>\n",
       "    </tr>\n",
       "    <tr>\n",
       "      <th>1999997</th>\n",
       "      <td>70663.60000</td>\n",
       "      <td>-2.580960e+06</td>\n",
       "    </tr>\n",
       "    <tr>\n",
       "      <th>1999998</th>\n",
       "      <td>70665.10000</td>\n",
       "      <td>-2.580960e+06</td>\n",
       "    </tr>\n",
       "    <tr>\n",
       "      <th>1999999</th>\n",
       "      <td>70665.10000</td>\n",
       "      <td>-2.580960e+06</td>\n",
       "    </tr>\n",
       "  </tbody>\n",
       "</table>\n",
       "<p>2000000 rows × 2 columns</p>\n",
       "</div>"
      ],
      "text/plain": [
       "                   x             y\n",
       "0           -1.57587  0.000000e+00\n",
       "1           -4.21742  0.000000e+00\n",
       "2           -6.12226  0.000000e+00\n",
       "3           -6.12226 -1.922390e-01\n",
       "4           -6.12226  9.639280e-01\n",
       "...              ...           ...\n",
       "1999995  70663.60000 -2.580960e+06\n",
       "1999996  70663.60000 -2.580960e+06\n",
       "1999997  70663.60000 -2.580960e+06\n",
       "1999998  70665.10000 -2.580960e+06\n",
       "1999999  70665.10000 -2.580960e+06\n",
       "\n",
       "[2000000 rows x 2 columns]"
      ]
     },
     "execution_count": 13,
     "metadata": {},
     "output_type": "execute_result"
    }
   ],
   "source": [
    "data_first_particle"
   ]
  },
  {
   "cell_type": "code",
   "execution_count": 14,
   "id": "a3ee8ffa-4e4b-4f94-b930-9c72ef4138fc",
   "metadata": {},
   "outputs": [
    {
     "data": {
      "text/plain": [
       "[<matplotlib.lines.Line2D at 0x25683b8a2f0>]"
      ]
     },
     "execution_count": 14,
     "metadata": {},
     "output_type": "execute_result"
    },
    {
     "data": {
      "image/png": "[encoded data removed]",
      "text/plain": [
       "<Figure size 640x480 with 1 Axes>"
      ]
     },
     "metadata": {},
     "output_type": "display_data"
    }
   ],
   "source": [
    "plt.plot(data_first_particle.x,data_first_particle.y)"
   ]
  },
  {
   "cell_type": "code",
   "execution_count": 15,
   "id": "d3b78455-eb0a-4557-bd72-fb141cf6f10a",
   "metadata": {},
   "outputs": [],
   "source": [
    "data_last_vals = pd.read_csv('../result/last_vals.csv',sep=' ', index_col=False)"
   ]
  },
  {
   "cell_type": "code",
   "execution_count": 16,
   "id": "55140c25-fb6c-4fd0-be05-1606e0e539d2",
   "metadata": {},
   "outputs": [
    {
     "data": {
      "text/html": [
       "<div>\n",
       "<style scoped>\n",
       "    .dataframe tbody tr th:only-of-type {\n",
       "        vertical-align: middle;\n",
       "    }\n",
       "\n",
       "    .dataframe tbody tr th {\n",
       "        vertical-align: top;\n",
       "    }\n",
       "\n",
       "    .dataframe thead th {\n",
       "        text-align: right;\n",
       "    }\n",
       "</style>\n",
       "<table border=\"1\" class=\"dataframe\">\n",
       "  <thead>\n",
       "    <tr style=\"text-align: right;\">\n",
       "      <th></th>\n",
       "      <th>x</th>\n",
       "      <th>y</th>\n",
       "    </tr>\n",
       "  </thead>\n",
       "  <tbody>\n",
       "    <tr>\n",
       "      <th>0</th>\n",
       "      <td>70665.1</td>\n",
       "      <td>-2580960.0</td>\n",
       "    </tr>\n",
       "    <tr>\n",
       "      <th>1</th>\n",
       "      <td>7490720.0</td>\n",
       "      <td>897591.0</td>\n",
       "    </tr>\n",
       "    <tr>\n",
       "      <th>2</th>\n",
       "      <td>1673260.0</td>\n",
       "      <td>3478620.0</td>\n",
       "    </tr>\n",
       "    <tr>\n",
       "      <th>3</th>\n",
       "      <td>2510480.0</td>\n",
       "      <td>-436700.0</td>\n",
       "    </tr>\n",
       "    <tr>\n",
       "      <th>4</th>\n",
       "      <td>667601.0</td>\n",
       "      <td>1024640.0</td>\n",
       "    </tr>\n",
       "    <tr>\n",
       "      <th>...</th>\n",
       "      <td>...</td>\n",
       "      <td>...</td>\n",
       "    </tr>\n",
       "    <tr>\n",
       "      <th>99995</th>\n",
       "      <td>359593.0</td>\n",
       "      <td>-2429370.0</td>\n",
       "    </tr>\n",
       "    <tr>\n",
       "      <th>99996</th>\n",
       "      <td>-644164.0</td>\n",
       "      <td>-18816900.0</td>\n",
       "    </tr>\n",
       "    <tr>\n",
       "      <th>99997</th>\n",
       "      <td>-1693350.0</td>\n",
       "      <td>-692476.0</td>\n",
       "    </tr>\n",
       "    <tr>\n",
       "      <th>99998</th>\n",
       "      <td>-1184790.0</td>\n",
       "      <td>-771556.0</td>\n",
       "    </tr>\n",
       "    <tr>\n",
       "      <th>99999</th>\n",
       "      <td>-844715.0</td>\n",
       "      <td>-146870.0</td>\n",
       "    </tr>\n",
       "  </tbody>\n",
       "</table>\n",
       "<p>100000 rows × 2 columns</p>\n",
       "</div>"
      ],
      "text/plain": [
       "               x           y\n",
       "0        70665.1  -2580960.0\n",
       "1      7490720.0    897591.0\n",
       "2      1673260.0   3478620.0\n",
       "3      2510480.0   -436700.0\n",
       "4       667601.0   1024640.0\n",
       "...          ...         ...\n",
       "99995   359593.0  -2429370.0\n",
       "99996  -644164.0 -18816900.0\n",
       "99997 -1693350.0   -692476.0\n",
       "99998 -1184790.0   -771556.0\n",
       "99999  -844715.0   -146870.0\n",
       "\n",
       "[100000 rows x 2 columns]"
      ]
     },
     "execution_count": 16,
     "metadata": {},
     "output_type": "execute_result"
    }
   ],
   "source": [
    "data_last_vals"
   ]
  },
  {
   "cell_type": "code",
   "execution_count": 42,
   "id": "6cb3b9b4-995b-4ea4-9549-872041d4c81e",
   "metadata": {},
   "outputs": [
    {
     "data": {
      "image/png": "[encoded data removed]",
      "text/plain": [
       "<Figure size 1000x400 with 2 Axes>"
      ]
     },
     "metadata": {},
     "output_type": "display_data"
    }
   ],
   "source": [
    "bin_cnt = 100\n",
    "bin_w = 1/bin_cnt\n",
    "_idx = 9\n",
    "plt.figure(figsize=(10, 4))\n",
    "plt.suptitle(f'Раcпределение частицы. N = {2e6}')\n",
    "\n",
    "plt.subplot(1,2,1)\n",
    "plt.hist(data_last_vals.x, bin_cnt, facecolor='r', density=True, label='E(X)', range=(-1e7, 1e7))\n",
    "plt.title(f'Вдоль Ox.')\n",
    "\n",
    "plt.subplot(1,2,2)\n",
    "plt.hist(data_last_vals.y, bin_cnt, facecolor='r', density=True, label='E(X)', range=(-1e7, 1e7))\n",
    "plt.title(f'Вдоль Oy.')\n",
    "\n",
    "plt.tight_layout()\n",
    "plt.show()"
   ]
  },
  {
   "cell_type": "code",
   "execution_count": null,
   "id": "18ff9143-d3a3-47c5-a5cd-e1e4307d5677",
   "metadata": {},
   "outputs": [],
   "source": [
    "shifts_arr_lastN = np.abs((first_particle[-1][1:] - first_particle[-1][:-1]).sum(axis=1))\n",
    "shifts_arr_lastN.shape"
   ]
  }
 ],
 "metadata": {
  "kernelspec": {
   "display_name": "Python 3 (ipykernel)",
   "language": "python",
   "name": "python3"
  },
  "language_info": {
   "codemirror_mode": {
    "name": "ipython",
    "version": 3
   },
   "file_extension": ".py",
   "mimetype": "text/x-python",
   "name": "python",
   "nbconvert_exporter": "python",
   "pygments_lexer": "ipython3",
   "version": "3.10.0"
  }
 },
 "nbformat": 4,
 "nbformat_minor": 5
}
