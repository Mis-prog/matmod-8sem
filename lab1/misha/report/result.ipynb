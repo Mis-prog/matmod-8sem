{
 "cells": [
  {
   "cell_type": "code",
   "execution_count": 2,
   "id": "5e49bfcc-d6d2-4a72-ad0c-e4672650a847",
   "metadata": {},
   "outputs": [],
   "source": [
    "import pandas as pd\n",
    "import matplotlib.pyplot as plt\n",
    "import numpy as np"
   ]
  },
  {
   "cell_type": "code",
   "execution_count": 157,
   "id": "4e5e05ac-e32d-43b5-90b4-a8fc01cfb6be",
   "metadata": {},
   "outputs": [],
   "source": [
    "data_calc = pd.read_csv('../result_new/calc.csv',sep=' ', index_col=False)"
   ]
  },
  {
   "cell_type": "code",
   "execution_count": 158,
   "id": "1cbf7fa6-e5e4-4204-9c51-ae380710431d",
   "metadata": {},
   "outputs": [
    {
     "data": {
      "text/html": [
       "<div>\n",
       "<style scoped>\n",
       "    .dataframe tbody tr th:only-of-type {\n",
       "        vertical-align: middle;\n",
       "    }\n",
       "\n",
       "    .dataframe tbody tr th {\n",
       "        vertical-align: top;\n",
       "    }\n",
       "\n",
       "    .dataframe thead th {\n",
       "        text-align: right;\n",
       "    }\n",
       "</style>\n",
       "<table border=\"1\" class=\"dataframe\">\n",
       "  <thead>\n",
       "    <tr style=\"text-align: right;\">\n",
       "      <th></th>\n",
       "      <th>N</th>\n",
       "      <th>&lt;x&gt;</th>\n",
       "      <th>&lt;y&gt;</th>\n",
       "      <th>&lt;R&gt;</th>\n",
       "      <th>&lt;x^2&gt;</th>\n",
       "      <th>&lt;y^2&gt;</th>\n",
       "      <th>&lt;Δx^2&gt;</th>\n",
       "      <th>&lt;Δy^2&gt;</th>\n",
       "      <th>&lt;ΔR^2&gt;</th>\n",
       "    </tr>\n",
       "  </thead>\n",
       "  <tbody>\n",
       "    <tr>\n",
       "      <th>0</th>\n",
       "      <td>1</td>\n",
       "      <td>-3.173520e+00</td>\n",
       "      <td>-7.477680e+01</td>\n",
       "      <td>7.484410e+01</td>\n",
       "      <td>1.313890e+06</td>\n",
       "      <td>5.880200e+08</td>\n",
       "      <td>1.313880e+06</td>\n",
       "      <td>5.880140e+08</td>\n",
       "      <td>5.893280e+08</td>\n",
       "    </tr>\n",
       "    <tr>\n",
       "      <th>1</th>\n",
       "      <td>1000</td>\n",
       "      <td>-1.257940e+04</td>\n",
       "      <td>2.575550e+02</td>\n",
       "      <td>1.258210e+04</td>\n",
       "      <td>2.834890e+13</td>\n",
       "      <td>1.654570e+11</td>\n",
       "      <td>2.834880e+13</td>\n",
       "      <td>1.654570e+11</td>\n",
       "      <td>2.851420e+13</td>\n",
       "    </tr>\n",
       "    <tr>\n",
       "      <th>2</th>\n",
       "      <td>2000</td>\n",
       "      <td>-1.188740e+04</td>\n",
       "      <td>1.308220e+03</td>\n",
       "      <td>1.195920e+04</td>\n",
       "      <td>2.841370e+13</td>\n",
       "      <td>2.625990e+11</td>\n",
       "      <td>2.841360e+13</td>\n",
       "      <td>2.625970e+11</td>\n",
       "      <td>2.867620e+13</td>\n",
       "    </tr>\n",
       "    <tr>\n",
       "      <th>3</th>\n",
       "      <td>3000</td>\n",
       "      <td>-1.255340e+04</td>\n",
       "      <td>2.663260e+03</td>\n",
       "      <td>1.283280e+04</td>\n",
       "      <td>2.845070e+13</td>\n",
       "      <td>9.868270e+11</td>\n",
       "      <td>2.845060e+13</td>\n",
       "      <td>9.868200e+11</td>\n",
       "      <td>2.943740e+13</td>\n",
       "    </tr>\n",
       "    <tr>\n",
       "      <th>4</th>\n",
       "      <td>4000</td>\n",
       "      <td>-1.258720e+04</td>\n",
       "      <td>2.273300e+03</td>\n",
       "      <td>1.279080e+04</td>\n",
       "      <td>2.849590e+13</td>\n",
       "      <td>1.042450e+12</td>\n",
       "      <td>2.849580e+13</td>\n",
       "      <td>1.042450e+12</td>\n",
       "      <td>2.953820e+13</td>\n",
       "    </tr>\n",
       "    <tr>\n",
       "      <th>...</th>\n",
       "      <td>...</td>\n",
       "      <td>...</td>\n",
       "      <td>...</td>\n",
       "      <td>...</td>\n",
       "      <td>...</td>\n",
       "      <td>...</td>\n",
       "      <td>...</td>\n",
       "      <td>...</td>\n",
       "      <td>...</td>\n",
       "    </tr>\n",
       "    <tr>\n",
       "      <th>1995</th>\n",
       "      <td>1995000</td>\n",
       "      <td>-4.299900e+06</td>\n",
       "      <td>5.449990e+08</td>\n",
       "      <td>5.450160e+08</td>\n",
       "      <td>8.014350e+18</td>\n",
       "      <td>4.482210e+22</td>\n",
       "      <td>8.014340e+18</td>\n",
       "      <td>4.482180e+22</td>\n",
       "      <td>4.482980e+22</td>\n",
       "    </tr>\n",
       "    <tr>\n",
       "      <th>1996</th>\n",
       "      <td>1996000</td>\n",
       "      <td>-4.308340e+06</td>\n",
       "      <td>5.449990e+08</td>\n",
       "      <td>5.450160e+08</td>\n",
       "      <td>8.014360e+18</td>\n",
       "      <td>4.482210e+22</td>\n",
       "      <td>8.014340e+18</td>\n",
       "      <td>4.482180e+22</td>\n",
       "      <td>4.482980e+22</td>\n",
       "    </tr>\n",
       "    <tr>\n",
       "      <th>1997</th>\n",
       "      <td>1997000</td>\n",
       "      <td>-4.307570e+06</td>\n",
       "      <td>5.450000e+08</td>\n",
       "      <td>5.450170e+08</td>\n",
       "      <td>8.014360e+18</td>\n",
       "      <td>4.482210e+22</td>\n",
       "      <td>8.014340e+18</td>\n",
       "      <td>4.482180e+22</td>\n",
       "      <td>4.482980e+22</td>\n",
       "    </tr>\n",
       "    <tr>\n",
       "      <th>1998</th>\n",
       "      <td>1998000</td>\n",
       "      <td>-4.307690e+06</td>\n",
       "      <td>5.449990e+08</td>\n",
       "      <td>5.450160e+08</td>\n",
       "      <td>8.014360e+18</td>\n",
       "      <td>4.482210e+22</td>\n",
       "      <td>8.014340e+18</td>\n",
       "      <td>4.482180e+22</td>\n",
       "      <td>4.482980e+22</td>\n",
       "    </tr>\n",
       "    <tr>\n",
       "      <th>1999</th>\n",
       "      <td>1999000</td>\n",
       "      <td>-4.308320e+06</td>\n",
       "      <td>5.450010e+08</td>\n",
       "      <td>5.450180e+08</td>\n",
       "      <td>8.014360e+18</td>\n",
       "      <td>4.482210e+22</td>\n",
       "      <td>8.014340e+18</td>\n",
       "      <td>4.482180e+22</td>\n",
       "      <td>4.482980e+22</td>\n",
       "    </tr>\n",
       "  </tbody>\n",
       "</table>\n",
       "<p>2000 rows × 9 columns</p>\n",
       "</div>"
      ],
      "text/plain": [
       "            N           <x>           <y>           <R>         <x^2>  \\\n",
       "0           1 -3.173520e+00 -7.477680e+01  7.484410e+01  1.313890e+06   \n",
       "1        1000 -1.257940e+04  2.575550e+02  1.258210e+04  2.834890e+13   \n",
       "2        2000 -1.188740e+04  1.308220e+03  1.195920e+04  2.841370e+13   \n",
       "3        3000 -1.255340e+04  2.663260e+03  1.283280e+04  2.845070e+13   \n",
       "4        4000 -1.258720e+04  2.273300e+03  1.279080e+04  2.849590e+13   \n",
       "...       ...           ...           ...           ...           ...   \n",
       "1995  1995000 -4.299900e+06  5.449990e+08  5.450160e+08  8.014350e+18   \n",
       "1996  1996000 -4.308340e+06  5.449990e+08  5.450160e+08  8.014360e+18   \n",
       "1997  1997000 -4.307570e+06  5.450000e+08  5.450170e+08  8.014360e+18   \n",
       "1998  1998000 -4.307690e+06  5.449990e+08  5.450160e+08  8.014360e+18   \n",
       "1999  1999000 -4.308320e+06  5.450010e+08  5.450180e+08  8.014360e+18   \n",
       "\n",
       "             <y^2>        <Δx^2>        <Δy^2>        <ΔR^2>  \n",
       "0     5.880200e+08  1.313880e+06  5.880140e+08  5.893280e+08  \n",
       "1     1.654570e+11  2.834880e+13  1.654570e+11  2.851420e+13  \n",
       "2     2.625990e+11  2.841360e+13  2.625970e+11  2.867620e+13  \n",
       "3     9.868270e+11  2.845060e+13  9.868200e+11  2.943740e+13  \n",
       "4     1.042450e+12  2.849580e+13  1.042450e+12  2.953820e+13  \n",
       "...            ...           ...           ...           ...  \n",
       "1995  4.482210e+22  8.014340e+18  4.482180e+22  4.482980e+22  \n",
       "1996  4.482210e+22  8.014340e+18  4.482180e+22  4.482980e+22  \n",
       "1997  4.482210e+22  8.014340e+18  4.482180e+22  4.482980e+22  \n",
       "1998  4.482210e+22  8.014340e+18  4.482180e+22  4.482980e+22  \n",
       "1999  4.482210e+22  8.014340e+18  4.482180e+22  4.482980e+22  \n",
       "\n",
       "[2000 rows x 9 columns]"
      ]
     },
     "execution_count": 158,
     "metadata": {},
     "output_type": "execute_result"
    }
   ],
   "source": [
    "# data_calc.N += 1\n",
    "data_calc"
   ]
  },
  {
   "cell_type": "markdown",
   "id": "df0d3dce-d49e-47a5-9d69-f6f9cbd17147",
   "metadata": {},
   "source": [
    "## Апроксимация"
   ]
  },
  {
   "cell_type": "code",
   "execution_count": 168,
   "id": "f4e3a8f4-a8aa-4ccd-a3f1-7683c9cb5702",
   "metadata": {},
   "outputs": [],
   "source": [
    "index = 1800\n",
    "x = np.log10(data_calc['N'][:index])\n",
    "y = np.log10(data_calc['<ΔR^2>'][:index])"
   ]
  },
  {
   "cell_type": "code",
   "execution_count": 169,
   "id": "6b479324-14f0-432f-99ca-4442f2635be8",
   "metadata": {},
   "outputs": [
    {
     "name": "stdout",
     "output_type": "stream",
     "text": [
      "lg_mu: 2.0154238340008868, mu: 103.61528693581091\n"
     ]
    }
   ],
   "source": [
    "lg_mu = (y.mean()*(x**2).mean() - (x*y).mean()*x.mean())/((x**2).mean() - x.mean()**2)\n",
    "mu = 10**lg_mu\n",
    "print(f'lg_mu: {lg_mu}, mu: {mu}')"
   ]
  },
  {
   "cell_type": "code",
   "execution_count": 165,
   "id": "3b2e25ae-ceb6-4527-a392-643e4b3c3994",
   "metadata": {},
   "outputs": [
    {
     "name": "stdout",
     "output_type": "stream",
     "text": [
      "nu: 2.7568262129133467\n"
     ]
    }
   ],
   "source": [
    "nu = ((x*y).mean() - y.mean()*x.mean())/((x**2).mean() - x.mean()**2)\n",
    "print(f'nu: {nu}')"
   ]
  },
  {
   "cell_type": "code",
   "execution_count": 167,
   "id": "a8db68ad-835b-42a1-912d-9b72d2888c63",
   "metadata": {},
   "outputs": [
    {
     "data": {
      "image/png": "[encoded data removed]",
      "text/plain": [
       "<Figure size 640x480 with 2 Axes>"
      ]
     },
     "metadata": {},
     "output_type": "display_data"
    }
   ],
   "source": [
    "plt.figure()\n",
    "\n",
    "plt.subplot(2, 1, 1) \n",
    "\n",
    "x = np.log(data_calc['N'][:index])\n",
    "y = np.log(data_calc['<ΔR^2>'][:index])\n",
    "plt.title('В логарифмическом виде')\n",
    "plt.plot(x, y)\n",
    "plt.plot(x, lg_mu + nu * x,'k--', label='Аппроксимация')\n",
    "\n",
    "plt.subplot(2, 1, 2) \n",
    "N_list = data_calc['N'][:index]\n",
    "R2_list = data_calc['<ΔR^2>'][:index]\n",
    "plt.title('В натуральном виде')\n",
    "plt.plot(N_list, R2_list)\n",
    "plt.plot(N_list, mu*(N_list**nu),'k--', label='Аппроксимация')\n",
    "\n",
    "plt.tight_layout() \n",
    "plt.show()"
   ]
  },
  {
   "cell_type": "code",
   "execution_count": 170,
   "id": "7068d29d-2eb6-4ab9-a1ed-e7edea9b9381",
   "metadata": {},
   "outputs": [],
   "source": [
    "data_first_particle = pd.read_csv('../result_new/first_particle.csv',sep=' ', index_col=False)"
   ]
  },
  {
   "cell_type": "code",
   "execution_count": 171,
   "id": "1d5384e4-5050-4be0-8352-4ef5b5232a2b",
   "metadata": {},
   "outputs": [
    {
     "data": {
      "text/html": [
       "<div>\n",
       "<style scoped>\n",
       "    .dataframe tbody tr th:only-of-type {\n",
       "        vertical-align: middle;\n",
       "    }\n",
       "\n",
       "    .dataframe tbody tr th {\n",
       "        vertical-align: top;\n",
       "    }\n",
       "\n",
       "    .dataframe thead th {\n",
       "        text-align: right;\n",
       "    }\n",
       "</style>\n",
       "<table border=\"1\" class=\"dataframe\">\n",
       "  <thead>\n",
       "    <tr style=\"text-align: right;\">\n",
       "      <th></th>\n",
       "      <th>x</th>\n",
       "      <th>y</th>\n",
       "    </tr>\n",
       "  </thead>\n",
       "  <tbody>\n",
       "    <tr>\n",
       "      <th>0</th>\n",
       "      <td>0.000000e+00</td>\n",
       "      <td>-2.787590e+00</td>\n",
       "    </tr>\n",
       "    <tr>\n",
       "      <th>1</th>\n",
       "      <td>0.000000e+00</td>\n",
       "      <td>9.074600e+00</td>\n",
       "    </tr>\n",
       "    <tr>\n",
       "      <th>2</th>\n",
       "      <td>0.000000e+00</td>\n",
       "      <td>4.928220e+00</td>\n",
       "    </tr>\n",
       "    <tr>\n",
       "      <th>3</th>\n",
       "      <td>-4.820340e+00</td>\n",
       "      <td>4.928220e+00</td>\n",
       "    </tr>\n",
       "    <tr>\n",
       "      <th>4</th>\n",
       "      <td>-5.070020e+00</td>\n",
       "      <td>4.928220e+00</td>\n",
       "    </tr>\n",
       "    <tr>\n",
       "      <th>...</th>\n",
       "      <td>...</td>\n",
       "      <td>...</td>\n",
       "    </tr>\n",
       "    <tr>\n",
       "      <th>1999994</th>\n",
       "      <td>3.190510e+06</td>\n",
       "      <td>-1.594740e+06</td>\n",
       "    </tr>\n",
       "    <tr>\n",
       "      <th>1999995</th>\n",
       "      <td>3.190510e+06</td>\n",
       "      <td>-1.594740e+06</td>\n",
       "    </tr>\n",
       "    <tr>\n",
       "      <th>1999996</th>\n",
       "      <td>3.190510e+06</td>\n",
       "      <td>-1.594740e+06</td>\n",
       "    </tr>\n",
       "    <tr>\n",
       "      <th>1999997</th>\n",
       "      <td>3.190510e+06</td>\n",
       "      <td>-1.594750e+06</td>\n",
       "    </tr>\n",
       "    <tr>\n",
       "      <th>1999998</th>\n",
       "      <td>3.190510e+06</td>\n",
       "      <td>-1.594750e+06</td>\n",
       "    </tr>\n",
       "  </tbody>\n",
       "</table>\n",
       "<p>1999999 rows × 2 columns</p>\n",
       "</div>"
      ],
      "text/plain": [
       "                    x             y\n",
       "0        0.000000e+00 -2.787590e+00\n",
       "1        0.000000e+00  9.074600e+00\n",
       "2        0.000000e+00  4.928220e+00\n",
       "3       -4.820340e+00  4.928220e+00\n",
       "4       -5.070020e+00  4.928220e+00\n",
       "...               ...           ...\n",
       "1999994  3.190510e+06 -1.594740e+06\n",
       "1999995  3.190510e+06 -1.594740e+06\n",
       "1999996  3.190510e+06 -1.594740e+06\n",
       "1999997  3.190510e+06 -1.594750e+06\n",
       "1999998  3.190510e+06 -1.594750e+06\n",
       "\n",
       "[1999999 rows x 2 columns]"
      ]
     },
     "execution_count": 171,
     "metadata": {},
     "output_type": "execute_result"
    }
   ],
   "source": [
    "data_first_particle"
   ]
  },
  {
   "cell_type": "code",
   "execution_count": 172,
   "id": "a3ee8ffa-4e4b-4f94-b930-9c72ef4138fc",
   "metadata": {},
   "outputs": [
    {
     "data": {
      "text/plain": [
       "[<matplotlib.lines.Line2D at 0x178fa8079d0>]"
      ]
     },
     "execution_count": 172,
     "metadata": {},
     "output_type": "execute_result"
    },
    {
     "data": {
      "image/png": "[encoded data removed]",
      "text/plain": [
       "<Figure size 640x480 with 1 Axes>"
      ]
     },
     "metadata": {},
     "output_type": "display_data"
    }
   ],
   "source": [
    "plt.plot(data_first_particle.x,data_first_particle.y)"
   ]
  },
  {
   "cell_type": "code",
   "execution_count": 173,
   "id": "d3b78455-eb0a-4557-bd72-fb141cf6f10a",
   "metadata": {},
   "outputs": [],
   "source": [
    "data_last_vals = pd.read_csv('../result_new/last_vals.csv',sep=' ', index_col=False)"
   ]
  },
  {
   "cell_type": "code",
   "execution_count": 174,
   "id": "55140c25-fb6c-4fd0-be05-1606e0e539d2",
   "metadata": {},
   "outputs": [
    {
     "data": {
      "text/html": [
       "<div>\n",
       "<style scoped>\n",
       "    .dataframe tbody tr th:only-of-type {\n",
       "        vertical-align: middle;\n",
       "    }\n",
       "\n",
       "    .dataframe tbody tr th {\n",
       "        vertical-align: top;\n",
       "    }\n",
       "\n",
       "    .dataframe thead th {\n",
       "        text-align: right;\n",
       "    }\n",
       "</style>\n",
       "<table border=\"1\" class=\"dataframe\">\n",
       "  <thead>\n",
       "    <tr style=\"text-align: right;\">\n",
       "      <th></th>\n",
       "      <th>x</th>\n",
       "      <th>y</th>\n",
       "    </tr>\n",
       "  </thead>\n",
       "  <tbody>\n",
       "    <tr>\n",
       "      <th>0</th>\n",
       "      <td>3190510.0</td>\n",
       "      <td>-1594750.0</td>\n",
       "    </tr>\n",
       "    <tr>\n",
       "      <th>1</th>\n",
       "      <td>4460100.0</td>\n",
       "      <td>19459100.0</td>\n",
       "    </tr>\n",
       "    <tr>\n",
       "      <th>2</th>\n",
       "      <td>-1939400.0</td>\n",
       "      <td>-682322.0</td>\n",
       "    </tr>\n",
       "    <tr>\n",
       "      <th>3</th>\n",
       "      <td>1650350.0</td>\n",
       "      <td>-7355390.0</td>\n",
       "    </tr>\n",
       "    <tr>\n",
       "      <th>4</th>\n",
       "      <td>7269010.0</td>\n",
       "      <td>-3637330.0</td>\n",
       "    </tr>\n",
       "    <tr>\n",
       "      <th>...</th>\n",
       "      <td>...</td>\n",
       "      <td>...</td>\n",
       "    </tr>\n",
       "    <tr>\n",
       "      <th>149995</th>\n",
       "      <td>-2608940.0</td>\n",
       "      <td>-1095690.0</td>\n",
       "    </tr>\n",
       "    <tr>\n",
       "      <th>149996</th>\n",
       "      <td>1742090.0</td>\n",
       "      <td>1160570.0</td>\n",
       "    </tr>\n",
       "    <tr>\n",
       "      <th>149997</th>\n",
       "      <td>-9898000.0</td>\n",
       "      <td>3091490.0</td>\n",
       "    </tr>\n",
       "    <tr>\n",
       "      <th>149998</th>\n",
       "      <td>22980800.0</td>\n",
       "      <td>3153010.0</td>\n",
       "    </tr>\n",
       "    <tr>\n",
       "      <th>149999</th>\n",
       "      <td>299774.0</td>\n",
       "      <td>57424700.0</td>\n",
       "    </tr>\n",
       "  </tbody>\n",
       "</table>\n",
       "<p>150000 rows × 2 columns</p>\n",
       "</div>"
      ],
      "text/plain": [
       "                 x           y\n",
       "0        3190510.0  -1594750.0\n",
       "1        4460100.0  19459100.0\n",
       "2       -1939400.0   -682322.0\n",
       "3        1650350.0  -7355390.0\n",
       "4        7269010.0  -3637330.0\n",
       "...            ...         ...\n",
       "149995  -2608940.0  -1095690.0\n",
       "149996   1742090.0   1160570.0\n",
       "149997  -9898000.0   3091490.0\n",
       "149998  22980800.0   3153010.0\n",
       "149999    299774.0  57424700.0\n",
       "\n",
       "[150000 rows x 2 columns]"
      ]
     },
     "execution_count": 174,
     "metadata": {},
     "output_type": "execute_result"
    }
   ],
   "source": [
    "data_last_vals"
   ]
  },
  {
   "cell_type": "code",
   "execution_count": 175,
   "id": "6cb3b9b4-995b-4ea4-9549-872041d4c81e",
   "metadata": {},
   "outputs": [
    {
     "data": {
      "image/png": "[encoded data removed]",
      "text/plain": [
       "<Figure size 1000x400 with 2 Axes>"
      ]
     },
     "metadata": {},
     "output_type": "display_data"
    }
   ],
   "source": [
    "bin_cnt = 100\n",
    "bin_w = 1/bin_cnt\n",
    "_idx = 9\n",
    "plt.figure(figsize=(10, 4))\n",
    "plt.suptitle(f'Раcпределение частицы. N = {2e6}')\n",
    "\n",
    "plt.subplot(1,2,1)\n",
    "plt.hist(data_last_vals.x, bin_cnt, facecolor='r', density=True, label='E(X)', range=(-1e7, 1e7))\n",
    "plt.title(f'Вдоль Ox.')\n",
    "\n",
    "plt.subplot(1,2,2)\n",
    "plt.hist(data_last_vals.y, bin_cnt, facecolor='r', density=True, label='E(X)', range=(-1e7, 1e7))\n",
    "plt.title(f'Вдоль Oy.')\n",
    "\n",
    "plt.tight_layout()\n",
    "plt.show()"
   ]
  }
 ],
 "metadata": {
  "kernelspec": {
   "display_name": "Python 3 (ipykernel)",
   "language": "python",
   "name": "python3"
  },
  "language_info": {
   "codemirror_mode": {
    "name": "ipython",
    "version": 3
   },
   "file_extension": ".py",
   "mimetype": "text/x-python",
   "name": "python",
   "nbconvert_exporter": "python",
   "pygments_lexer": "ipython3",
   "version": "3.10.0"
  }
 },
 "nbformat": 4,
 "nbformat_minor": 5
}
