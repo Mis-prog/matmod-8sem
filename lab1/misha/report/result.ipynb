{
 "cells": [
  {
   "cell_type": "code",
   "execution_count": 1,
   "id": "5e49bfcc-d6d2-4a72-ad0c-e4672650a847",
   "metadata": {},
   "outputs": [],
   "source": [
    "import pandas as pd\n",
    "import matplotlib.pyplot as plt\n",
    "import numpy as np"
   ]
  },
  {
   "cell_type": "code",
   "execution_count": 2,
   "id": "4e5e05ac-e32d-43b5-90b4-a8fc01cfb6be",
   "metadata": {},
   "outputs": [],
   "source": [
    "data_calc = pd.read_csv('../result/other.txt',sep=' ', index_col=False,header=None)"
   ]
  },
  {
   "cell_type": "code",
   "execution_count": 3,
   "id": "1cbf7fa6-e5e4-4204-9c51-ae380710431d",
   "metadata": {},
   "outputs": [
    {
     "data": {
      "text/html": [
       "<div>\n",
       "<style scoped>\n",
       "    .dataframe tbody tr th:only-of-type {\n",
       "        vertical-align: middle;\n",
       "    }\n",
       "\n",
       "    .dataframe tbody tr th {\n",
       "        vertical-align: top;\n",
       "    }\n",
       "\n",
       "    .dataframe thead th {\n",
       "        text-align: right;\n",
       "    }\n",
       "</style>\n",
       "<table border=\"1\" class=\"dataframe\">\n",
       "  <thead>\n",
       "    <tr style=\"text-align: right;\">\n",
       "      <th></th>\n",
       "      <th>0</th>\n",
       "      <th>1</th>\n",
       "      <th>2</th>\n",
       "      <th>3</th>\n",
       "      <th>4</th>\n",
       "      <th>5</th>\n",
       "      <th>6</th>\n",
       "      <th>7</th>\n",
       "    </tr>\n",
       "  </thead>\n",
       "  <tbody>\n",
       "    <tr>\n",
       "      <th>0</th>\n",
       "      <td>-2.01082</td>\n",
       "      <td>-1.454550e-01</td>\n",
       "      <td>6.349360e+05</td>\n",
       "      <td>1.451260e+05</td>\n",
       "      <td>6.349320e+05</td>\n",
       "      <td>1.451260e+05</td>\n",
       "      <td>2.016070e+00</td>\n",
       "      <td>7.800590e+05</td>\n",
       "    </tr>\n",
       "    <tr>\n",
       "      <th>1</th>\n",
       "      <td>-4.01119</td>\n",
       "      <td>-3.337360e-01</td>\n",
       "      <td>1.593200e+06</td>\n",
       "      <td>3.596400e+05</td>\n",
       "      <td>1.593180e+06</td>\n",
       "      <td>3.596400e+05</td>\n",
       "      <td>4.025050e+00</td>\n",
       "      <td>1.952820e+06</td>\n",
       "    </tr>\n",
       "    <tr>\n",
       "      <th>2</th>\n",
       "      <td>-3.90658</td>\n",
       "      <td>-1.111670e+00</td>\n",
       "      <td>2.130790e+06</td>\n",
       "      <td>5.001290e+05</td>\n",
       "      <td>2.130770e+06</td>\n",
       "      <td>5.001280e+05</td>\n",
       "      <td>4.061670e+00</td>\n",
       "      <td>2.630900e+06</td>\n",
       "    </tr>\n",
       "    <tr>\n",
       "      <th>3</th>\n",
       "      <td>7.23139</td>\n",
       "      <td>-1.097170e+00</td>\n",
       "      <td>5.721910e+07</td>\n",
       "      <td>2.001380e+06</td>\n",
       "      <td>5.721900e+07</td>\n",
       "      <td>2.001370e+06</td>\n",
       "      <td>7.314150e+00</td>\n",
       "      <td>5.922040e+07</td>\n",
       "    </tr>\n",
       "    <tr>\n",
       "      <th>4</th>\n",
       "      <td>11.03330</td>\n",
       "      <td>-3.597770e-01</td>\n",
       "      <td>6.093500e+07</td>\n",
       "      <td>2.180950e+06</td>\n",
       "      <td>6.093490e+07</td>\n",
       "      <td>2.180950e+06</td>\n",
       "      <td>1.103920e+01</td>\n",
       "      <td>6.311580e+07</td>\n",
       "    </tr>\n",
       "    <tr>\n",
       "      <th>...</th>\n",
       "      <td>...</td>\n",
       "      <td>...</td>\n",
       "      <td>...</td>\n",
       "      <td>...</td>\n",
       "      <td>...</td>\n",
       "      <td>...</td>\n",
       "      <td>...</td>\n",
       "      <td>...</td>\n",
       "    </tr>\n",
       "    <tr>\n",
       "      <th>999995</th>\n",
       "      <td>458473.00000</td>\n",
       "      <td>-2.777830e+06</td>\n",
       "      <td>2.768690e+18</td>\n",
       "      <td>2.791870e+18</td>\n",
       "      <td>2.768690e+18</td>\n",
       "      <td>2.791860e+18</td>\n",
       "      <td>2.815410e+06</td>\n",
       "      <td>5.560550e+18</td>\n",
       "    </tr>\n",
       "    <tr>\n",
       "      <th>999996</th>\n",
       "      <td>458471.00000</td>\n",
       "      <td>-2.777830e+06</td>\n",
       "      <td>2.768690e+18</td>\n",
       "      <td>2.791870e+18</td>\n",
       "      <td>2.768690e+18</td>\n",
       "      <td>2.791860e+18</td>\n",
       "      <td>2.815410e+06</td>\n",
       "      <td>5.560550e+18</td>\n",
       "    </tr>\n",
       "    <tr>\n",
       "      <th>999997</th>\n",
       "      <td>458470.00000</td>\n",
       "      <td>-2.777830e+06</td>\n",
       "      <td>2.768690e+18</td>\n",
       "      <td>2.791870e+18</td>\n",
       "      <td>2.768690e+18</td>\n",
       "      <td>2.791860e+18</td>\n",
       "      <td>2.815410e+06</td>\n",
       "      <td>5.560550e+18</td>\n",
       "    </tr>\n",
       "    <tr>\n",
       "      <th>999998</th>\n",
       "      <td>458469.00000</td>\n",
       "      <td>-2.777830e+06</td>\n",
       "      <td>2.768690e+18</td>\n",
       "      <td>2.791870e+18</td>\n",
       "      <td>2.768690e+18</td>\n",
       "      <td>2.791860e+18</td>\n",
       "      <td>2.815410e+06</td>\n",
       "      <td>5.560550e+18</td>\n",
       "    </tr>\n",
       "    <tr>\n",
       "      <th>999999</th>\n",
       "      <td>458466.00000</td>\n",
       "      <td>-2.777830e+06</td>\n",
       "      <td>2.768690e+18</td>\n",
       "      <td>2.791870e+18</td>\n",
       "      <td>2.768690e+18</td>\n",
       "      <td>2.791860e+18</td>\n",
       "      <td>2.815410e+06</td>\n",
       "      <td>5.560550e+18</td>\n",
       "    </tr>\n",
       "  </tbody>\n",
       "</table>\n",
       "<p>1000000 rows × 8 columns</p>\n",
       "</div>"
      ],
      "text/plain": [
       "                   0             1             2             3             4  \\\n",
       "0           -2.01082 -1.454550e-01  6.349360e+05  1.451260e+05  6.349320e+05   \n",
       "1           -4.01119 -3.337360e-01  1.593200e+06  3.596400e+05  1.593180e+06   \n",
       "2           -3.90658 -1.111670e+00  2.130790e+06  5.001290e+05  2.130770e+06   \n",
       "3            7.23139 -1.097170e+00  5.721910e+07  2.001380e+06  5.721900e+07   \n",
       "4           11.03330 -3.597770e-01  6.093500e+07  2.180950e+06  6.093490e+07   \n",
       "...              ...           ...           ...           ...           ...   \n",
       "999995  458473.00000 -2.777830e+06  2.768690e+18  2.791870e+18  2.768690e+18   \n",
       "999996  458471.00000 -2.777830e+06  2.768690e+18  2.791870e+18  2.768690e+18   \n",
       "999997  458470.00000 -2.777830e+06  2.768690e+18  2.791870e+18  2.768690e+18   \n",
       "999998  458469.00000 -2.777830e+06  2.768690e+18  2.791870e+18  2.768690e+18   \n",
       "999999  458466.00000 -2.777830e+06  2.768690e+18  2.791870e+18  2.768690e+18   \n",
       "\n",
       "                   5             6             7  \n",
       "0       1.451260e+05  2.016070e+00  7.800590e+05  \n",
       "1       3.596400e+05  4.025050e+00  1.952820e+06  \n",
       "2       5.001280e+05  4.061670e+00  2.630900e+06  \n",
       "3       2.001370e+06  7.314150e+00  5.922040e+07  \n",
       "4       2.180950e+06  1.103920e+01  6.311580e+07  \n",
       "...              ...           ...           ...  \n",
       "999995  2.791860e+18  2.815410e+06  5.560550e+18  \n",
       "999996  2.791860e+18  2.815410e+06  5.560550e+18  \n",
       "999997  2.791860e+18  2.815410e+06  5.560550e+18  \n",
       "999998  2.791860e+18  2.815410e+06  5.560550e+18  \n",
       "999999  2.791860e+18  2.815410e+06  5.560550e+18  \n",
       "\n",
       "[1000000 rows x 8 columns]"
      ]
     },
     "execution_count": 3,
     "metadata": {},
     "output_type": "execute_result"
    }
   ],
   "source": [
    "# data_calc.N += 1\n",
    "data_calc"
   ]
  },
  {
   "cell_type": "code",
   "execution_count": 4,
   "id": "cda50e09-64b9-467a-8f14-2c8352105ebe",
   "metadata": {},
   "outputs": [
    {
     "data": {
      "text/plain": [
       "[<matplotlib.lines.Line2D at 0x7f16e8877730>]"
      ]
     },
     "execution_count": 4,
     "metadata": {},
     "output_type": "execute_result"
    },
    {
     "data": {
      "image/png": "[encoded data removed]",
      "text/plain": [
       "<Figure size 640x480 with 1 Axes>"
      ]
     },
     "metadata": {},
     "output_type": "display_data"
    }
   ],
   "source": [
    "x = np.linspace(1, len(data_calc[7]), num=len(data_calc[7]))  \n",
    "y = data_calc[7]\n",
    "plt.plot(np.log10(x),np.log10(y))"
   ]
  },
  {
   "cell_type": "markdown",
   "id": "df0d3dce-d49e-47a5-9d69-f6f9cbd17147",
   "metadata": {},
   "source": [
    "## Апроксимация"
   ]
  },
  {
   "cell_type": "code",
   "execution_count": 5,
   "id": "f4e3a8f4-a8aa-4ccd-a3f1-7683c9cb5702",
   "metadata": {},
   "outputs": [],
   "source": [
    "x = np.log10(np.linspace(1, len(data_calc[7]), num=len(data_calc[7])))  \n",
    "y = np.log10(data_calc[7])"
   ]
  },
  {
   "cell_type": "code",
   "execution_count": 6,
   "id": "6b479324-14f0-432f-99ca-4442f2635be8",
   "metadata": {},
   "outputs": [
    {
     "name": "stdout",
     "output_type": "stream",
     "text": [
      "lg_mu: 12.663359446344494, mu: 4606376652860.904\n"
     ]
    }
   ],
   "source": [
    "lg_mu = (y.mean()*(x**2).mean() - (x*y).mean()*x.mean())/((x**2).mean() - x.mean()**2)\n",
    "mu = 10**lg_mu\n",
    "print(f'lg_mu: {lg_mu}, mu: {mu}')"
   ]
  },
  {
   "cell_type": "code",
   "execution_count": 7,
   "id": "3b2e25ae-ceb6-4527-a392-643e4b3c3994",
   "metadata": {},
   "outputs": [
    {
     "name": "stdout",
     "output_type": "stream",
     "text": [
      "nu: 1.0142871842158756\n"
     ]
    }
   ],
   "source": [
    "nu = ((x*y).mean() - y.mean()*x.mean())/((x**2).mean() - x.mean()**2)\n",
    "print(f'nu: {nu}')"
   ]
  },
  {
   "cell_type": "code",
   "execution_count": 8,
   "id": "a8db68ad-835b-42a1-912d-9b72d2888c63",
   "metadata": {},
   "outputs": [
    {
     "data": {
      "image/png": "[encoded data removed]",
      "text/plain": [
       "<Figure size 640x480 with 2 Axes>"
      ]
     },
     "metadata": {},
     "output_type": "display_data"
    }
   ],
   "source": [
    "plt.figure()\n",
    "\n",
    "plt.subplot(2, 1, 1) \n",
    "\n",
    "x = np.log10(np.linspace(1, len(data_calc[7]), num=len(data_calc[7])))  \n",
    "y = np.log10(data_calc[7])\n",
    "plt.title('В логарифмическом виде')\n",
    "plt.plot(x, y)\n",
    "plt.plot(x, lg_mu + nu * x,'k--', label='Аппроксимация')\n",
    "\n",
    "plt.subplot(2, 1, 2) \n",
    "x = np.linspace(1, len(data_calc[7]), num=len(data_calc[7]))  \n",
    "y = data_calc[7]\n",
    "plt.title('В натуральном виде')\n",
    "plt.plot(x, y)\n",
    "plt.plot(x, mu*(x**nu),'k--', label='Аппроксимация')\n",
    "\n",
    "plt.tight_layout() \n",
    "plt.show()"
   ]
  },
  {
   "cell_type": "code",
   "execution_count": 14,
   "id": "7068d29d-2eb6-4ab9-a1ed-e7edea9b9381",
   "metadata": {
    "scrolled": true
   },
   "outputs": [],
   "source": [
    "data_first_particle = pd.read_csv('../result/trajectory.txt',sep=' ', index_col=False,header=None)"
   ]
  },
  {
   "cell_type": "code",
   "execution_count": 15,
   "id": "1d5384e4-5050-4be0-8352-4ef5b5232a2b",
   "metadata": {},
   "outputs": [
    {
     "data": {
      "text/html": [
       "<div>\n",
       "<style scoped>\n",
       "    .dataframe tbody tr th:only-of-type {\n",
       "        vertical-align: middle;\n",
       "    }\n",
       "\n",
       "    .dataframe tbody tr th {\n",
       "        vertical-align: top;\n",
       "    }\n",
       "\n",
       "    .dataframe thead th {\n",
       "        text-align: right;\n",
       "    }\n",
       "</style>\n",
       "<table border=\"1\" class=\"dataframe\">\n",
       "  <thead>\n",
       "    <tr style=\"text-align: right;\">\n",
       "      <th></th>\n",
       "      <th>0</th>\n",
       "      <th>1</th>\n",
       "    </tr>\n",
       "  </thead>\n",
       "  <tbody>\n",
       "    <tr>\n",
       "      <th>0</th>\n",
       "      <td>5.215510e+00</td>\n",
       "      <td>0.000</td>\n",
       "    </tr>\n",
       "    <tr>\n",
       "      <th>1</th>\n",
       "      <td>5.215510e+00</td>\n",
       "      <td>-161.292</td>\n",
       "    </tr>\n",
       "    <tr>\n",
       "      <th>2</th>\n",
       "      <td>5.215510e+00</td>\n",
       "      <td>-160.423</td>\n",
       "    </tr>\n",
       "    <tr>\n",
       "      <th>3</th>\n",
       "      <td>5.215510e+00</td>\n",
       "      <td>-169.722</td>\n",
       "    </tr>\n",
       "    <tr>\n",
       "      <th>4</th>\n",
       "      <td>-3.493200e+02</td>\n",
       "      <td>-169.722</td>\n",
       "    </tr>\n",
       "    <tr>\n",
       "      <th>...</th>\n",
       "      <td>...</td>\n",
       "      <td>...</td>\n",
       "    </tr>\n",
       "    <tr>\n",
       "      <th>999995</th>\n",
       "      <td>-1.225070e+06</td>\n",
       "      <td>-1191270.000</td>\n",
       "    </tr>\n",
       "    <tr>\n",
       "      <th>999996</th>\n",
       "      <td>-1.225070e+06</td>\n",
       "      <td>-1191270.000</td>\n",
       "    </tr>\n",
       "    <tr>\n",
       "      <th>999997</th>\n",
       "      <td>-1.225070e+06</td>\n",
       "      <td>-1191270.000</td>\n",
       "    </tr>\n",
       "    <tr>\n",
       "      <th>999998</th>\n",
       "      <td>-1.225070e+06</td>\n",
       "      <td>-1191270.000</td>\n",
       "    </tr>\n",
       "    <tr>\n",
       "      <th>999999</th>\n",
       "      <td>-1.225080e+06</td>\n",
       "      <td>-1191270.000</td>\n",
       "    </tr>\n",
       "  </tbody>\n",
       "</table>\n",
       "<p>1000000 rows × 2 columns</p>\n",
       "</div>"
      ],
      "text/plain": [
       "                   0            1\n",
       "0       5.215510e+00        0.000\n",
       "1       5.215510e+00     -161.292\n",
       "2       5.215510e+00     -160.423\n",
       "3       5.215510e+00     -169.722\n",
       "4      -3.493200e+02     -169.722\n",
       "...              ...          ...\n",
       "999995 -1.225070e+06 -1191270.000\n",
       "999996 -1.225070e+06 -1191270.000\n",
       "999997 -1.225070e+06 -1191270.000\n",
       "999998 -1.225070e+06 -1191270.000\n",
       "999999 -1.225080e+06 -1191270.000\n",
       "\n",
       "[1000000 rows x 2 columns]"
      ]
     },
     "execution_count": 15,
     "metadata": {},
     "output_type": "execute_result"
    }
   ],
   "source": [
    "data_first_particle"
   ]
  },
  {
   "cell_type": "code",
   "execution_count": 16,
   "id": "a3ee8ffa-4e4b-4f94-b930-9c72ef4138fc",
   "metadata": {},
   "outputs": [
    {
     "data": {
      "text/plain": [
       "[<matplotlib.lines.Line2D at 0x7f16df975240>]"
      ]
     },
     "execution_count": 16,
     "metadata": {},
     "output_type": "execute_result"
    },
    {
     "data": {
      "image/png": "[encoded data removed]",
      "text/plain": [
       "<Figure size 640x480 with 1 Axes>"
      ]
     },
     "metadata": {},
     "output_type": "display_data"
    }
   ],
   "source": [
    "plt.plot(data_first_particle[0],data_first_particle[1])"
   ]
  },
  {
   "cell_type": "code",
   "execution_count": 19,
   "id": "d3b78455-eb0a-4557-bd72-fb141cf6f10a",
   "metadata": {},
   "outputs": [],
   "source": [
    "data_last_vals = pd.read_csv('../result/result.txt',sep=' ', index_col=False, header=None)"
   ]
  },
  {
   "cell_type": "code",
   "execution_count": 20,
   "id": "55140c25-fb6c-4fd0-be05-1606e0e539d2",
   "metadata": {},
   "outputs": [
    {
     "data": {
      "text/html": [
       "<div>\n",
       "<style scoped>\n",
       "    .dataframe tbody tr th:only-of-type {\n",
       "        vertical-align: middle;\n",
       "    }\n",
       "\n",
       "    .dataframe tbody tr th {\n",
       "        vertical-align: top;\n",
       "    }\n",
       "\n",
       "    .dataframe thead th {\n",
       "        text-align: right;\n",
       "    }\n",
       "</style>\n",
       "<table border=\"1\" class=\"dataframe\">\n",
       "  <thead>\n",
       "    <tr style=\"text-align: right;\">\n",
       "      <th></th>\n",
       "      <th>0</th>\n",
       "      <th>1</th>\n",
       "    </tr>\n",
       "  </thead>\n",
       "  <tbody>\n",
       "    <tr>\n",
       "      <th>0</th>\n",
       "      <td>-1225080.0</td>\n",
       "      <td>-1191270.0</td>\n",
       "    </tr>\n",
       "    <tr>\n",
       "      <th>1</th>\n",
       "      <td>301971.0</td>\n",
       "      <td>-2026390.0</td>\n",
       "    </tr>\n",
       "    <tr>\n",
       "      <th>2</th>\n",
       "      <td>1137080.0</td>\n",
       "      <td>16870.8</td>\n",
       "    </tr>\n",
       "    <tr>\n",
       "      <th>3</th>\n",
       "      <td>-719956.0</td>\n",
       "      <td>2973040.0</td>\n",
       "    </tr>\n",
       "    <tr>\n",
       "      <th>4</th>\n",
       "      <td>1815710.0</td>\n",
       "      <td>-1809720.0</td>\n",
       "    </tr>\n",
       "    <tr>\n",
       "      <th>...</th>\n",
       "      <td>...</td>\n",
       "      <td>...</td>\n",
       "    </tr>\n",
       "    <tr>\n",
       "      <th>499995</th>\n",
       "      <td>-2034190.0</td>\n",
       "      <td>-571307.0</td>\n",
       "    </tr>\n",
       "    <tr>\n",
       "      <th>499996</th>\n",
       "      <td>1875640.0</td>\n",
       "      <td>-204443.0</td>\n",
       "    </tr>\n",
       "    <tr>\n",
       "      <th>499997</th>\n",
       "      <td>-2177470.0</td>\n",
       "      <td>-887277.0</td>\n",
       "    </tr>\n",
       "    <tr>\n",
       "      <th>499998</th>\n",
       "      <td>148642.0</td>\n",
       "      <td>24480.5</td>\n",
       "    </tr>\n",
       "    <tr>\n",
       "      <th>499999</th>\n",
       "      <td>-2769810.0</td>\n",
       "      <td>-131178.0</td>\n",
       "    </tr>\n",
       "  </tbody>\n",
       "</table>\n",
       "<p>500000 rows × 2 columns</p>\n",
       "</div>"
      ],
      "text/plain": [
       "                0          1\n",
       "0      -1225080.0 -1191270.0\n",
       "1        301971.0 -2026390.0\n",
       "2       1137080.0    16870.8\n",
       "3       -719956.0  2973040.0\n",
       "4       1815710.0 -1809720.0\n",
       "...           ...        ...\n",
       "499995 -2034190.0  -571307.0\n",
       "499996  1875640.0  -204443.0\n",
       "499997 -2177470.0  -887277.0\n",
       "499998   148642.0    24480.5\n",
       "499999 -2769810.0  -131178.0\n",
       "\n",
       "[500000 rows x 2 columns]"
      ]
     },
     "execution_count": 20,
     "metadata": {},
     "output_type": "execute_result"
    }
   ],
   "source": [
    "data_last_vals"
   ]
  },
  {
   "cell_type": "code",
   "execution_count": 21,
   "id": "6cb3b9b4-995b-4ea4-9549-872041d4c81e",
   "metadata": {},
   "outputs": [
    {
     "data": {
      "image/png": "[encoded data removed]",
      "text/plain": [
       "<Figure size 1000x400 with 2 Axes>"
      ]
     },
     "metadata": {},
     "output_type": "display_data"
    }
   ],
   "source": [
    "bin_cnt = 100\n",
    "bin_w = 1/bin_cnt\n",
    "_idx = 9\n",
    "plt.figure(figsize=(10, 4))\n",
    "plt.suptitle(f'Раcпределение частицы. N = {2e6}')\n",
    "\n",
    "plt.subplot(1,2,1)\n",
    "plt.hist(data_last_vals[0], bin_cnt, facecolor='r', density=True, label='E(X)', range=(-1e7, 1e7))\n",
    "plt.title(f'Вдоль Ox.')\n",
    "\n",
    "plt.subplot(1,2,2)\n",
    "plt.hist(data_last_vals[1], bin_cnt, facecolor='r', density=True, label='E(X)', range=(-1e7, 1e7))\n",
    "plt.title(f'Вдоль Oy.')\n",
    "\n",
    "plt.tight_layout()\n",
    "plt.show()"
   ]
  },
  {
   "cell_type": "code",
   "execution_count": null,
   "id": "fa26f78f-7c32-47c5-b683-7e6ed8c3c3b2",
   "metadata": {},
   "outputs": [],
   "source": []
  }
 ],
 "metadata": {
  "kernelspec": {
   "display_name": "Python 3 (ipykernel)",
   "language": "python",
   "name": "python3"
  },
  "language_info": {
   "codemirror_mode": {
    "name": "ipython",
    "version": 3
   },
   "file_extension": ".py",
   "mimetype": "text/x-python",
   "name": "python",
   "nbconvert_exporter": "python",
   "pygments_lexer": "ipython3",
   "version": "3.10.12"
  }
 },
 "nbformat": 4,
 "nbformat_minor": 5
}
