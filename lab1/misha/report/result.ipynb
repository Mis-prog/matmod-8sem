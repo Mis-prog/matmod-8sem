{
 "cells": [
  {
   "cell_type": "code",
   "execution_count": 1,
   "id": "5e49bfcc-d6d2-4a72-ad0c-e4672650a847",
   "metadata": {},
   "outputs": [],
   "source": [
    "import pandas as pd\n",
    "import matplotlib.pyplot as plt"
   ]
  },
  {
   "cell_type": "code",
   "execution_count": 21,
   "id": "4e5e05ac-e32d-43b5-90b4-a8fc01cfb6be",
   "metadata": {},
   "outputs": [],
   "source": [
    "data_calc = pd.read_csv('../result/calc.csv',sep=' ', index_col=False)"
   ]
  },
  {
   "cell_type": "code",
   "execution_count": 22,
   "id": "1cbf7fa6-e5e4-4204-9c51-ae380710431d",
   "metadata": {},
   "outputs": [
    {
     "data": {
      "text/html": [
       "<div>\n",
       "<style scoped>\n",
       "    .dataframe tbody tr th:only-of-type {\n",
       "        vertical-align: middle;\n",
       "    }\n",
       "\n",
       "    .dataframe tbody tr th {\n",
       "        vertical-align: top;\n",
       "    }\n",
       "\n",
       "    .dataframe thead th {\n",
       "        text-align: right;\n",
       "    }\n",
       "</style>\n",
       "<table border=\"1\" class=\"dataframe\">\n",
       "  <thead>\n",
       "    <tr style=\"text-align: right;\">\n",
       "      <th></th>\n",
       "      <th>N</th>\n",
       "      <th>&lt;x&gt;</th>\n",
       "      <th>&lt;y&gt;</th>\n",
       "      <th>&lt;R&gt;</th>\n",
       "      <th>&lt;x^2&gt;</th>\n",
       "      <th>&lt;y^2&gt;</th>\n",
       "      <th>&lt;Δx^2&gt;</th>\n",
       "      <th>&lt;Δy^2&gt;</th>\n",
       "      <th>&lt;ΔR^2&gt;</th>\n",
       "    </tr>\n",
       "  </thead>\n",
       "  <tbody>\n",
       "    <tr>\n",
       "      <th>0</th>\n",
       "      <td>0</td>\n",
       "      <td>-0.946723</td>\n",
       "      <td>0.563538</td>\n",
       "      <td>1.10175</td>\n",
       "      <td>2.423790e+04</td>\n",
       "      <td>1.161930e+05</td>\n",
       "      <td>2.423700e+04</td>\n",
       "      <td>1.161920e+05</td>\n",
       "      <td>1.404290e+05</td>\n",
       "    </tr>\n",
       "    <tr>\n",
       "      <th>1</th>\n",
       "      <td>1</td>\n",
       "      <td>-1.834390</td>\n",
       "      <td>-0.712716</td>\n",
       "      <td>1.96798</td>\n",
       "      <td>1.081220e+05</td>\n",
       "      <td>2.457680e+05</td>\n",
       "      <td>1.081180e+05</td>\n",
       "      <td>2.457670e+05</td>\n",
       "      <td>3.538860e+05</td>\n",
       "    </tr>\n",
       "    <tr>\n",
       "      <th>2</th>\n",
       "      <td>2</td>\n",
       "      <td>2.784620</td>\n",
       "      <td>1.346660</td>\n",
       "      <td>3.09315</td>\n",
       "      <td>8.157460e+05</td>\n",
       "      <td>1.053960e+06</td>\n",
       "      <td>8.157380e+05</td>\n",
       "      <td>1.053960e+06</td>\n",
       "      <td>1.869700e+06</td>\n",
       "    </tr>\n",
       "    <tr>\n",
       "      <th>3</th>\n",
       "      <td>3</td>\n",
       "      <td>5.506060</td>\n",
       "      <td>-0.504492</td>\n",
       "      <td>5.52912</td>\n",
       "      <td>1.139190e+06</td>\n",
       "      <td>1.202440e+06</td>\n",
       "      <td>1.139160e+06</td>\n",
       "      <td>1.202440e+06</td>\n",
       "      <td>2.341590e+06</td>\n",
       "    </tr>\n",
       "    <tr>\n",
       "      <th>4</th>\n",
       "      <td>4</td>\n",
       "      <td>7.055090</td>\n",
       "      <td>-0.484309</td>\n",
       "      <td>7.07170</td>\n",
       "      <td>1.218100e+06</td>\n",
       "      <td>1.433250e+06</td>\n",
       "      <td>1.218060e+06</td>\n",
       "      <td>1.433250e+06</td>\n",
       "      <td>2.651310e+06</td>\n",
       "    </tr>\n",
       "    <tr>\n",
       "      <th>...</th>\n",
       "      <td>...</td>\n",
       "      <td>...</td>\n",
       "      <td>...</td>\n",
       "      <td>...</td>\n",
       "      <td>...</td>\n",
       "      <td>...</td>\n",
       "      <td>...</td>\n",
       "      <td>...</td>\n",
       "      <td>...</td>\n",
       "    </tr>\n",
       "    <tr>\n",
       "      <th>9447</th>\n",
       "      <td>9447</td>\n",
       "      <td>-4698.020000</td>\n",
       "      <td>-2365.070000</td>\n",
       "      <td>5259.75000</td>\n",
       "      <td>3.790110e+12</td>\n",
       "      <td>2.609020e+12</td>\n",
       "      <td>3.790090e+12</td>\n",
       "      <td>2.609010e+12</td>\n",
       "      <td>6.399100e+12</td>\n",
       "    </tr>\n",
       "    <tr>\n",
       "      <th>9448</th>\n",
       "      <td>9448</td>\n",
       "      <td>-4697.940000</td>\n",
       "      <td>-2364.280000</td>\n",
       "      <td>5259.32000</td>\n",
       "      <td>3.790110e+12</td>\n",
       "      <td>2.609020e+12</td>\n",
       "      <td>3.790090e+12</td>\n",
       "      <td>2.609010e+12</td>\n",
       "      <td>6.399100e+12</td>\n",
       "    </tr>\n",
       "    <tr>\n",
       "      <th>9449</th>\n",
       "      <td>9449</td>\n",
       "      <td>-4697.480000</td>\n",
       "      <td>-2364.610000</td>\n",
       "      <td>5259.06000</td>\n",
       "      <td>3.790110e+12</td>\n",
       "      <td>2.609020e+12</td>\n",
       "      <td>3.790090e+12</td>\n",
       "      <td>2.609010e+12</td>\n",
       "      <td>6.399100e+12</td>\n",
       "    </tr>\n",
       "    <tr>\n",
       "      <th>9450</th>\n",
       "      <td>9450</td>\n",
       "      <td>-4697.300000</td>\n",
       "      <td>-2365.620000</td>\n",
       "      <td>5259.35000</td>\n",
       "      <td>3.790110e+12</td>\n",
       "      <td>2.609020e+12</td>\n",
       "      <td>3.790090e+12</td>\n",
       "      <td>2.609010e+12</td>\n",
       "      <td>6.399100e+12</td>\n",
       "    </tr>\n",
       "    <tr>\n",
       "      <th>9451</th>\n",
       "      <td>9451</td>\n",
       "      <td>-4698.690000</td>\n",
       "      <td>-2365.370000</td>\n",
       "      <td>5260.48000</td>\n",
       "      <td>3.790110e+12</td>\n",
       "      <td>2.609020e+12</td>\n",
       "      <td>3.790090e+12</td>\n",
       "      <td>2.609010e+12</td>\n",
       "      <td>6.399100e+12</td>\n",
       "    </tr>\n",
       "  </tbody>\n",
       "</table>\n",
       "<p>9452 rows × 9 columns</p>\n",
       "</div>"
      ],
      "text/plain": [
       "         N          <x>          <y>         <R>         <x^2>         <y^2>  \\\n",
       "0        0    -0.946723     0.563538     1.10175  2.423790e+04  1.161930e+05   \n",
       "1        1    -1.834390    -0.712716     1.96798  1.081220e+05  2.457680e+05   \n",
       "2        2     2.784620     1.346660     3.09315  8.157460e+05  1.053960e+06   \n",
       "3        3     5.506060    -0.504492     5.52912  1.139190e+06  1.202440e+06   \n",
       "4        4     7.055090    -0.484309     7.07170  1.218100e+06  1.433250e+06   \n",
       "...    ...          ...          ...         ...           ...           ...   \n",
       "9447  9447 -4698.020000 -2365.070000  5259.75000  3.790110e+12  2.609020e+12   \n",
       "9448  9448 -4697.940000 -2364.280000  5259.32000  3.790110e+12  2.609020e+12   \n",
       "9449  9449 -4697.480000 -2364.610000  5259.06000  3.790110e+12  2.609020e+12   \n",
       "9450  9450 -4697.300000 -2365.620000  5259.35000  3.790110e+12  2.609020e+12   \n",
       "9451  9451 -4698.690000 -2365.370000  5260.48000  3.790110e+12  2.609020e+12   \n",
       "\n",
       "            <Δx^2>        <Δy^2>        <ΔR^2>  \n",
       "0     2.423700e+04  1.161920e+05  1.404290e+05  \n",
       "1     1.081180e+05  2.457670e+05  3.538860e+05  \n",
       "2     8.157380e+05  1.053960e+06  1.869700e+06  \n",
       "3     1.139160e+06  1.202440e+06  2.341590e+06  \n",
       "4     1.218060e+06  1.433250e+06  2.651310e+06  \n",
       "...            ...           ...           ...  \n",
       "9447  3.790090e+12  2.609010e+12  6.399100e+12  \n",
       "9448  3.790090e+12  2.609010e+12  6.399100e+12  \n",
       "9449  3.790090e+12  2.609010e+12  6.399100e+12  \n",
       "9450  3.790090e+12  2.609010e+12  6.399100e+12  \n",
       "9451  3.790090e+12  2.609010e+12  6.399100e+12  \n",
       "\n",
       "[9452 rows x 9 columns]"
      ]
     },
     "execution_count": 22,
     "metadata": {},
     "output_type": "execute_result"
    }
   ],
   "source": [
    "data_calc"
   ]
  },
  {
   "cell_type": "code",
   "execution_count": 23,
   "id": "b7a7ecfa-c500-499f-988a-d48e55183b03",
   "metadata": {},
   "outputs": [
    {
     "data": {
      "text/plain": [
       "[<matplotlib.lines.Line2D at 0x261948f55d0>]"
      ]
     },
     "execution_count": 23,
     "metadata": {},
     "output_type": "execute_result"
    },
    {
     "data": {
      "image/png": "[encoded data removed]",
      "text/plain": [
       "<Figure size 640x480 with 1 Axes>"
      ]
     },
     "metadata": {},
     "output_type": "display_data"
    }
   ],
   "source": [
    "plt.plot(data_calc['<ΔR^2>'])"
   ]
  },
  {
   "cell_type": "code",
   "execution_count": 24,
   "id": "7068d29d-2eb6-4ab9-a1ed-e7edea9b9381",
   "metadata": {},
   "outputs": [],
   "source": [
    "data_first_particle = pd.read_csv('../result/first_particle.csv',sep=' ', index_col=False)"
   ]
  },
  {
   "cell_type": "code",
   "execution_count": 25,
   "id": "1d5384e4-5050-4be0-8352-4ef5b5232a2b",
   "metadata": {},
   "outputs": [
    {
     "data": {
      "text/html": [
       "<div>\n",
       "<style scoped>\n",
       "    .dataframe tbody tr th:only-of-type {\n",
       "        vertical-align: middle;\n",
       "    }\n",
       "\n",
       "    .dataframe tbody tr th {\n",
       "        vertical-align: top;\n",
       "    }\n",
       "\n",
       "    .dataframe thead th {\n",
       "        text-align: right;\n",
       "    }\n",
       "</style>\n",
       "<table border=\"1\" class=\"dataframe\">\n",
       "  <thead>\n",
       "    <tr style=\"text-align: right;\">\n",
       "      <th></th>\n",
       "      <th>x</th>\n",
       "      <th>y</th>\n",
       "    </tr>\n",
       "  </thead>\n",
       "  <tbody>\n",
       "    <tr>\n",
       "      <th>0</th>\n",
       "      <td>1.23170</td>\n",
       "      <td>0.000000</td>\n",
       "    </tr>\n",
       "    <tr>\n",
       "      <th>1</th>\n",
       "      <td>1.23170</td>\n",
       "      <td>0.540713</td>\n",
       "    </tr>\n",
       "    <tr>\n",
       "      <th>2</th>\n",
       "      <td>5.97785</td>\n",
       "      <td>0.540713</td>\n",
       "    </tr>\n",
       "    <tr>\n",
       "      <th>3</th>\n",
       "      <td>0.84466</td>\n",
       "      <td>0.540713</td>\n",
       "    </tr>\n",
       "    <tr>\n",
       "      <th>4</th>\n",
       "      <td>0.84466</td>\n",
       "      <td>4.189140</td>\n",
       "    </tr>\n",
       "    <tr>\n",
       "      <th>...</th>\n",
       "      <td>...</td>\n",
       "      <td>...</td>\n",
       "    </tr>\n",
       "    <tr>\n",
       "      <th>9447</th>\n",
       "      <td>2101.54000</td>\n",
       "      <td>41905.400000</td>\n",
       "    </tr>\n",
       "    <tr>\n",
       "      <th>9448</th>\n",
       "      <td>2100.44000</td>\n",
       "      <td>41905.400000</td>\n",
       "    </tr>\n",
       "    <tr>\n",
       "      <th>9449</th>\n",
       "      <td>2090.10000</td>\n",
       "      <td>41905.400000</td>\n",
       "    </tr>\n",
       "    <tr>\n",
       "      <th>9450</th>\n",
       "      <td>2090.10000</td>\n",
       "      <td>41905.000000</td>\n",
       "    </tr>\n",
       "    <tr>\n",
       "      <th>9451</th>\n",
       "      <td>2090.10000</td>\n",
       "      <td>41903.500000</td>\n",
       "    </tr>\n",
       "  </tbody>\n",
       "</table>\n",
       "<p>9452 rows × 2 columns</p>\n",
       "</div>"
      ],
      "text/plain": [
       "               x             y\n",
       "0        1.23170      0.000000\n",
       "1        1.23170      0.540713\n",
       "2        5.97785      0.540713\n",
       "3        0.84466      0.540713\n",
       "4        0.84466      4.189140\n",
       "...          ...           ...\n",
       "9447  2101.54000  41905.400000\n",
       "9448  2100.44000  41905.400000\n",
       "9449  2090.10000  41905.400000\n",
       "9450  2090.10000  41905.000000\n",
       "9451  2090.10000  41903.500000\n",
       "\n",
       "[9452 rows x 2 columns]"
      ]
     },
     "execution_count": 25,
     "metadata": {},
     "output_type": "execute_result"
    }
   ],
   "source": [
    "data_first_particle"
   ]
  },
  {
   "cell_type": "code",
   "execution_count": 26,
   "id": "a3ee8ffa-4e4b-4f94-b930-9c72ef4138fc",
   "metadata": {},
   "outputs": [
    {
     "data": {
      "text/plain": [
       "[<matplotlib.lines.Line2D at 0x26195ac2560>]"
      ]
     },
     "execution_count": 26,
     "metadata": {},
     "output_type": "execute_result"
    },
    {
     "data": {
      "image/png": "[encoded data removed]",
      "text/plain": [
       "<Figure size 640x480 with 1 Axes>"
      ]
     },
     "metadata": {},
     "output_type": "display_data"
    }
   ],
   "source": [
    "plt.plot(data_first_particle.x,data_first_particle.y)"
   ]
  },
  {
   "cell_type": "code",
   "execution_count": 28,
   "id": "6cb3b9b4-995b-4ea4-9549-872041d4c81e",
   "metadata": {},
   "outputs": [
    {
     "data": {
      "image/png": "[encoded data removed]",
      "text/plain": [
       "<Figure size 1000x400 with 2 Axes>"
      ]
     },
     "metadata": {},
     "output_type": "display_data"
    }
   ],
   "source": [
    "bin_cnt = 100\n",
    "bin_w = 1/bin_cnt\n",
    "_idx = 9\n",
    "plt.figure(figsize=(10, 4))\n",
    "plt.suptitle(f'Раcпределение частиц. N = {len(data_first_particle.x)}.')\n",
    "\n",
    "plt.subplot(1,2,1)\n",
    "plt.hist(data_first_particle.x, bin_cnt, facecolor='r', density=True, label='E(X)', range=(-1e5, 1e5))\n",
    "plt.title(f'Вдоль Ox.')\n",
    "\n",
    "plt.subplot(1,2,2)\n",
    "plt.hist(data_first_particle.y, bin_cnt, facecolor='r', density=True, label='E(X)', range=(-1e5, 1e5))\n",
    "plt.title(f'Вдоль Oy.')\n",
    "\n",
    "plt.tight_layout()\n",
    "plt.show()"
   ]
  },
  {
   "cell_type": "code",
   "execution_count": null,
   "id": "506fb129-feb7-41d6-8b44-a2534fb71d35",
   "metadata": {},
   "outputs": [],
   "source": []
  }
 ],
 "metadata": {
  "kernelspec": {
   "display_name": "Python 3 (ipykernel)",
   "language": "python",
   "name": "python3"
  },
  "language_info": {
   "codemirror_mode": {
    "name": "ipython",
    "version": 3
   },
   "file_extension": ".py",
   "mimetype": "text/x-python",
   "name": "python",
   "nbconvert_exporter": "python",
   "pygments_lexer": "ipython3",
   "version": "3.10.0"
  }
 },
 "nbformat": 4,
 "nbformat_minor": 5
}
