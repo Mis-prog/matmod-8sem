{
 "cells": [
  {
   "cell_type": "code",
   "execution_count": 1,
   "id": "5e49bfcc-d6d2-4a72-ad0c-e4672650a847",
   "metadata": {},
   "outputs": [],
   "source": [
    "import pandas as pd\n",
    "import matplotlib.pyplot as plt\n",
    "import numpy as np"
   ]
  },
  {
   "cell_type": "code",
   "execution_count": 2,
   "id": "4e5e05ac-e32d-43b5-90b4-a8fc01cfb6be",
   "metadata": {},
   "outputs": [],
   "source": [
    "data_calc = pd.read_csv('../result-1e6×1e6/calc.csv',sep=' ', index_col=False)"
   ]
  },
  {
   "cell_type": "code",
   "execution_count": 3,
   "id": "1cbf7fa6-e5e4-4204-9c51-ae380710431d",
   "metadata": {},
   "outputs": [
    {
     "data": {
      "text/html": [
       "<div>\n",
       "<style scoped>\n",
       "    .dataframe tbody tr th:only-of-type {\n",
       "        vertical-align: middle;\n",
       "    }\n",
       "\n",
       "    .dataframe tbody tr th {\n",
       "        vertical-align: top;\n",
       "    }\n",
       "\n",
       "    .dataframe thead th {\n",
       "        text-align: right;\n",
       "    }\n",
       "</style>\n",
       "<table border=\"1\" class=\"dataframe\">\n",
       "  <thead>\n",
       "    <tr style=\"text-align: right;\">\n",
       "      <th></th>\n",
       "      <th>N</th>\n",
       "      <th>&lt;x&gt;</th>\n",
       "      <th>&lt;y&gt;</th>\n",
       "      <th>&lt;R&gt;</th>\n",
       "      <th>&lt;x^2&gt;</th>\n",
       "      <th>&lt;y^2&gt;</th>\n",
       "      <th>&lt;Δx^2&gt;</th>\n",
       "      <th>&lt;Δy^2&gt;</th>\n",
       "      <th>&lt;ΔR^2&gt;</th>\n",
       "    </tr>\n",
       "  </thead>\n",
       "  <tbody>\n",
       "    <tr>\n",
       "      <th>0</th>\n",
       "      <td>1</td>\n",
       "      <td>-5.465750e-01</td>\n",
       "      <td>0.935889</td>\n",
       "      <td>1.083800e+00</td>\n",
       "      <td>5.344070e+05</td>\n",
       "      <td>1.625150e+06</td>\n",
       "      <td>5.344060e+05</td>\n",
       "      <td>1.625150e+06</td>\n",
       "      <td>2.159550e+06</td>\n",
       "    </tr>\n",
       "    <tr>\n",
       "      <th>1</th>\n",
       "      <td>2</td>\n",
       "      <td>-5.027380e-01</td>\n",
       "      <td>0.750704</td>\n",
       "      <td>9.034950e-01</td>\n",
       "      <td>1.838920e+07</td>\n",
       "      <td>2.619550e+06</td>\n",
       "      <td>1.838920e+07</td>\n",
       "      <td>2.619550e+06</td>\n",
       "      <td>2.100870e+07</td>\n",
       "    </tr>\n",
       "    <tr>\n",
       "      <th>2</th>\n",
       "      <td>3</td>\n",
       "      <td>6.500480e-01</td>\n",
       "      <td>-1.518570</td>\n",
       "      <td>1.651850e+00</td>\n",
       "      <td>2.055440e+07</td>\n",
       "      <td>5.647430e+06</td>\n",
       "      <td>2.055440e+07</td>\n",
       "      <td>5.647430e+06</td>\n",
       "      <td>2.620180e+07</td>\n",
       "    </tr>\n",
       "    <tr>\n",
       "      <th>3</th>\n",
       "      <td>4</td>\n",
       "      <td>3.561920e+00</td>\n",
       "      <td>1.730920</td>\n",
       "      <td>3.960220e+00</td>\n",
       "      <td>3.506720e+07</td>\n",
       "      <td>1.791440e+07</td>\n",
       "      <td>3.506720e+07</td>\n",
       "      <td>1.791440e+07</td>\n",
       "      <td>5.298160e+07</td>\n",
       "    </tr>\n",
       "    <tr>\n",
       "      <th>4</th>\n",
       "      <td>5</td>\n",
       "      <td>4.820210e+00</td>\n",
       "      <td>2.371410</td>\n",
       "      <td>5.371960e+00</td>\n",
       "      <td>3.602130e+07</td>\n",
       "      <td>1.801850e+07</td>\n",
       "      <td>3.602130e+07</td>\n",
       "      <td>1.801850e+07</td>\n",
       "      <td>5.403980e+07</td>\n",
       "    </tr>\n",
       "    <tr>\n",
       "      <th>...</th>\n",
       "      <td>...</td>\n",
       "      <td>...</td>\n",
       "      <td>...</td>\n",
       "      <td>...</td>\n",
       "      <td>...</td>\n",
       "      <td>...</td>\n",
       "      <td>...</td>\n",
       "      <td>...</td>\n",
       "      <td>...</td>\n",
       "    </tr>\n",
       "    <tr>\n",
       "      <th>2493</th>\n",
       "      <td>997500</td>\n",
       "      <td>-1.088770e+06</td>\n",
       "      <td>114642.000000</td>\n",
       "      <td>1.094790e+06</td>\n",
       "      <td>1.344270e+18</td>\n",
       "      <td>1.132380e+17</td>\n",
       "      <td>1.344270e+18</td>\n",
       "      <td>1.132380e+17</td>\n",
       "      <td>1.457500e+18</td>\n",
       "    </tr>\n",
       "    <tr>\n",
       "      <th>2494</th>\n",
       "      <td>998000</td>\n",
       "      <td>-1.088520e+06</td>\n",
       "      <td>114401.000000</td>\n",
       "      <td>1.094520e+06</td>\n",
       "      <td>1.344270e+18</td>\n",
       "      <td>1.132380e+17</td>\n",
       "      <td>1.344270e+18</td>\n",
       "      <td>1.132380e+17</td>\n",
       "      <td>1.457500e+18</td>\n",
       "    </tr>\n",
       "    <tr>\n",
       "      <th>2495</th>\n",
       "      <td>998500</td>\n",
       "      <td>-1.088550e+06</td>\n",
       "      <td>114454.000000</td>\n",
       "      <td>1.094550e+06</td>\n",
       "      <td>1.344270e+18</td>\n",
       "      <td>1.132380e+17</td>\n",
       "      <td>1.344270e+18</td>\n",
       "      <td>1.132380e+17</td>\n",
       "      <td>1.457500e+18</td>\n",
       "    </tr>\n",
       "    <tr>\n",
       "      <th>2496</th>\n",
       "      <td>999000</td>\n",
       "      <td>-1.089590e+06</td>\n",
       "      <td>114604.000000</td>\n",
       "      <td>1.095600e+06</td>\n",
       "      <td>1.344270e+18</td>\n",
       "      <td>1.132400e+17</td>\n",
       "      <td>1.344270e+18</td>\n",
       "      <td>1.132400e+17</td>\n",
       "      <td>1.457510e+18</td>\n",
       "    </tr>\n",
       "    <tr>\n",
       "      <th>2497</th>\n",
       "      <td>999500</td>\n",
       "      <td>-1.089290e+06</td>\n",
       "      <td>113843.000000</td>\n",
       "      <td>1.095220e+06</td>\n",
       "      <td>1.344270e+18</td>\n",
       "      <td>1.132400e+17</td>\n",
       "      <td>1.344270e+18</td>\n",
       "      <td>1.132400e+17</td>\n",
       "      <td>1.457510e+18</td>\n",
       "    </tr>\n",
       "  </tbody>\n",
       "</table>\n",
       "<p>2498 rows × 9 columns</p>\n",
       "</div>"
      ],
      "text/plain": [
       "           N           <x>            <y>           <R>         <x^2>  \\\n",
       "0          1 -5.465750e-01       0.935889  1.083800e+00  5.344070e+05   \n",
       "1          2 -5.027380e-01       0.750704  9.034950e-01  1.838920e+07   \n",
       "2          3  6.500480e-01      -1.518570  1.651850e+00  2.055440e+07   \n",
       "3          4  3.561920e+00       1.730920  3.960220e+00  3.506720e+07   \n",
       "4          5  4.820210e+00       2.371410  5.371960e+00  3.602130e+07   \n",
       "...      ...           ...            ...           ...           ...   \n",
       "2493  997500 -1.088770e+06  114642.000000  1.094790e+06  1.344270e+18   \n",
       "2494  998000 -1.088520e+06  114401.000000  1.094520e+06  1.344270e+18   \n",
       "2495  998500 -1.088550e+06  114454.000000  1.094550e+06  1.344270e+18   \n",
       "2496  999000 -1.089590e+06  114604.000000  1.095600e+06  1.344270e+18   \n",
       "2497  999500 -1.089290e+06  113843.000000  1.095220e+06  1.344270e+18   \n",
       "\n",
       "             <y^2>        <Δx^2>        <Δy^2>        <ΔR^2>  \n",
       "0     1.625150e+06  5.344060e+05  1.625150e+06  2.159550e+06  \n",
       "1     2.619550e+06  1.838920e+07  2.619550e+06  2.100870e+07  \n",
       "2     5.647430e+06  2.055440e+07  5.647430e+06  2.620180e+07  \n",
       "3     1.791440e+07  3.506720e+07  1.791440e+07  5.298160e+07  \n",
       "4     1.801850e+07  3.602130e+07  1.801850e+07  5.403980e+07  \n",
       "...            ...           ...           ...           ...  \n",
       "2493  1.132380e+17  1.344270e+18  1.132380e+17  1.457500e+18  \n",
       "2494  1.132380e+17  1.344270e+18  1.132380e+17  1.457500e+18  \n",
       "2495  1.132380e+17  1.344270e+18  1.132380e+17  1.457500e+18  \n",
       "2496  1.132400e+17  1.344270e+18  1.132400e+17  1.457510e+18  \n",
       "2497  1.132400e+17  1.344270e+18  1.132400e+17  1.457510e+18  \n",
       "\n",
       "[2498 rows x 9 columns]"
      ]
     },
     "execution_count": 3,
     "metadata": {},
     "output_type": "execute_result"
    }
   ],
   "source": [
    "# data_calc.N += 1\n",
    "data_calc"
   ]
  },
  {
   "cell_type": "markdown",
   "id": "df0d3dce-d49e-47a5-9d69-f6f9cbd17147",
   "metadata": {},
   "source": [
    "## Апроксимация"
   ]
  },
  {
   "cell_type": "code",
   "execution_count": 4,
   "id": "f4e3a8f4-a8aa-4ccd-a3f1-7683c9cb5702",
   "metadata": {},
   "outputs": [],
   "source": [
    "index_end = 3000\n",
    "index_start = 0\n",
    "x = np.log10(data_calc['N'][index_start:index_end])\n",
    "y = np.log10(data_calc['<ΔR^2>'][index_start:index_end])"
   ]
  },
  {
   "cell_type": "code",
   "execution_count": 5,
   "id": "6b479324-14f0-432f-99ca-4442f2635be8",
   "metadata": {},
   "outputs": [
    {
     "name": "stdout",
     "output_type": "stream",
     "text": [
      "lg_mu: 6.685882285940675, mu: 4851569.821701367\n"
     ]
    }
   ],
   "source": [
    "lg_mu = (y.mean()*(x**2).mean() - (x*y).mean()*x.mean())/((x**2).mean() - x.mean()**2)\n",
    "mu = 10**lg_mu\n",
    "print(f'lg_mu: {lg_mu}, mu: {mu}')"
   ]
  },
  {
   "cell_type": "code",
   "execution_count": 6,
   "id": "3b2e25ae-ceb6-4527-a392-643e4b3c3994",
   "metadata": {},
   "outputs": [
    {
     "name": "stdout",
     "output_type": "stream",
     "text": [
      "nu: 1.8844277118420971\n"
     ]
    }
   ],
   "source": [
    "nu = ((x*y).mean() - y.mean()*x.mean())/((x**2).mean() - x.mean()**2)\n",
    "print(f'nu: {nu}')"
   ]
  },
  {
   "cell_type": "code",
   "execution_count": 7,
   "id": "a8db68ad-835b-42a1-912d-9b72d2888c63",
   "metadata": {},
   "outputs": [
    {
     "data": {
      "image/png": "[encoded data removed]",
      "text/plain": [
       "<Figure size 640x480 with 2 Axes>"
      ]
     },
     "metadata": {},
     "output_type": "display_data"
    }
   ],
   "source": [
    "plt.figure()\n",
    "\n",
    "plt.subplot(2, 1, 1) \n",
    "\n",
    "x = np.log10(data_calc['N'][index_start:index_end])\n",
    "y = np.log10(data_calc['<ΔR^2>'][index_start:index_end])\n",
    "plt.title('В логарифмическом виде')\n",
    "plt.plot(x, y)\n",
    "plt.plot(x, lg_mu + nu * x,'k--', label='Аппроксимация')\n",
    "\n",
    "plt.subplot(2, 1, 2) \n",
    "N_list = data_calc['N'][index_start:index_end]\n",
    "R2_list = data_calc['<ΔR^2>'][index_start:index_end]\n",
    "plt.title('В натуральном виде')\n",
    "plt.plot(N_list, R2_list)\n",
    "plt.plot(N_list, mu*(N_list**nu),'k--', label='Аппроксимация')\n",
    "\n",
    "plt.tight_layout() \n",
    "plt.show()"
   ]
  },
  {
   "cell_type": "code",
   "execution_count": 10,
   "id": "7068d29d-2eb6-4ab9-a1ed-e7edea9b9381",
   "metadata": {
    "scrolled": true
   },
   "outputs": [],
   "source": [
    "data_first_particle = pd.read_csv('../result-1e6×1e6/first_particle.csv',sep=' ', index_col=False)"
   ]
  },
  {
   "cell_type": "code",
   "execution_count": 11,
   "id": "1d5384e4-5050-4be0-8352-4ef5b5232a2b",
   "metadata": {},
   "outputs": [
    {
     "data": {
      "text/html": [
       "<div>\n",
       "<style scoped>\n",
       "    .dataframe tbody tr th:only-of-type {\n",
       "        vertical-align: middle;\n",
       "    }\n",
       "\n",
       "    .dataframe tbody tr th {\n",
       "        vertical-align: top;\n",
       "    }\n",
       "\n",
       "    .dataframe thead th {\n",
       "        text-align: right;\n",
       "    }\n",
       "</style>\n",
       "<table border=\"1\" class=\"dataframe\">\n",
       "  <thead>\n",
       "    <tr style=\"text-align: right;\">\n",
       "      <th></th>\n",
       "      <th>x</th>\n",
       "      <th>y</th>\n",
       "    </tr>\n",
       "  </thead>\n",
       "  <tbody>\n",
       "    <tr>\n",
       "      <th>0</th>\n",
       "      <td>0.00000</td>\n",
       "      <td>-0.092297</td>\n",
       "    </tr>\n",
       "    <tr>\n",
       "      <th>1</th>\n",
       "      <td>2.16843</td>\n",
       "      <td>-0.092297</td>\n",
       "    </tr>\n",
       "    <tr>\n",
       "      <th>2</th>\n",
       "      <td>-32.21670</td>\n",
       "      <td>-0.092297</td>\n",
       "    </tr>\n",
       "    <tr>\n",
       "      <th>3</th>\n",
       "      <td>-32.21670</td>\n",
       "      <td>1.821050</td>\n",
       "    </tr>\n",
       "    <tr>\n",
       "      <th>4</th>\n",
       "      <td>-32.21670</td>\n",
       "      <td>3.188580</td>\n",
       "    </tr>\n",
       "    <tr>\n",
       "      <th>...</th>\n",
       "      <td>...</td>\n",
       "      <td>...</td>\n",
       "    </tr>\n",
       "    <tr>\n",
       "      <th>896488</th>\n",
       "      <td>-948151.00000</td>\n",
       "      <td>-319251.000000</td>\n",
       "    </tr>\n",
       "    <tr>\n",
       "      <th>896489</th>\n",
       "      <td>-948151.00000</td>\n",
       "      <td>-319251.000000</td>\n",
       "    </tr>\n",
       "    <tr>\n",
       "      <th>896490</th>\n",
       "      <td>-948149.00000</td>\n",
       "      <td>-319251.000000</td>\n",
       "    </tr>\n",
       "    <tr>\n",
       "      <th>896491</th>\n",
       "      <td>-948148.00000</td>\n",
       "      <td>-319251.000000</td>\n",
       "    </tr>\n",
       "    <tr>\n",
       "      <th>896492</th>\n",
       "      <td>-948144.00000</td>\n",
       "      <td>-319251.000000</td>\n",
       "    </tr>\n",
       "  </tbody>\n",
       "</table>\n",
       "<p>896493 rows × 2 columns</p>\n",
       "</div>"
      ],
      "text/plain": [
       "                   x              y\n",
       "0            0.00000      -0.092297\n",
       "1            2.16843      -0.092297\n",
       "2          -32.21670      -0.092297\n",
       "3          -32.21670       1.821050\n",
       "4          -32.21670       3.188580\n",
       "...              ...            ...\n",
       "896488 -948151.00000 -319251.000000\n",
       "896489 -948151.00000 -319251.000000\n",
       "896490 -948149.00000 -319251.000000\n",
       "896491 -948148.00000 -319251.000000\n",
       "896492 -948144.00000 -319251.000000\n",
       "\n",
       "[896493 rows x 2 columns]"
      ]
     },
     "execution_count": 11,
     "metadata": {},
     "output_type": "execute_result"
    }
   ],
   "source": [
    "data_first_particle"
   ]
  },
  {
   "cell_type": "code",
   "execution_count": 12,
   "id": "a3ee8ffa-4e4b-4f94-b930-9c72ef4138fc",
   "metadata": {},
   "outputs": [
    {
     "data": {
      "text/plain": [
       "[<matplotlib.lines.Line2D at 0x7f48ea5584f0>]"
      ]
     },
     "execution_count": 12,
     "metadata": {},
     "output_type": "execute_result"
    },
    {
     "data": {
      "image/png": "[encoded data removed]",
      "text/plain": [
       "<Figure size 640x480 with 1 Axes>"
      ]
     },
     "metadata": {},
     "output_type": "display_data"
    }
   ],
   "source": [
    "plt.plot(data_first_particle.x,data_first_particle.y)"
   ]
  },
  {
   "cell_type": "code",
   "execution_count": 173,
   "id": "d3b78455-eb0a-4557-bd72-fb141cf6f10a",
   "metadata": {},
   "outputs": [],
   "source": [
    "data_last_vals = pd.read_csv('../result_new/last_vals.csv',sep=' ', index_col=False)"
   ]
  },
  {
   "cell_type": "code",
   "execution_count": 174,
   "id": "55140c25-fb6c-4fd0-be05-1606e0e539d2",
   "metadata": {},
   "outputs": [
    {
     "data": {
      "text/html": [
       "<div>\n",
       "<style scoped>\n",
       "    .dataframe tbody tr th:only-of-type {\n",
       "        vertical-align: middle;\n",
       "    }\n",
       "\n",
       "    .dataframe tbody tr th {\n",
       "        vertical-align: top;\n",
       "    }\n",
       "\n",
       "    .dataframe thead th {\n",
       "        text-align: right;\n",
       "    }\n",
       "</style>\n",
       "<table border=\"1\" class=\"dataframe\">\n",
       "  <thead>\n",
       "    <tr style=\"text-align: right;\">\n",
       "      <th></th>\n",
       "      <th>x</th>\n",
       "      <th>y</th>\n",
       "    </tr>\n",
       "  </thead>\n",
       "  <tbody>\n",
       "    <tr>\n",
       "      <th>0</th>\n",
       "      <td>3190510.0</td>\n",
       "      <td>-1594750.0</td>\n",
       "    </tr>\n",
       "    <tr>\n",
       "      <th>1</th>\n",
       "      <td>4460100.0</td>\n",
       "      <td>19459100.0</td>\n",
       "    </tr>\n",
       "    <tr>\n",
       "      <th>2</th>\n",
       "      <td>-1939400.0</td>\n",
       "      <td>-682322.0</td>\n",
       "    </tr>\n",
       "    <tr>\n",
       "      <th>3</th>\n",
       "      <td>1650350.0</td>\n",
       "      <td>-7355390.0</td>\n",
       "    </tr>\n",
       "    <tr>\n",
       "      <th>4</th>\n",
       "      <td>7269010.0</td>\n",
       "      <td>-3637330.0</td>\n",
       "    </tr>\n",
       "    <tr>\n",
       "      <th>...</th>\n",
       "      <td>...</td>\n",
       "      <td>...</td>\n",
       "    </tr>\n",
       "    <tr>\n",
       "      <th>149995</th>\n",
       "      <td>-2608940.0</td>\n",
       "      <td>-1095690.0</td>\n",
       "    </tr>\n",
       "    <tr>\n",
       "      <th>149996</th>\n",
       "      <td>1742090.0</td>\n",
       "      <td>1160570.0</td>\n",
       "    </tr>\n",
       "    <tr>\n",
       "      <th>149997</th>\n",
       "      <td>-9898000.0</td>\n",
       "      <td>3091490.0</td>\n",
       "    </tr>\n",
       "    <tr>\n",
       "      <th>149998</th>\n",
       "      <td>22980800.0</td>\n",
       "      <td>3153010.0</td>\n",
       "    </tr>\n",
       "    <tr>\n",
       "      <th>149999</th>\n",
       "      <td>299774.0</td>\n",
       "      <td>57424700.0</td>\n",
       "    </tr>\n",
       "  </tbody>\n",
       "</table>\n",
       "<p>150000 rows × 2 columns</p>\n",
       "</div>"
      ],
      "text/plain": [
       "                 x           y\n",
       "0        3190510.0  -1594750.0\n",
       "1        4460100.0  19459100.0\n",
       "2       -1939400.0   -682322.0\n",
       "3        1650350.0  -7355390.0\n",
       "4        7269010.0  -3637330.0\n",
       "...            ...         ...\n",
       "149995  -2608940.0  -1095690.0\n",
       "149996   1742090.0   1160570.0\n",
       "149997  -9898000.0   3091490.0\n",
       "149998  22980800.0   3153010.0\n",
       "149999    299774.0  57424700.0\n",
       "\n",
       "[150000 rows x 2 columns]"
      ]
     },
     "execution_count": 174,
     "metadata": {},
     "output_type": "execute_result"
    }
   ],
   "source": [
    "data_last_vals"
   ]
  },
  {
   "cell_type": "code",
   "execution_count": 175,
   "id": "6cb3b9b4-995b-4ea4-9549-872041d4c81e",
   "metadata": {},
   "outputs": [
    {
     "data": {
      "image/png": "[encoded data removed]",
      "text/plain": [
       "<Figure size 1000x400 with 2 Axes>"
      ]
     },
     "metadata": {},
     "output_type": "display_data"
    }
   ],
   "source": [
    "bin_cnt = 100\n",
    "bin_w = 1/bin_cnt\n",
    "_idx = 9\n",
    "plt.figure(figsize=(10, 4))\n",
    "plt.suptitle(f'Раcпределение частицы. N = {2e6}')\n",
    "\n",
    "plt.subplot(1,2,1)\n",
    "plt.hist(data_last_vals.x, bin_cnt, facecolor='r', density=True, label='E(X)', range=(-1e7, 1e7))\n",
    "plt.title(f'Вдоль Ox.')\n",
    "\n",
    "plt.subplot(1,2,2)\n",
    "plt.hist(data_last_vals.y, bin_cnt, facecolor='r', density=True, label='E(X)', range=(-1e7, 1e7))\n",
    "plt.title(f'Вдоль Oy.')\n",
    "\n",
    "plt.tight_layout()\n",
    "plt.show()"
   ]
  }
 ],
 "metadata": {
  "kernelspec": {
   "display_name": "Python 3 (ipykernel)",
   "language": "python",
   "name": "python3"
  },
  "language_info": {
   "codemirror_mode": {
    "name": "ipython",
    "version": 3
   },
   "file_extension": ".py",
   "mimetype": "text/x-python",
   "name": "python",
   "nbconvert_exporter": "python",
   "pygments_lexer": "ipython3",
   "version": "3.10.12"
  }
 },
 "nbformat": 4,
 "nbformat_minor": 5
}
