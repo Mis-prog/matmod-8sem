{
 "cells": [
  {
   "cell_type": "code",
   "execution_count": 1,
   "id": "5e49bfcc-d6d2-4a72-ad0c-e4672650a847",
   "metadata": {},
   "outputs": [],
   "source": [
    "import pandas as pd\n",
    "import matplotlib.pyplot as plt\n",
    "import numpy as np"
   ]
  },
  {
   "cell_type": "code",
   "execution_count": 2,
   "id": "4e5e05ac-e32d-43b5-90b4-a8fc01cfb6be",
   "metadata": {},
   "outputs": [],
   "source": [
    "data_calc = pd.read_csv('../result/calc.csv',sep=' ', index_col=False)"
   ]
  },
  {
   "cell_type": "code",
   "execution_count": 3,
   "id": "1cbf7fa6-e5e4-4204-9c51-ae380710431d",
   "metadata": {},
   "outputs": [
    {
     "data": {
      "text/html": [
       "<div>\n",
       "<style scoped>\n",
       "    .dataframe tbody tr th:only-of-type {\n",
       "        vertical-align: middle;\n",
       "    }\n",
       "\n",
       "    .dataframe tbody tr th {\n",
       "        vertical-align: top;\n",
       "    }\n",
       "\n",
       "    .dataframe thead th {\n",
       "        text-align: right;\n",
       "    }\n",
       "</style>\n",
       "<table border=\"1\" class=\"dataframe\">\n",
       "  <thead>\n",
       "    <tr style=\"text-align: right;\">\n",
       "      <th></th>\n",
       "      <th>N</th>\n",
       "      <th>&lt;x&gt;</th>\n",
       "      <th>&lt;y&gt;</th>\n",
       "      <th>&lt;R&gt;</th>\n",
       "      <th>&lt;x^2&gt;</th>\n",
       "      <th>&lt;y^2&gt;</th>\n",
       "      <th>&lt;Δx^2&gt;</th>\n",
       "      <th>&lt;Δy^2&gt;</th>\n",
       "      <th>&lt;ΔR^2&gt;</th>\n",
       "    </tr>\n",
       "  </thead>\n",
       "  <tbody>\n",
       "    <tr>\n",
       "      <th>0</th>\n",
       "      <td>1</td>\n",
       "      <td>-4.12244</td>\n",
       "      <td>-0.178141</td>\n",
       "      <td>4.12629</td>\n",
       "      <td>1.390940e+07</td>\n",
       "      <td>2.202380e+05</td>\n",
       "      <td>1.390940e+07</td>\n",
       "      <td>2.202380e+05</td>\n",
       "      <td>1.412970e+07</td>\n",
       "    </tr>\n",
       "    <tr>\n",
       "      <th>1</th>\n",
       "      <td>2</td>\n",
       "      <td>-5.85781</td>\n",
       "      <td>-0.330076</td>\n",
       "      <td>5.86710</td>\n",
       "      <td>1.714170e+07</td>\n",
       "      <td>5.274900e+05</td>\n",
       "      <td>1.714160e+07</td>\n",
       "      <td>5.274900e+05</td>\n",
       "      <td>1.766910e+07</td>\n",
       "    </tr>\n",
       "    <tr>\n",
       "      <th>2</th>\n",
       "      <td>3</td>\n",
       "      <td>-8.63260</td>\n",
       "      <td>-0.024694</td>\n",
       "      <td>8.63264</td>\n",
       "      <td>2.182960e+07</td>\n",
       "      <td>1.098380e+06</td>\n",
       "      <td>2.182950e+07</td>\n",
       "      <td>1.098380e+06</td>\n",
       "      <td>2.292790e+07</td>\n",
       "    </tr>\n",
       "    <tr>\n",
       "      <th>3</th>\n",
       "      <td>4</td>\n",
       "      <td>16.97170</td>\n",
       "      <td>-0.252354</td>\n",
       "      <td>16.97360</td>\n",
       "      <td>7.850920e+08</td>\n",
       "      <td>1.260640e+06</td>\n",
       "      <td>7.850910e+08</td>\n",
       "      <td>1.260640e+06</td>\n",
       "      <td>7.863520e+08</td>\n",
       "    </tr>\n",
       "    <tr>\n",
       "      <th>4</th>\n",
       "      <td>5</td>\n",
       "      <td>20.33760</td>\n",
       "      <td>-0.402197</td>\n",
       "      <td>20.34160</td>\n",
       "      <td>7.882550e+08</td>\n",
       "      <td>1.387680e+07</td>\n",
       "      <td>7.882540e+08</td>\n",
       "      <td>1.387680e+07</td>\n",
       "      <td>8.021310e+08</td>\n",
       "    </tr>\n",
       "    <tr>\n",
       "      <th>...</th>\n",
       "      <td>...</td>\n",
       "      <td>...</td>\n",
       "      <td>...</td>\n",
       "      <td>...</td>\n",
       "      <td>...</td>\n",
       "      <td>...</td>\n",
       "      <td>...</td>\n",
       "      <td>...</td>\n",
       "      <td>...</td>\n",
       "    </tr>\n",
       "    <tr>\n",
       "      <th>497</th>\n",
       "      <td>498</td>\n",
       "      <td>-8763.36000</td>\n",
       "      <td>15008.800000</td>\n",
       "      <td>17379.90000</td>\n",
       "      <td>8.204710e+13</td>\n",
       "      <td>2.356970e+14</td>\n",
       "      <td>8.204700e+13</td>\n",
       "      <td>2.356970e+14</td>\n",
       "      <td>3.177440e+14</td>\n",
       "    </tr>\n",
       "    <tr>\n",
       "      <th>498</th>\n",
       "      <td>499</td>\n",
       "      <td>-8764.33000</td>\n",
       "      <td>15009.300000</td>\n",
       "      <td>17380.80000</td>\n",
       "      <td>8.204710e+13</td>\n",
       "      <td>2.356970e+14</td>\n",
       "      <td>8.204700e+13</td>\n",
       "      <td>2.356970e+14</td>\n",
       "      <td>3.177440e+14</td>\n",
       "    </tr>\n",
       "    <tr>\n",
       "      <th>499</th>\n",
       "      <td>500</td>\n",
       "      <td>-8763.71000</td>\n",
       "      <td>15008.900000</td>\n",
       "      <td>17380.10000</td>\n",
       "      <td>8.204710e+13</td>\n",
       "      <td>2.356970e+14</td>\n",
       "      <td>8.204700e+13</td>\n",
       "      <td>2.356970e+14</td>\n",
       "      <td>3.177440e+14</td>\n",
       "    </tr>\n",
       "    <tr>\n",
       "      <th>500</th>\n",
       "      <td>1000</td>\n",
       "      <td>-7956.52000</td>\n",
       "      <td>15039.600000</td>\n",
       "      <td>17014.60000</td>\n",
       "      <td>8.238820e+13</td>\n",
       "      <td>2.357340e+14</td>\n",
       "      <td>8.238810e+13</td>\n",
       "      <td>2.357330e+14</td>\n",
       "      <td>3.181220e+14</td>\n",
       "    </tr>\n",
       "    <tr>\n",
       "      <th>501</th>\n",
       "      <td>1500</td>\n",
       "      <td>-8640.95000</td>\n",
       "      <td>15241.400000</td>\n",
       "      <td>17520.40000</td>\n",
       "      <td>8.263200e+13</td>\n",
       "      <td>2.360250e+14</td>\n",
       "      <td>8.263190e+13</td>\n",
       "      <td>2.360250e+14</td>\n",
       "      <td>3.186570e+14</td>\n",
       "    </tr>\n",
       "  </tbody>\n",
       "</table>\n",
       "<p>502 rows × 9 columns</p>\n",
       "</div>"
      ],
      "text/plain": [
       "        N         <x>           <y>          <R>         <x^2>         <y^2>  \\\n",
       "0       1    -4.12244     -0.178141      4.12629  1.390940e+07  2.202380e+05   \n",
       "1       2    -5.85781     -0.330076      5.86710  1.714170e+07  5.274900e+05   \n",
       "2       3    -8.63260     -0.024694      8.63264  2.182960e+07  1.098380e+06   \n",
       "3       4    16.97170     -0.252354     16.97360  7.850920e+08  1.260640e+06   \n",
       "4       5    20.33760     -0.402197     20.34160  7.882550e+08  1.387680e+07   \n",
       "..    ...         ...           ...          ...           ...           ...   \n",
       "497   498 -8763.36000  15008.800000  17379.90000  8.204710e+13  2.356970e+14   \n",
       "498   499 -8764.33000  15009.300000  17380.80000  8.204710e+13  2.356970e+14   \n",
       "499   500 -8763.71000  15008.900000  17380.10000  8.204710e+13  2.356970e+14   \n",
       "500  1000 -7956.52000  15039.600000  17014.60000  8.238820e+13  2.357340e+14   \n",
       "501  1500 -8640.95000  15241.400000  17520.40000  8.263200e+13  2.360250e+14   \n",
       "\n",
       "           <Δx^2>        <Δy^2>        <ΔR^2>  \n",
       "0    1.390940e+07  2.202380e+05  1.412970e+07  \n",
       "1    1.714160e+07  5.274900e+05  1.766910e+07  \n",
       "2    2.182950e+07  1.098380e+06  2.292790e+07  \n",
       "3    7.850910e+08  1.260640e+06  7.863520e+08  \n",
       "4    7.882540e+08  1.387680e+07  8.021310e+08  \n",
       "..            ...           ...           ...  \n",
       "497  8.204700e+13  2.356970e+14  3.177440e+14  \n",
       "498  8.204700e+13  2.356970e+14  3.177440e+14  \n",
       "499  8.204700e+13  2.356970e+14  3.177440e+14  \n",
       "500  8.238810e+13  2.357330e+14  3.181220e+14  \n",
       "501  8.263190e+13  2.360250e+14  3.186570e+14  \n",
       "\n",
       "[502 rows x 9 columns]"
      ]
     },
     "execution_count": 3,
     "metadata": {},
     "output_type": "execute_result"
    }
   ],
   "source": [
    "# data_calc.N += 1\n",
    "data_calc"
   ]
  },
  {
   "cell_type": "markdown",
   "id": "df0d3dce-d49e-47a5-9d69-f6f9cbd17147",
   "metadata": {},
   "source": [
    "## Апроксимация"
   ]
  },
  {
   "cell_type": "code",
   "execution_count": 4,
   "id": "f4e3a8f4-a8aa-4ccd-a3f1-7683c9cb5702",
   "metadata": {},
   "outputs": [],
   "source": [
    "index_end = 2000\n",
    "index_start = 0\n",
    "x = np.log10(data_calc['N'][index_start:index_end])\n",
    "y = np.log10(data_calc['<ΔR^2>'][index_start:index_end])"
   ]
  },
  {
   "cell_type": "code",
   "execution_count": 6,
   "id": "6b479324-14f0-432f-99ca-4442f2635be8",
   "metadata": {},
   "outputs": [
    {
     "name": "stdout",
     "output_type": "stream",
     "text": [
      "lg_mu: 2.868975542794986, mu: 739.563625511042\n"
     ]
    }
   ],
   "source": [
    "lg_mu = (y.mean()*(x**2).mean() - (x*y).mean()*x.mean())/((x**2).mean() - x.mean()**2)\n",
    "mu = 10**lg_mu\n",
    "print(f'lg_mu: {lg_mu}, mu: {mu}')"
   ]
  },
  {
   "cell_type": "code",
   "execution_count": 7,
   "id": "3b2e25ae-ceb6-4527-a392-643e4b3c3994",
   "metadata": {},
   "outputs": [
    {
     "name": "stdout",
     "output_type": "stream",
     "text": [
      "nu: 4.370521634126285\n"
     ]
    }
   ],
   "source": [
    "nu = ((x*y).mean() - y.mean()*x.mean())/((x**2).mean() - x.mean()**2)\n",
    "print(f'nu: {nu}')"
   ]
  },
  {
   "cell_type": "code",
   "execution_count": 9,
   "id": "a8db68ad-835b-42a1-912d-9b72d2888c63",
   "metadata": {},
   "outputs": [
    {
     "data": {
      "image/png": "[encoded data removed]",
      "text/plain": [
       "<Figure size 640x480 with 2 Axes>"
      ]
     },
     "metadata": {},
     "output_type": "display_data"
    }
   ],
   "source": [
    "plt.figure()\n",
    "\n",
    "plt.subplot(2, 1, 1) \n",
    "\n",
    "x = np.log10(data_calc['N'][index_start:index_end])\n",
    "y = np.log10(data_calc['<ΔR^2>'][index_start:index_end])\n",
    "plt.title('В логарифмическом виде')\n",
    "plt.plot(x, y)\n",
    "plt.plot(x, lg_mu + nu * x,'k--', label='Аппроксимация')\n",
    "\n",
    "plt.subplot(2, 1, 2) \n",
    "N_list = data_calc['N'][index_start:index_end]\n",
    "R2_list = data_calc['<ΔR^2>'][index_start:index_end]\n",
    "plt.title('В натуральном виде')\n",
    "plt.plot(N_list, R2_list)\n",
    "# plt.plot(N_list, mu*(N_list**nu),'k--', label='Аппроксимация')\n",
    "\n",
    "plt.tight_layout() \n",
    "plt.show()"
   ]
  },
  {
   "cell_type": "code",
   "execution_count": 29,
   "id": "7068d29d-2eb6-4ab9-a1ed-e7edea9b9381",
   "metadata": {
    "collapsed": true,
    "jupyter": {
     "outputs_hidden": true
    },
    "scrolled": true
   },
   "outputs": [
    {
     "ename": "FileNotFoundError",
     "evalue": "[Errno 2] No such file or directory: '../result_new/first_particle.csv'",
     "output_type": "error",
     "traceback": [
      "\u001b[0;31m---------------------------------------------------------------------------\u001b[0m",
      "\u001b[0;31mFileNotFoundError\u001b[0m                         Traceback (most recent call last)",
      "Cell \u001b[0;32mIn[29], line 1\u001b[0m\n\u001b[0;32m----> 1\u001b[0m data_first_particle \u001b[38;5;241m=\u001b[39m \u001b[43mpd\u001b[49m\u001b[38;5;241;43m.\u001b[39;49m\u001b[43mread_csv\u001b[49m\u001b[43m(\u001b[49m\u001b[38;5;124;43m'\u001b[39;49m\u001b[38;5;124;43m../result_new/first_particle.csv\u001b[39;49m\u001b[38;5;124;43m'\u001b[39;49m\u001b[43m,\u001b[49m\u001b[43msep\u001b[49m\u001b[38;5;241;43m=\u001b[39;49m\u001b[38;5;124;43m'\u001b[39;49m\u001b[38;5;124;43m \u001b[39;49m\u001b[38;5;124;43m'\u001b[39;49m\u001b[43m,\u001b[49m\u001b[43m \u001b[49m\u001b[43mindex_col\u001b[49m\u001b[38;5;241;43m=\u001b[39;49m\u001b[38;5;28;43;01mFalse\u001b[39;49;00m\u001b[43m)\u001b[49m\n",
      "File \u001b[0;32m~/matmod-8sem/venv/lib/python3.10/site-packages/pandas/io/parsers/readers.py:1026\u001b[0m, in \u001b[0;36mread_csv\u001b[0;34m(filepath_or_buffer, sep, delimiter, header, names, index_col, usecols, dtype, engine, converters, true_values, false_values, skipinitialspace, skiprows, skipfooter, nrows, na_values, keep_default_na, na_filter, verbose, skip_blank_lines, parse_dates, infer_datetime_format, keep_date_col, date_parser, date_format, dayfirst, cache_dates, iterator, chunksize, compression, thousands, decimal, lineterminator, quotechar, quoting, doublequote, escapechar, comment, encoding, encoding_errors, dialect, on_bad_lines, delim_whitespace, low_memory, memory_map, float_precision, storage_options, dtype_backend)\u001b[0m\n\u001b[1;32m   1013\u001b[0m kwds_defaults \u001b[38;5;241m=\u001b[39m _refine_defaults_read(\n\u001b[1;32m   1014\u001b[0m     dialect,\n\u001b[1;32m   1015\u001b[0m     delimiter,\n\u001b[0;32m   (...)\u001b[0m\n\u001b[1;32m   1022\u001b[0m     dtype_backend\u001b[38;5;241m=\u001b[39mdtype_backend,\n\u001b[1;32m   1023\u001b[0m )\n\u001b[1;32m   1024\u001b[0m kwds\u001b[38;5;241m.\u001b[39mupdate(kwds_defaults)\n\u001b[0;32m-> 1026\u001b[0m \u001b[38;5;28;01mreturn\u001b[39;00m \u001b[43m_read\u001b[49m\u001b[43m(\u001b[49m\u001b[43mfilepath_or_buffer\u001b[49m\u001b[43m,\u001b[49m\u001b[43m \u001b[49m\u001b[43mkwds\u001b[49m\u001b[43m)\u001b[49m\n",
      "File \u001b[0;32m~/matmod-8sem/venv/lib/python3.10/site-packages/pandas/io/parsers/readers.py:620\u001b[0m, in \u001b[0;36m_read\u001b[0;34m(filepath_or_buffer, kwds)\u001b[0m\n\u001b[1;32m    617\u001b[0m _validate_names(kwds\u001b[38;5;241m.\u001b[39mget(\u001b[38;5;124m\"\u001b[39m\u001b[38;5;124mnames\u001b[39m\u001b[38;5;124m\"\u001b[39m, \u001b[38;5;28;01mNone\u001b[39;00m))\n\u001b[1;32m    619\u001b[0m \u001b[38;5;66;03m# Create the parser.\u001b[39;00m\n\u001b[0;32m--> 620\u001b[0m parser \u001b[38;5;241m=\u001b[39m \u001b[43mTextFileReader\u001b[49m\u001b[43m(\u001b[49m\u001b[43mfilepath_or_buffer\u001b[49m\u001b[43m,\u001b[49m\u001b[43m \u001b[49m\u001b[38;5;241;43m*\u001b[39;49m\u001b[38;5;241;43m*\u001b[39;49m\u001b[43mkwds\u001b[49m\u001b[43m)\u001b[49m\n\u001b[1;32m    622\u001b[0m \u001b[38;5;28;01mif\u001b[39;00m chunksize \u001b[38;5;129;01mor\u001b[39;00m iterator:\n\u001b[1;32m    623\u001b[0m     \u001b[38;5;28;01mreturn\u001b[39;00m parser\n",
      "File \u001b[0;32m~/matmod-8sem/venv/lib/python3.10/site-packages/pandas/io/parsers/readers.py:1620\u001b[0m, in \u001b[0;36mTextFileReader.__init__\u001b[0;34m(self, f, engine, **kwds)\u001b[0m\n\u001b[1;32m   1617\u001b[0m     \u001b[38;5;28mself\u001b[39m\u001b[38;5;241m.\u001b[39moptions[\u001b[38;5;124m\"\u001b[39m\u001b[38;5;124mhas_index_names\u001b[39m\u001b[38;5;124m\"\u001b[39m] \u001b[38;5;241m=\u001b[39m kwds[\u001b[38;5;124m\"\u001b[39m\u001b[38;5;124mhas_index_names\u001b[39m\u001b[38;5;124m\"\u001b[39m]\n\u001b[1;32m   1619\u001b[0m \u001b[38;5;28mself\u001b[39m\u001b[38;5;241m.\u001b[39mhandles: IOHandles \u001b[38;5;241m|\u001b[39m \u001b[38;5;28;01mNone\u001b[39;00m \u001b[38;5;241m=\u001b[39m \u001b[38;5;28;01mNone\u001b[39;00m\n\u001b[0;32m-> 1620\u001b[0m \u001b[38;5;28mself\u001b[39m\u001b[38;5;241m.\u001b[39m_engine \u001b[38;5;241m=\u001b[39m \u001b[38;5;28;43mself\u001b[39;49m\u001b[38;5;241;43m.\u001b[39;49m\u001b[43m_make_engine\u001b[49m\u001b[43m(\u001b[49m\u001b[43mf\u001b[49m\u001b[43m,\u001b[49m\u001b[43m \u001b[49m\u001b[38;5;28;43mself\u001b[39;49m\u001b[38;5;241;43m.\u001b[39;49m\u001b[43mengine\u001b[49m\u001b[43m)\u001b[49m\n",
      "File \u001b[0;32m~/matmod-8sem/venv/lib/python3.10/site-packages/pandas/io/parsers/readers.py:1880\u001b[0m, in \u001b[0;36mTextFileReader._make_engine\u001b[0;34m(self, f, engine)\u001b[0m\n\u001b[1;32m   1878\u001b[0m     \u001b[38;5;28;01mif\u001b[39;00m \u001b[38;5;124m\"\u001b[39m\u001b[38;5;124mb\u001b[39m\u001b[38;5;124m\"\u001b[39m \u001b[38;5;129;01mnot\u001b[39;00m \u001b[38;5;129;01min\u001b[39;00m mode:\n\u001b[1;32m   1879\u001b[0m         mode \u001b[38;5;241m+\u001b[39m\u001b[38;5;241m=\u001b[39m \u001b[38;5;124m\"\u001b[39m\u001b[38;5;124mb\u001b[39m\u001b[38;5;124m\"\u001b[39m\n\u001b[0;32m-> 1880\u001b[0m \u001b[38;5;28mself\u001b[39m\u001b[38;5;241m.\u001b[39mhandles \u001b[38;5;241m=\u001b[39m \u001b[43mget_handle\u001b[49m\u001b[43m(\u001b[49m\n\u001b[1;32m   1881\u001b[0m \u001b[43m    \u001b[49m\u001b[43mf\u001b[49m\u001b[43m,\u001b[49m\n\u001b[1;32m   1882\u001b[0m \u001b[43m    \u001b[49m\u001b[43mmode\u001b[49m\u001b[43m,\u001b[49m\n\u001b[1;32m   1883\u001b[0m \u001b[43m    \u001b[49m\u001b[43mencoding\u001b[49m\u001b[38;5;241;43m=\u001b[39;49m\u001b[38;5;28;43mself\u001b[39;49m\u001b[38;5;241;43m.\u001b[39;49m\u001b[43moptions\u001b[49m\u001b[38;5;241;43m.\u001b[39;49m\u001b[43mget\u001b[49m\u001b[43m(\u001b[49m\u001b[38;5;124;43m\"\u001b[39;49m\u001b[38;5;124;43mencoding\u001b[39;49m\u001b[38;5;124;43m\"\u001b[39;49m\u001b[43m,\u001b[49m\u001b[43m \u001b[49m\u001b[38;5;28;43;01mNone\u001b[39;49;00m\u001b[43m)\u001b[49m\u001b[43m,\u001b[49m\n\u001b[1;32m   1884\u001b[0m \u001b[43m    \u001b[49m\u001b[43mcompression\u001b[49m\u001b[38;5;241;43m=\u001b[39;49m\u001b[38;5;28;43mself\u001b[39;49m\u001b[38;5;241;43m.\u001b[39;49m\u001b[43moptions\u001b[49m\u001b[38;5;241;43m.\u001b[39;49m\u001b[43mget\u001b[49m\u001b[43m(\u001b[49m\u001b[38;5;124;43m\"\u001b[39;49m\u001b[38;5;124;43mcompression\u001b[39;49m\u001b[38;5;124;43m\"\u001b[39;49m\u001b[43m,\u001b[49m\u001b[43m \u001b[49m\u001b[38;5;28;43;01mNone\u001b[39;49;00m\u001b[43m)\u001b[49m\u001b[43m,\u001b[49m\n\u001b[1;32m   1885\u001b[0m \u001b[43m    \u001b[49m\u001b[43mmemory_map\u001b[49m\u001b[38;5;241;43m=\u001b[39;49m\u001b[38;5;28;43mself\u001b[39;49m\u001b[38;5;241;43m.\u001b[39;49m\u001b[43moptions\u001b[49m\u001b[38;5;241;43m.\u001b[39;49m\u001b[43mget\u001b[49m\u001b[43m(\u001b[49m\u001b[38;5;124;43m\"\u001b[39;49m\u001b[38;5;124;43mmemory_map\u001b[39;49m\u001b[38;5;124;43m\"\u001b[39;49m\u001b[43m,\u001b[49m\u001b[43m \u001b[49m\u001b[38;5;28;43;01mFalse\u001b[39;49;00m\u001b[43m)\u001b[49m\u001b[43m,\u001b[49m\n\u001b[1;32m   1886\u001b[0m \u001b[43m    \u001b[49m\u001b[43mis_text\u001b[49m\u001b[38;5;241;43m=\u001b[39;49m\u001b[43mis_text\u001b[49m\u001b[43m,\u001b[49m\n\u001b[1;32m   1887\u001b[0m \u001b[43m    \u001b[49m\u001b[43merrors\u001b[49m\u001b[38;5;241;43m=\u001b[39;49m\u001b[38;5;28;43mself\u001b[39;49m\u001b[38;5;241;43m.\u001b[39;49m\u001b[43moptions\u001b[49m\u001b[38;5;241;43m.\u001b[39;49m\u001b[43mget\u001b[49m\u001b[43m(\u001b[49m\u001b[38;5;124;43m\"\u001b[39;49m\u001b[38;5;124;43mencoding_errors\u001b[39;49m\u001b[38;5;124;43m\"\u001b[39;49m\u001b[43m,\u001b[49m\u001b[43m \u001b[49m\u001b[38;5;124;43m\"\u001b[39;49m\u001b[38;5;124;43mstrict\u001b[39;49m\u001b[38;5;124;43m\"\u001b[39;49m\u001b[43m)\u001b[49m\u001b[43m,\u001b[49m\n\u001b[1;32m   1888\u001b[0m \u001b[43m    \u001b[49m\u001b[43mstorage_options\u001b[49m\u001b[38;5;241;43m=\u001b[39;49m\u001b[38;5;28;43mself\u001b[39;49m\u001b[38;5;241;43m.\u001b[39;49m\u001b[43moptions\u001b[49m\u001b[38;5;241;43m.\u001b[39;49m\u001b[43mget\u001b[49m\u001b[43m(\u001b[49m\u001b[38;5;124;43m\"\u001b[39;49m\u001b[38;5;124;43mstorage_options\u001b[39;49m\u001b[38;5;124;43m\"\u001b[39;49m\u001b[43m,\u001b[49m\u001b[43m \u001b[49m\u001b[38;5;28;43;01mNone\u001b[39;49;00m\u001b[43m)\u001b[49m\u001b[43m,\u001b[49m\n\u001b[1;32m   1889\u001b[0m \u001b[43m\u001b[49m\u001b[43m)\u001b[49m\n\u001b[1;32m   1890\u001b[0m \u001b[38;5;28;01massert\u001b[39;00m \u001b[38;5;28mself\u001b[39m\u001b[38;5;241m.\u001b[39mhandles \u001b[38;5;129;01mis\u001b[39;00m \u001b[38;5;129;01mnot\u001b[39;00m \u001b[38;5;28;01mNone\u001b[39;00m\n\u001b[1;32m   1891\u001b[0m f \u001b[38;5;241m=\u001b[39m \u001b[38;5;28mself\u001b[39m\u001b[38;5;241m.\u001b[39mhandles\u001b[38;5;241m.\u001b[39mhandle\n",
      "File \u001b[0;32m~/matmod-8sem/venv/lib/python3.10/site-packages/pandas/io/common.py:873\u001b[0m, in \u001b[0;36mget_handle\u001b[0;34m(path_or_buf, mode, encoding, compression, memory_map, is_text, errors, storage_options)\u001b[0m\n\u001b[1;32m    868\u001b[0m \u001b[38;5;28;01melif\u001b[39;00m \u001b[38;5;28misinstance\u001b[39m(handle, \u001b[38;5;28mstr\u001b[39m):\n\u001b[1;32m    869\u001b[0m     \u001b[38;5;66;03m# Check whether the filename is to be opened in binary mode.\u001b[39;00m\n\u001b[1;32m    870\u001b[0m     \u001b[38;5;66;03m# Binary mode does not support 'encoding' and 'newline'.\u001b[39;00m\n\u001b[1;32m    871\u001b[0m     \u001b[38;5;28;01mif\u001b[39;00m ioargs\u001b[38;5;241m.\u001b[39mencoding \u001b[38;5;129;01mand\u001b[39;00m \u001b[38;5;124m\"\u001b[39m\u001b[38;5;124mb\u001b[39m\u001b[38;5;124m\"\u001b[39m \u001b[38;5;129;01mnot\u001b[39;00m \u001b[38;5;129;01min\u001b[39;00m ioargs\u001b[38;5;241m.\u001b[39mmode:\n\u001b[1;32m    872\u001b[0m         \u001b[38;5;66;03m# Encoding\u001b[39;00m\n\u001b[0;32m--> 873\u001b[0m         handle \u001b[38;5;241m=\u001b[39m \u001b[38;5;28;43mopen\u001b[39;49m\u001b[43m(\u001b[49m\n\u001b[1;32m    874\u001b[0m \u001b[43m            \u001b[49m\u001b[43mhandle\u001b[49m\u001b[43m,\u001b[49m\n\u001b[1;32m    875\u001b[0m \u001b[43m            \u001b[49m\u001b[43mioargs\u001b[49m\u001b[38;5;241;43m.\u001b[39;49m\u001b[43mmode\u001b[49m\u001b[43m,\u001b[49m\n\u001b[1;32m    876\u001b[0m \u001b[43m            \u001b[49m\u001b[43mencoding\u001b[49m\u001b[38;5;241;43m=\u001b[39;49m\u001b[43mioargs\u001b[49m\u001b[38;5;241;43m.\u001b[39;49m\u001b[43mencoding\u001b[49m\u001b[43m,\u001b[49m\n\u001b[1;32m    877\u001b[0m \u001b[43m            \u001b[49m\u001b[43merrors\u001b[49m\u001b[38;5;241;43m=\u001b[39;49m\u001b[43merrors\u001b[49m\u001b[43m,\u001b[49m\n\u001b[1;32m    878\u001b[0m \u001b[43m            \u001b[49m\u001b[43mnewline\u001b[49m\u001b[38;5;241;43m=\u001b[39;49m\u001b[38;5;124;43m\"\u001b[39;49m\u001b[38;5;124;43m\"\u001b[39;49m\u001b[43m,\u001b[49m\n\u001b[1;32m    879\u001b[0m \u001b[43m        \u001b[49m\u001b[43m)\u001b[49m\n\u001b[1;32m    880\u001b[0m     \u001b[38;5;28;01melse\u001b[39;00m:\n\u001b[1;32m    881\u001b[0m         \u001b[38;5;66;03m# Binary mode\u001b[39;00m\n\u001b[1;32m    882\u001b[0m         handle \u001b[38;5;241m=\u001b[39m \u001b[38;5;28mopen\u001b[39m(handle, ioargs\u001b[38;5;241m.\u001b[39mmode)\n",
      "\u001b[0;31mFileNotFoundError\u001b[0m: [Errno 2] No such file or directory: '../result_new/first_particle.csv'"
     ]
    }
   ],
   "source": [
    "data_first_particle = pd.read_csv('../result_new/first_particle.csv',sep=' ', index_col=False)"
   ]
  },
  {
   "cell_type": "code",
   "execution_count": 171,
   "id": "1d5384e4-5050-4be0-8352-4ef5b5232a2b",
   "metadata": {},
   "outputs": [
    {
     "data": {
      "text/html": [
       "<div>\n",
       "<style scoped>\n",
       "    .dataframe tbody tr th:only-of-type {\n",
       "        vertical-align: middle;\n",
       "    }\n",
       "\n",
       "    .dataframe tbody tr th {\n",
       "        vertical-align: top;\n",
       "    }\n",
       "\n",
       "    .dataframe thead th {\n",
       "        text-align: right;\n",
       "    }\n",
       "</style>\n",
       "<table border=\"1\" class=\"dataframe\">\n",
       "  <thead>\n",
       "    <tr style=\"text-align: right;\">\n",
       "      <th></th>\n",
       "      <th>x</th>\n",
       "      <th>y</th>\n",
       "    </tr>\n",
       "  </thead>\n",
       "  <tbody>\n",
       "    <tr>\n",
       "      <th>0</th>\n",
       "      <td>0.000000e+00</td>\n",
       "      <td>-2.787590e+00</td>\n",
       "    </tr>\n",
       "    <tr>\n",
       "      <th>1</th>\n",
       "      <td>0.000000e+00</td>\n",
       "      <td>9.074600e+00</td>\n",
       "    </tr>\n",
       "    <tr>\n",
       "      <th>2</th>\n",
       "      <td>0.000000e+00</td>\n",
       "      <td>4.928220e+00</td>\n",
       "    </tr>\n",
       "    <tr>\n",
       "      <th>3</th>\n",
       "      <td>-4.820340e+00</td>\n",
       "      <td>4.928220e+00</td>\n",
       "    </tr>\n",
       "    <tr>\n",
       "      <th>4</th>\n",
       "      <td>-5.070020e+00</td>\n",
       "      <td>4.928220e+00</td>\n",
       "    </tr>\n",
       "    <tr>\n",
       "      <th>...</th>\n",
       "      <td>...</td>\n",
       "      <td>...</td>\n",
       "    </tr>\n",
       "    <tr>\n",
       "      <th>1999994</th>\n",
       "      <td>3.190510e+06</td>\n",
       "      <td>-1.594740e+06</td>\n",
       "    </tr>\n",
       "    <tr>\n",
       "      <th>1999995</th>\n",
       "      <td>3.190510e+06</td>\n",
       "      <td>-1.594740e+06</td>\n",
       "    </tr>\n",
       "    <tr>\n",
       "      <th>1999996</th>\n",
       "      <td>3.190510e+06</td>\n",
       "      <td>-1.594740e+06</td>\n",
       "    </tr>\n",
       "    <tr>\n",
       "      <th>1999997</th>\n",
       "      <td>3.190510e+06</td>\n",
       "      <td>-1.594750e+06</td>\n",
       "    </tr>\n",
       "    <tr>\n",
       "      <th>1999998</th>\n",
       "      <td>3.190510e+06</td>\n",
       "      <td>-1.594750e+06</td>\n",
       "    </tr>\n",
       "  </tbody>\n",
       "</table>\n",
       "<p>1999999 rows × 2 columns</p>\n",
       "</div>"
      ],
      "text/plain": [
       "                    x             y\n",
       "0        0.000000e+00 -2.787590e+00\n",
       "1        0.000000e+00  9.074600e+00\n",
       "2        0.000000e+00  4.928220e+00\n",
       "3       -4.820340e+00  4.928220e+00\n",
       "4       -5.070020e+00  4.928220e+00\n",
       "...               ...           ...\n",
       "1999994  3.190510e+06 -1.594740e+06\n",
       "1999995  3.190510e+06 -1.594740e+06\n",
       "1999996  3.190510e+06 -1.594740e+06\n",
       "1999997  3.190510e+06 -1.594750e+06\n",
       "1999998  3.190510e+06 -1.594750e+06\n",
       "\n",
       "[1999999 rows x 2 columns]"
      ]
     },
     "execution_count": 171,
     "metadata": {},
     "output_type": "execute_result"
    }
   ],
   "source": [
    "data_first_particle"
   ]
  },
  {
   "cell_type": "code",
   "execution_count": 172,
   "id": "a3ee8ffa-4e4b-4f94-b930-9c72ef4138fc",
   "metadata": {},
   "outputs": [
    {
     "data": {
      "text/plain": [
       "[<matplotlib.lines.Line2D at 0x178fa8079d0>]"
      ]
     },
     "execution_count": 172,
     "metadata": {},
     "output_type": "execute_result"
    },
    {
     "data": {
      "image/png": "[encoded data removed]",
      "text/plain": [
       "<Figure size 640x480 with 1 Axes>"
      ]
     },
     "metadata": {},
     "output_type": "display_data"
    }
   ],
   "source": [
    "plt.plot(data_first_particle.x,data_first_particle.y)"
   ]
  },
  {
   "cell_type": "code",
   "execution_count": 173,
   "id": "d3b78455-eb0a-4557-bd72-fb141cf6f10a",
   "metadata": {},
   "outputs": [],
   "source": [
    "data_last_vals = pd.read_csv('../result_new/last_vals.csv',sep=' ', index_col=False)"
   ]
  },
  {
   "cell_type": "code",
   "execution_count": 174,
   "id": "55140c25-fb6c-4fd0-be05-1606e0e539d2",
   "metadata": {},
   "outputs": [
    {
     "data": {
      "text/html": [
       "<div>\n",
       "<style scoped>\n",
       "    .dataframe tbody tr th:only-of-type {\n",
       "        vertical-align: middle;\n",
       "    }\n",
       "\n",
       "    .dataframe tbody tr th {\n",
       "        vertical-align: top;\n",
       "    }\n",
       "\n",
       "    .dataframe thead th {\n",
       "        text-align: right;\n",
       "    }\n",
       "</style>\n",
       "<table border=\"1\" class=\"dataframe\">\n",
       "  <thead>\n",
       "    <tr style=\"text-align: right;\">\n",
       "      <th></th>\n",
       "      <th>x</th>\n",
       "      <th>y</th>\n",
       "    </tr>\n",
       "  </thead>\n",
       "  <tbody>\n",
       "    <tr>\n",
       "      <th>0</th>\n",
       "      <td>3190510.0</td>\n",
       "      <td>-1594750.0</td>\n",
       "    </tr>\n",
       "    <tr>\n",
       "      <th>1</th>\n",
       "      <td>4460100.0</td>\n",
       "      <td>19459100.0</td>\n",
       "    </tr>\n",
       "    <tr>\n",
       "      <th>2</th>\n",
       "      <td>-1939400.0</td>\n",
       "      <td>-682322.0</td>\n",
       "    </tr>\n",
       "    <tr>\n",
       "      <th>3</th>\n",
       "      <td>1650350.0</td>\n",
       "      <td>-7355390.0</td>\n",
       "    </tr>\n",
       "    <tr>\n",
       "      <th>4</th>\n",
       "      <td>7269010.0</td>\n",
       "      <td>-3637330.0</td>\n",
       "    </tr>\n",
       "    <tr>\n",
       "      <th>...</th>\n",
       "      <td>...</td>\n",
       "      <td>...</td>\n",
       "    </tr>\n",
       "    <tr>\n",
       "      <th>149995</th>\n",
       "      <td>-2608940.0</td>\n",
       "      <td>-1095690.0</td>\n",
       "    </tr>\n",
       "    <tr>\n",
       "      <th>149996</th>\n",
       "      <td>1742090.0</td>\n",
       "      <td>1160570.0</td>\n",
       "    </tr>\n",
       "    <tr>\n",
       "      <th>149997</th>\n",
       "      <td>-9898000.0</td>\n",
       "      <td>3091490.0</td>\n",
       "    </tr>\n",
       "    <tr>\n",
       "      <th>149998</th>\n",
       "      <td>22980800.0</td>\n",
       "      <td>3153010.0</td>\n",
       "    </tr>\n",
       "    <tr>\n",
       "      <th>149999</th>\n",
       "      <td>299774.0</td>\n",
       "      <td>57424700.0</td>\n",
       "    </tr>\n",
       "  </tbody>\n",
       "</table>\n",
       "<p>150000 rows × 2 columns</p>\n",
       "</div>"
      ],
      "text/plain": [
       "                 x           y\n",
       "0        3190510.0  -1594750.0\n",
       "1        4460100.0  19459100.0\n",
       "2       -1939400.0   -682322.0\n",
       "3        1650350.0  -7355390.0\n",
       "4        7269010.0  -3637330.0\n",
       "...            ...         ...\n",
       "149995  -2608940.0  -1095690.0\n",
       "149996   1742090.0   1160570.0\n",
       "149997  -9898000.0   3091490.0\n",
       "149998  22980800.0   3153010.0\n",
       "149999    299774.0  57424700.0\n",
       "\n",
       "[150000 rows x 2 columns]"
      ]
     },
     "execution_count": 174,
     "metadata": {},
     "output_type": "execute_result"
    }
   ],
   "source": [
    "data_last_vals"
   ]
  },
  {
   "cell_type": "code",
   "execution_count": 175,
   "id": "6cb3b9b4-995b-4ea4-9549-872041d4c81e",
   "metadata": {},
   "outputs": [
    {
     "data": {
      "image/png": "[encoded data removed]",
      "text/plain": [
       "<Figure size 1000x400 with 2 Axes>"
      ]
     },
     "metadata": {},
     "output_type": "display_data"
    }
   ],
   "source": [
    "bin_cnt = 100\n",
    "bin_w = 1/bin_cnt\n",
    "_idx = 9\n",
    "plt.figure(figsize=(10, 4))\n",
    "plt.suptitle(f'Раcпределение частицы. N = {2e6}')\n",
    "\n",
    "plt.subplot(1,2,1)\n",
    "plt.hist(data_last_vals.x, bin_cnt, facecolor='r', density=True, label='E(X)', range=(-1e7, 1e7))\n",
    "plt.title(f'Вдоль Ox.')\n",
    "\n",
    "plt.subplot(1,2,2)\n",
    "plt.hist(data_last_vals.y, bin_cnt, facecolor='r', density=True, label='E(X)', range=(-1e7, 1e7))\n",
    "plt.title(f'Вдоль Oy.')\n",
    "\n",
    "plt.tight_layout()\n",
    "plt.show()"
   ]
  }
 ],
 "metadata": {
  "kernelspec": {
   "display_name": "Python 3 (ipykernel)",
   "language": "python",
   "name": "python3"
  },
  "language_info": {
   "codemirror_mode": {
    "name": "ipython",
    "version": 3
   },
   "file_extension": ".py",
   "mimetype": "text/x-python",
   "name": "python",
   "nbconvert_exporter": "python",
   "pygments_lexer": "ipython3",
   "version": "3.10.12"
  }
 },
 "nbformat": 4,
 "nbformat_minor": 5
}
