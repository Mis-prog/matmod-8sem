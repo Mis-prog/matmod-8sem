{
 "cells": [
  {
   "cell_type": "code",
   "execution_count": 11,
   "id": "5e49bfcc-d6d2-4a72-ad0c-e4672650a847",
   "metadata": {},
   "outputs": [],
   "source": [
    "import pandas as pd\n",
    "import matplotlib.pyplot as plt"
   ]
  },
  {
   "cell_type": "code",
   "execution_count": 52,
   "id": "4e5e05ac-e32d-43b5-90b4-a8fc01cfb6be",
   "metadata": {},
   "outputs": [],
   "source": [
    "data_calc = pd.read_csv('../result/calc.csv',sep=' ', index_col=False)"
   ]
  },
  {
   "cell_type": "code",
   "execution_count": 53,
   "id": "1cbf7fa6-e5e4-4204-9c51-ae380710431d",
   "metadata": {},
   "outputs": [
    {
     "data": {
      "text/html": [
       "<div>\n",
       "<style scoped>\n",
       "    .dataframe tbody tr th:only-of-type {\n",
       "        vertical-align: middle;\n",
       "    }\n",
       "\n",
       "    .dataframe tbody tr th {\n",
       "        vertical-align: top;\n",
       "    }\n",
       "\n",
       "    .dataframe thead th {\n",
       "        text-align: right;\n",
       "    }\n",
       "</style>\n",
       "<table border=\"1\" class=\"dataframe\">\n",
       "  <thead>\n",
       "    <tr style=\"text-align: right;\">\n",
       "      <th></th>\n",
       "      <th>N</th>\n",
       "      <th>&lt;x&gt;</th>\n",
       "      <th>&lt;y&gt;</th>\n",
       "      <th>&lt;R&gt;</th>\n",
       "      <th>&lt;x^2&gt;</th>\n",
       "      <th>&lt;y^2&gt;</th>\n",
       "      <th>&lt;Δx^2&gt;</th>\n",
       "      <th>&lt;Δy^2&gt;</th>\n",
       "      <th>&lt;ΔR^2&gt;</th>\n",
       "    </tr>\n",
       "  </thead>\n",
       "  <tbody>\n",
       "    <tr>\n",
       "      <th>0</th>\n",
       "      <td>0.0</td>\n",
       "      <td>-0.001864</td>\n",
       "      <td>-0.005495</td>\n",
       "      <td>0.005802</td>\n",
       "      <td>0.494634</td>\n",
       "      <td>0.491168</td>\n",
       "      <td>0.49463</td>\n",
       "      <td>0.491138</td>\n",
       "      <td>0.985769</td>\n",
       "    </tr>\n",
       "    <tr>\n",
       "      <th>1</th>\n",
       "      <td>1000.0</td>\n",
       "      <td>0.075287</td>\n",
       "      <td>-0.046451</td>\n",
       "      <td>0.088463</td>\n",
       "      <td>500.342000</td>\n",
       "      <td>501.266000</td>\n",
       "      <td>500.33700</td>\n",
       "      <td>501.264000</td>\n",
       "      <td>1001.600000</td>\n",
       "    </tr>\n",
       "    <tr>\n",
       "      <th>2</th>\n",
       "      <td>2000.0</td>\n",
       "      <td>0.071984</td>\n",
       "      <td>-0.080280</td>\n",
       "      <td>0.107827</td>\n",
       "      <td>1009.590000</td>\n",
       "      <td>1004.430000</td>\n",
       "      <td>1009.58000</td>\n",
       "      <td>1004.430000</td>\n",
       "      <td>2014.010000</td>\n",
       "    </tr>\n",
       "    <tr>\n",
       "      <th>3</th>\n",
       "      <td>3000.0</td>\n",
       "      <td>0.164822</td>\n",
       "      <td>-0.192012</td>\n",
       "      <td>0.253051</td>\n",
       "      <td>1506.110000</td>\n",
       "      <td>1510.590000</td>\n",
       "      <td>1506.08000</td>\n",
       "      <td>1510.550000</td>\n",
       "      <td>3016.630000</td>\n",
       "    </tr>\n",
       "    <tr>\n",
       "      <th>4</th>\n",
       "      <td>4000.0</td>\n",
       "      <td>0.165357</td>\n",
       "      <td>-0.226398</td>\n",
       "      <td>0.280355</td>\n",
       "      <td>1996.470000</td>\n",
       "      <td>2015.670000</td>\n",
       "      <td>1996.45000</td>\n",
       "      <td>2015.620000</td>\n",
       "      <td>4012.060000</td>\n",
       "    </tr>\n",
       "    <tr>\n",
       "      <th>5</th>\n",
       "      <td>5000.0</td>\n",
       "      <td>0.069905</td>\n",
       "      <td>-0.149322</td>\n",
       "      <td>0.164875</td>\n",
       "      <td>2487.380000</td>\n",
       "      <td>2501.960000</td>\n",
       "      <td>2487.38000</td>\n",
       "      <td>2501.940000</td>\n",
       "      <td>4989.320000</td>\n",
       "    </tr>\n",
       "    <tr>\n",
       "      <th>6</th>\n",
       "      <td>6000.0</td>\n",
       "      <td>0.121786</td>\n",
       "      <td>-0.221047</td>\n",
       "      <td>0.252376</td>\n",
       "      <td>2974.750000</td>\n",
       "      <td>3000.020000</td>\n",
       "      <td>2974.74000</td>\n",
       "      <td>2999.970000</td>\n",
       "      <td>5974.710000</td>\n",
       "    </tr>\n",
       "    <tr>\n",
       "      <th>7</th>\n",
       "      <td>7000.0</td>\n",
       "      <td>0.076432</td>\n",
       "      <td>-0.108105</td>\n",
       "      <td>0.132395</td>\n",
       "      <td>3485.900000</td>\n",
       "      <td>3489.930000</td>\n",
       "      <td>3485.90000</td>\n",
       "      <td>3489.920000</td>\n",
       "      <td>6975.810000</td>\n",
       "    </tr>\n",
       "    <tr>\n",
       "      <th>8</th>\n",
       "      <td>8000.0</td>\n",
       "      <td>0.113377</td>\n",
       "      <td>-0.327466</td>\n",
       "      <td>0.346538</td>\n",
       "      <td>3986.310000</td>\n",
       "      <td>3977.180000</td>\n",
       "      <td>3986.30000</td>\n",
       "      <td>3977.080000</td>\n",
       "      <td>7963.370000</td>\n",
       "    </tr>\n",
       "    <tr>\n",
       "      <th>9</th>\n",
       "      <td>9000.0</td>\n",
       "      <td>0.029215</td>\n",
       "      <td>-0.325398</td>\n",
       "      <td>0.326707</td>\n",
       "      <td>4474.380000</td>\n",
       "      <td>4471.580000</td>\n",
       "      <td>4474.38000</td>\n",
       "      <td>4471.470000</td>\n",
       "      <td>8945.850000</td>\n",
       "    </tr>\n",
       "    <tr>\n",
       "      <th>10</th>\n",
       "      <td>10000.0</td>\n",
       "      <td>0.060479</td>\n",
       "      <td>-0.434553</td>\n",
       "      <td>0.438741</td>\n",
       "      <td>4970.520000</td>\n",
       "      <td>4975.460000</td>\n",
       "      <td>4970.51000</td>\n",
       "      <td>4975.280000</td>\n",
       "      <td>9945.790000</td>\n",
       "    </tr>\n",
       "    <tr>\n",
       "      <th>11</th>\n",
       "      <td>11000.0</td>\n",
       "      <td>-0.001754</td>\n",
       "      <td>-0.441362</td>\n",
       "      <td>0.441365</td>\n",
       "      <td>5461.290000</td>\n",
       "      <td>5458.940000</td>\n",
       "      <td>5461.29000</td>\n",
       "      <td>5458.740000</td>\n",
       "      <td>10920.000000</td>\n",
       "    </tr>\n",
       "    <tr>\n",
       "      <th>12</th>\n",
       "      <td>11026.7</td>\n",
       "      <td>NaN</td>\n",
       "      <td>NaN</td>\n",
       "      <td>NaN</td>\n",
       "      <td>NaN</td>\n",
       "      <td>NaN</td>\n",
       "      <td>NaN</td>\n",
       "      <td>NaN</td>\n",
       "      <td>NaN</td>\n",
       "    </tr>\n",
       "    <tr>\n",
       "      <th>13</th>\n",
       "      <td>12000.0</td>\n",
       "      <td>0.119499</td>\n",
       "      <td>-0.028537</td>\n",
       "      <td>0.122859</td>\n",
       "      <td>6025.520000</td>\n",
       "      <td>6004.970000</td>\n",
       "      <td>6025.51000</td>\n",
       "      <td>6004.970000</td>\n",
       "      <td>12030.500000</td>\n",
       "    </tr>\n",
       "    <tr>\n",
       "      <th>14</th>\n",
       "      <td>13000.0</td>\n",
       "      <td>0.084121</td>\n",
       "      <td>-0.062102</td>\n",
       "      <td>0.104561</td>\n",
       "      <td>6524.960000</td>\n",
       "      <td>6526.240000</td>\n",
       "      <td>6524.95000</td>\n",
       "      <td>6526.240000</td>\n",
       "      <td>13051.200000</td>\n",
       "    </tr>\n",
       "  </tbody>\n",
       "</table>\n",
       "</div>"
      ],
      "text/plain": [
       "          N       <x>       <y>       <R>        <x^2>        <y^2>  \\\n",
       "0       0.0 -0.001864 -0.005495  0.005802     0.494634     0.491168   \n",
       "1    1000.0  0.075287 -0.046451  0.088463   500.342000   501.266000   \n",
       "2    2000.0  0.071984 -0.080280  0.107827  1009.590000  1004.430000   \n",
       "3    3000.0  0.164822 -0.192012  0.253051  1506.110000  1510.590000   \n",
       "4    4000.0  0.165357 -0.226398  0.280355  1996.470000  2015.670000   \n",
       "5    5000.0  0.069905 -0.149322  0.164875  2487.380000  2501.960000   \n",
       "6    6000.0  0.121786 -0.221047  0.252376  2974.750000  3000.020000   \n",
       "7    7000.0  0.076432 -0.108105  0.132395  3485.900000  3489.930000   \n",
       "8    8000.0  0.113377 -0.327466  0.346538  3986.310000  3977.180000   \n",
       "9    9000.0  0.029215 -0.325398  0.326707  4474.380000  4471.580000   \n",
       "10  10000.0  0.060479 -0.434553  0.438741  4970.520000  4975.460000   \n",
       "11  11000.0 -0.001754 -0.441362  0.441365  5461.290000  5458.940000   \n",
       "12  11026.7       NaN       NaN       NaN          NaN          NaN   \n",
       "13  12000.0  0.119499 -0.028537  0.122859  6025.520000  6004.970000   \n",
       "14  13000.0  0.084121 -0.062102  0.104561  6524.960000  6526.240000   \n",
       "\n",
       "        <Δx^2>       <Δy^2>        <ΔR^2>  \n",
       "0      0.49463     0.491138      0.985769  \n",
       "1    500.33700   501.264000   1001.600000  \n",
       "2   1009.58000  1004.430000   2014.010000  \n",
       "3   1506.08000  1510.550000   3016.630000  \n",
       "4   1996.45000  2015.620000   4012.060000  \n",
       "5   2487.38000  2501.940000   4989.320000  \n",
       "6   2974.74000  2999.970000   5974.710000  \n",
       "7   3485.90000  3489.920000   6975.810000  \n",
       "8   3986.30000  3977.080000   7963.370000  \n",
       "9   4474.38000  4471.470000   8945.850000  \n",
       "10  4970.51000  4975.280000   9945.790000  \n",
       "11  5461.29000  5458.740000  10920.000000  \n",
       "12         NaN          NaN           NaN  \n",
       "13  6025.51000  6004.970000  12030.500000  \n",
       "14  6524.95000  6526.240000  13051.200000  "
      ]
     },
     "execution_count": 53,
     "metadata": {},
     "output_type": "execute_result"
    }
   ],
   "source": [
    "data_calc"
   ]
  },
  {
   "cell_type": "code",
   "execution_count": 54,
   "id": "b7a7ecfa-c500-499f-988a-d48e55183b03",
   "metadata": {},
   "outputs": [
    {
     "data": {
      "text/plain": [
       "[<matplotlib.lines.Line2D at 0x2b80db41790>]"
      ]
     },
     "execution_count": 54,
     "metadata": {},
     "output_type": "execute_result"
    },
    {
     "data": {
      "image/png": "[encoded data removed]",
      "text/plain": [
       "<Figure size 640x480 with 1 Axes>"
      ]
     },
     "metadata": {},
     "output_type": "display_data"
    }
   ],
   "source": [
    "plt.plot(data_calc['<ΔR^2>'])"
   ]
  },
  {
   "cell_type": "code",
   "execution_count": 55,
   "id": "7068d29d-2eb6-4ab9-a1ed-e7edea9b9381",
   "metadata": {},
   "outputs": [],
   "source": [
    "data_first_particle = pd.read_csv('../result/first_particle.csv',sep=' ', index_col=False)"
   ]
  },
  {
   "cell_type": "code",
   "execution_count": 56,
   "id": "1d5384e4-5050-4be0-8352-4ef5b5232a2b",
   "metadata": {},
   "outputs": [
    {
     "data": {
      "text/html": [
       "<div>\n",
       "<style scoped>\n",
       "    .dataframe tbody tr th:only-of-type {\n",
       "        vertical-align: middle;\n",
       "    }\n",
       "\n",
       "    .dataframe tbody tr th {\n",
       "        vertical-align: top;\n",
       "    }\n",
       "\n",
       "    .dataframe thead th {\n",
       "        text-align: right;\n",
       "    }\n",
       "</style>\n",
       "<table border=\"1\" class=\"dataframe\">\n",
       "  <thead>\n",
       "    <tr style=\"text-align: right;\">\n",
       "      <th></th>\n",
       "      <th>x</th>\n",
       "      <th>y</th>\n",
       "    </tr>\n",
       "  </thead>\n",
       "  <tbody>\n",
       "    <tr>\n",
       "      <th>0</th>\n",
       "      <td>-0.241371</td>\n",
       "      <td>0.000000</td>\n",
       "    </tr>\n",
       "    <tr>\n",
       "      <th>1</th>\n",
       "      <td>-0.241371</td>\n",
       "      <td>0.501844</td>\n",
       "    </tr>\n",
       "    <tr>\n",
       "      <th>2</th>\n",
       "      <td>-0.241371</td>\n",
       "      <td>-0.227982</td>\n",
       "    </tr>\n",
       "    <tr>\n",
       "      <th>3</th>\n",
       "      <td>-0.241371</td>\n",
       "      <td>0.210800</td>\n",
       "    </tr>\n",
       "    <tr>\n",
       "      <th>4</th>\n",
       "      <td>-0.241371</td>\n",
       "      <td>-0.493409</td>\n",
       "    </tr>\n",
       "    <tr>\n",
       "      <th>...</th>\n",
       "      <td>...</td>\n",
       "      <td>...</td>\n",
       "    </tr>\n",
       "    <tr>\n",
       "      <th>18271</th>\n",
       "      <td>-103.446000</td>\n",
       "      <td>81.759700</td>\n",
       "    </tr>\n",
       "    <tr>\n",
       "      <th>18272</th>\n",
       "      <td>-103.446000</td>\n",
       "      <td>82.500300</td>\n",
       "    </tr>\n",
       "    <tr>\n",
       "      <th>18273</th>\n",
       "      <td>-103.446000</td>\n",
       "      <td>82.742900</td>\n",
       "    </tr>\n",
       "    <tr>\n",
       "      <th>18274</th>\n",
       "      <td>-102.993000</td>\n",
       "      <td>82.742900</td>\n",
       "    </tr>\n",
       "    <tr>\n",
       "      <th>18275</th>\n",
       "      <td>-102.993000</td>\n",
       "      <td>83.029300</td>\n",
       "    </tr>\n",
       "  </tbody>\n",
       "</table>\n",
       "<p>18276 rows × 2 columns</p>\n",
       "</div>"
      ],
      "text/plain": [
       "                x          y\n",
       "0       -0.241371   0.000000\n",
       "1       -0.241371   0.501844\n",
       "2       -0.241371  -0.227982\n",
       "3       -0.241371   0.210800\n",
       "4       -0.241371  -0.493409\n",
       "...           ...        ...\n",
       "18271 -103.446000  81.759700\n",
       "18272 -103.446000  82.500300\n",
       "18273 -103.446000  82.742900\n",
       "18274 -102.993000  82.742900\n",
       "18275 -102.993000  83.029300\n",
       "\n",
       "[18276 rows x 2 columns]"
      ]
     },
     "execution_count": 56,
     "metadata": {},
     "output_type": "execute_result"
    }
   ],
   "source": [
    "data_first_particle"
   ]
  },
  {
   "cell_type": "code",
   "execution_count": 57,
   "id": "a3ee8ffa-4e4b-4f94-b930-9c72ef4138fc",
   "metadata": {},
   "outputs": [
    {
     "data": {
      "text/plain": [
       "[<matplotlib.lines.Line2D at 0x2b80d3a7740>]"
      ]
     },
     "execution_count": 57,
     "metadata": {},
     "output_type": "execute_result"
    },
    {
     "data": {
      "image/png": "[encoded data removed]",
      "text/plain": [
       "<Figure size 640x480 with 1 Axes>"
      ]
     },
     "metadata": {},
     "output_type": "display_data"
    }
   ],
   "source": [
    "plt.plot(data_first_particle.x,data_first_particle.y)"
   ]
  },
  {
   "cell_type": "code",
   "execution_count": null,
   "id": "0b25ed8f-a856-444e-add7-4297d73d28e6",
   "metadata": {},
   "outputs": [],
   "source": [
    "data_last_vals = pd.read_csv('../result/last_vals.csv',sep=' ', index_col=False)"
   ]
  },
  {
   "cell_type": "code",
   "execution_count": 33,
   "id": "55140c25-fb6c-4fd0-be05-1606e0e539d2",
   "metadata": {},
   "outputs": [
    {
     "data": {
      "text/html": [
       "<div>\n",
       "<style scoped>\n",
       "    .dataframe tbody tr th:only-of-type {\n",
       "        vertical-align: middle;\n",
       "    }\n",
       "\n",
       "    .dataframe tbody tr th {\n",
       "        vertical-align: top;\n",
       "    }\n",
       "\n",
       "    .dataframe thead th {\n",
       "        text-align: right;\n",
       "    }\n",
       "</style>\n",
       "<table border=\"1\" class=\"dataframe\">\n",
       "  <thead>\n",
       "    <tr style=\"text-align: right;\">\n",
       "      <th></th>\n",
       "      <th>x</th>\n",
       "      <th>y</th>\n",
       "    </tr>\n",
       "  </thead>\n",
       "  <tbody>\n",
       "  </tbody>\n",
       "</table>\n",
       "</div>"
      ],
      "text/plain": [
       "Empty DataFrame\n",
       "Columns: [x, y]\n",
       "Index: []"
      ]
     },
     "execution_count": 33,
     "metadata": {},
     "output_type": "execute_result"
    }
   ],
   "source": [
    "data_last_vals"
   ]
  },
  {
   "cell_type": "code",
   "execution_count": 34,
   "id": "6cb3b9b4-995b-4ea4-9549-872041d4c81e",
   "metadata": {},
   "outputs": [
    {
     "name": "stderr",
     "output_type": "stream",
     "text": [
      "C:\\Users\\aliya\\CLionProjects\\matmod-8sem\\venv\\Lib\\site-packages\\numpy\\lib\\_histograms_impl.py:901: RuntimeWarning: invalid value encountered in divide\n",
      "  return n/db/n.sum(), bin_edges\n"
     ]
    },
    {
     "data": {
      "image/png": "[encoded data removed]",
      "text/plain": [
       "<Figure size 1000x400 with 2 Axes>"
      ]
     },
     "metadata": {},
     "output_type": "display_data"
    }
   ],
   "source": [
    "bin_cnt = 100\n",
    "bin_w = 1/bin_cnt\n",
    "_idx = 9\n",
    "plt.figure(figsize=(10, 4))\n",
    "plt.suptitle(f'Раcпределение частиц. N = {len(data_last_vals.x)}.')\n",
    "\n",
    "plt.subplot(1,2,1)\n",
    "plt.hist(data_last_vals.x, bin_cnt, facecolor='r', density=True, label='E(X)', range=(-1e2, 1e2))\n",
    "plt.title(f'Вдоль Ox.')\n",
    "\n",
    "plt.subplot(1,2,2)\n",
    "plt.hist(data_last_vals.y, bin_cnt, facecolor='r', density=True, label='E(X)', range=(-1e2, 1e2))\n",
    "plt.title(f'Вдоль Oy.')\n",
    "\n",
    "plt.tight_layout()\n",
    "plt.show()"
   ]
  },
  {
   "cell_type": "code",
   "execution_count": null,
   "id": "506fb129-feb7-41d6-8b44-a2534fb71d35",
   "metadata": {},
   "outputs": [],
   "source": []
  }
 ],
 "metadata": {
  "kernelspec": {
   "display_name": "Python 3 (ipykernel)",
   "language": "python",
   "name": "python3"
  },
  "language_info": {
   "codemirror_mode": {
    "name": "ipython",
    "version": 3
   },
   "file_extension": ".py",
   "mimetype": "text/x-python",
   "name": "python",
   "nbconvert_exporter": "python",
   "pygments_lexer": "ipython3",
   "version": "3.12.1"
  }
 },
 "nbformat": 4,
 "nbformat_minor": 5
}
