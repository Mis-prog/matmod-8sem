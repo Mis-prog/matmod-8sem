{
 "cells": [
  {
   "cell_type": "code",
   "execution_count": 34,
   "metadata": {},
   "outputs": [],
   "source": [
    "import pyDOE2 as ff\n",
    "import numpy as np\n",
    "import pandas as pd\n",
    "from scipy.stats import f as Fisher\n",
    "from scipy.stats import t as Student"
   ]
  },
  {
   "cell_type": "code",
   "execution_count": 35,
   "metadata": {},
   "outputs": [
    {
     "data": {
      "text/plain": [
       "'Misha'"
      ]
     },
     "execution_count": 35,
     "metadata": {},
     "output_type": "execute_result"
    }
   ],
   "source": [
    "Authors = [\"Danis\",\"Myrat\",\"Alia\",\"Misha\"]\n",
    "Author = Authors[3]\n",
    "Author"
   ]
  },
  {
   "cell_type": "code",
   "execution_count": 49,
   "metadata": {},
   "outputs": [
    {
     "name": "stdout",
     "output_type": "stream",
     "text": [
      "α = 1 ; β = 0.6666666666666666\n"
     ]
    },
    {
     "data": {
      "text/plain": [
       "array([[-1, -1],\n",
       "       [ 1, -1],\n",
       "       [-1,  1],\n",
       "       [ 1,  1],\n",
       "       [-1,  0],\n",
       "       [ 1,  0],\n",
       "       [ 0, -1],\n",
       "       [ 0,  1],\n",
       "       [ 0,  0]], dtype=int8)"
      ]
     },
     "execution_count": 49,
     "metadata": {},
     "output_type": "execute_result"
    }
   ],
   "source": [
    "factor_count = 2  # Количество факторов\n",
    "y_count = 3  # Количество опытов для каждой комбинации факторов\n",
    "N0 = factor_count**2\n",
    "experiment_count = N0 + 2 * factor_count + 1  # Количество экспериментов\n",
    "name_y = 'y average'  # Название столбца для построения регрессии\n",
    "alpha = int(np.sqrt((np.sqrt(N0 * experiment_count) - N0)/2))\n",
    "betta = (N0 + 2*alpha**2)/experiment_count\n",
    "print(f\"α = {alpha} ; β = {betta}\")\n",
    "table = ff.ccdesign(factor_count, center=(0, 1))  # Матрица планирования\n",
    "table = np.array(table, dtype=np.int8)\n",
    "table\n"
   ]
  },
  {
   "cell_type": "code",
   "execution_count": 37,
   "metadata": {},
   "outputs": [],
   "source": [
    "database = pd.read_excel('Data_' + Author + '.xlsx') \n",
    "database = database[database.columns[1:]]\n",
    "database = database.to_numpy()\n",
    "#print(database)\n",
    "data = []\n",
    "for i in range(y_count):\n",
    "    data.append(list(zip(np.log(database[y_count*i,:] - 0.43),\n",
    "                         np.log(database[y_count*i + 1,:]- 0.43),\n",
    "                         np.log(database[y_count*i + 2,:]- 0.43)))) # хранение опытов для каждой комбинации факторов\n",
    "    # data.append(list(zip(database[y_count*i,:],\n",
    "    #                      database[y_count*i + 1,:],\n",
    "    #                      database[y_count*i + 2,:]))) # хранение опытов для каждой комбинации факторов\n",
    "# data\n"
   ]
  },
  {
   "cell_type": "code",
   "execution_count": 38,
   "metadata": {},
   "outputs": [],
   "source": [
    "dtypes = np.dtype(\n",
    "    [   \n",
    "        (\"x0\", int),\n",
    "        (\"x1\", int),\n",
    "        (\"x2\", int),\n",
    "        (\"x1x2\", int),\n",
    "        (\"(x1)^2\", int),\n",
    "        (\"(x2)^2\", int),\n",
    "        (\"(x1~)^2\", np.float64),\n",
    "        (\"(x2~)^2\", np.float64),\n",
    "        (\"y1\", np.float64),\n",
    "        (\"y2\", np.float64),\n",
    "        ('y3', np.float64),\n",
    "        ('y average', np.float64)\n",
    "    ]\n",
    ")\n",
    "df = pd.DataFrame(np.zeros(experiment_count, dtype=dtypes))"
   ]
  },
  {
   "cell_type": "code",
   "execution_count": 39,
   "metadata": {},
   "outputs": [],
   "source": [
    "for i in range(experiment_count):\n",
    "    idx1 = table[i, 0]  # x1\n",
    "    idx2 = table[i, 1]  # x2\n",
    "    # совокупность значений y\n",
    "    ys = np.array(data[idx1 + 1][idx2 + 1], dtype=np.float64)\n",
    "    # print(ys)\n",
    "    df.iloc[i] = {'x0': 1, 'x1': idx1, 'x2': idx2, 'x1x2': idx1*idx2, '(x1)^2': idx1**2, '(x2)^2': idx2**2,\n",
    "                '(x1~)^2': idx1**2 - betta, '(x2~)^2': idx2**2 - betta,\n",
    "                'y1': ys[0], 'y2': ys[1], 'y3': ys[2], 'y average': np.mean(ys)}\n",
    "# y1 - столбец целевой переменной для построения регрессии\n",
    "fixed_y = df[name_y]\n",
    "# df\n"
   ]
  },
  {
   "cell_type": "code",
   "execution_count": 40,
   "metadata": {},
   "outputs": [
    {
     "name": "stdout",
     "output_type": "stream",
     "text": [
      "Линейные коэффициенты: [-0.64046043  0.37458774  0.20467431]\n",
      "Квадратичные коэффициенты: [-0.19216315 -0.12795978]\n",
      "Парный коэффициент: 0.007605610616588376\n"
     ]
    }
   ],
   "source": [
    "\n",
    "a = []\n",
    "# Линейные коэффициенты\n",
    "tmp = np.zeros(factor_count + 1)\n",
    "for i,name in enumerate(df.columns[:factor_count + 1]):\n",
    "    tmp[i] = (1./(N0 + 2*alpha**2)) * np.sum(df[name] * fixed_y)\n",
    "tmp[0] = (1./experiment_count) * np.sum(fixed_y)\n",
    "a.append(tmp)\n",
    "del tmp\n",
    "# Квадратичные коэффициенты\n",
    "tmp = np.zeros(factor_count)\n",
    "for i,name in enumerate(df.columns[(factor_count + 1)*2:(factor_count + 1)*2 + factor_count]):\n",
    "    tmp[i] = (1./(2*alpha**4)) * np.sum(df[name] * fixed_y)\n",
    "a.append(tmp)\n",
    "del tmp\n",
    "# Парный коэффициент\n",
    "a.append((1./N0) * np.sum(df['x1x2'] * fixed_y))\n",
    "print(f\"Линейные коэффициенты: {a[0]}\\nКвадратичные коэффициенты: {a[1]}\\nПарный коэффициент: {a[2]}\")\n",
    "regression = lambda x: np.sum(x*a[0]) + np.sum((x[1:]**2)*a[1]) + x[1]*x[2]*a[2]   #где x[0]=1 - фиктивный фактор"
   ]
  },
  {
   "cell_type": "code",
   "execution_count": 41,
   "metadata": {},
   "outputs": [],
   "source": [
    "dtypes = np.dtype(\n",
    "    [\n",
    "        ('(y1-y_avg)^2', np.float64),\n",
    "        ('(y2-y_avg)^2', np.float64),\n",
    "        ('(y3-y_avg)^2', np.float64),\n",
    "        (\"Variance\", np.float64),\n",
    "        ('y regression_' + name_y, np.float64),\n",
    "        ('Δy^2', np.float64)\n",
    "    ]\n",
    ")\n",
    "df_tmp = pd.DataFrame(np.zeros(experiment_count, dtype=dtypes))\n",
    "df = pd.concat([df, df_tmp], axis=1)\n",
    "# df"
   ]
  },
  {
   "cell_type": "code",
   "execution_count": 42,
   "metadata": {},
   "outputs": [],
   "source": [
    "# df['y regression_' + name_y] = [regression(i) for i in df[df.columns[:factor_count + 1]].to_numpy()]\n",
    "# df['Δy^2'] = (fixed_y - df['y regression_' + name_y]) ** 2\n",
    "\n",
    "tmp = df.columns[factor_count*3 + 2:(factor_count*3 + 2) + y_count]\n",
    "\n",
    "for idx,name in enumerate(df_tmp.columns[:y_count]):\n",
    "    df[name] = (df[tmp[idx]] - df['y average'])**2\n",
    "    df['Variance'] += df[name]\n",
    "del tmp\n",
    "\n",
    "# df"
   ]
  },
  {
   "cell_type": "markdown",
   "metadata": {},
   "source": [
    "### Проверка адекватности модели ###"
   ]
  },
  {
   "cell_type": "code",
   "execution_count": 43,
   "metadata": {},
   "outputs": [
    {
     "name": "stdout",
     "output_type": "stream",
     "text": [
      "f = 6\n",
      "S_y = 0.0012561908155534916\n"
     ]
    }
   ],
   "source": [
    "f = experiment_count - (factor_count + 1)\n",
    "print(f\"f = {f}\")\n",
    "\n",
    "S_y = df['Variance'].sum() * (1/(experiment_count * (y_count - 1)))\n",
    "print(f\"S_y = {S_y}\")\n"
   ]
  },
  {
   "cell_type": "code",
   "execution_count": 44,
   "metadata": {},
   "outputs": [],
   "source": [
    "p = 0.01 # Принятый уровень значимости"
   ]
  },
  {
   "cell_type": "markdown",
   "metadata": {},
   "source": [
    "#### Критерий Стьюдента ####"
   ]
  },
  {
   "cell_type": "code",
   "execution_count": 45,
   "metadata": {},
   "outputs": [
    {
     "name": "stdout",
     "output_type": "stream",
     "text": [
      "S_a0 = 0.006169796459374151\n",
      "S_ai = 0.008353943897457096\n",
      "S_ail = 0.01023144994430364\n",
      "S_aii = 0.014469455273975657\n",
      "Табличное значение критерия Стьюдента: 2.878440472713585\n",
      "Коэффициент a1 является значимым!\n",
      "Коэффициент a2 является значимым!\n",
      "Коэффициент a11 является значимым!\n",
      "Коэффициент a22 является значимым!\n",
      "Коэффициент a12 является незначимым!\n"
     ]
    }
   ],
   "source": [
    "S_a0 = np.sqrt(np.abs(S_y/(y_count*(experiment_count+2*(alpha**4)))))\n",
    "S_ai = np.sqrt(np.abs(S_y/(y_count*(N0+2*(alpha**2)))))\n",
    "S_ail = np.sqrt(np.abs(S_y/(y_count*N0)))\n",
    "S_aii = np.sqrt(np.abs(S_y/(y_count*(2*(alpha**4)))))\n",
    "print(f\"S_a0 = {S_a0}\\nS_ai = {S_ai}\\nS_ail = {S_ail}\\nS_aii = {S_aii}\")\n",
    "\n",
    "t_table = Student.ppf(1-p/2, experiment_count*(y_count-1)) # Табличный критерий Стьюдента\n",
    "print(f\"Табличное значение критерия Стьюдента: {t_table}\")\n",
    "\n",
    "t = np.zeros(6)\n",
    "# Проверка линейных коэффициентов\n",
    "t[0] = np.abs(a[0][0])/S_a0\n",
    "for i in range(1, len(a[0])):\n",
    "    t[i] = np.abs(a[0][i])/S_ai\n",
    "    if t[i] > t_table:\n",
    "        print(f\"Коэффициент a{i} является значимым!\")\n",
    "    else:\n",
    "        print(f\"Коэффициент a{i} является незначимым!\")\n",
    "        a[0][i] = 0\n",
    "# Проверка квадратичных коэффициентов\n",
    "for i in range(len(a[1])):\n",
    "    t[i+len(a[0])] = np.abs(a[1][i])/S_aii\n",
    "    if t[i+len(a[0])] > t_table:\n",
    "        print(f\"Коэффициент a{i+1}{i+1} является значимым!\")\n",
    "    else:\n",
    "        print(f\"Коэффициент a{i+1}{i+1} является незначимым!\")\n",
    "        a[1][i] = 0\n",
    "# Проверка парного коэффициента:\n",
    "t[-1] = np.abs(a[-1])/S_ail\n",
    "if t[-1] > t_table:\n",
    "    print(f\"Коэффициент a12 является значимым!\")\n",
    "else:\n",
    "    print(f\"Коэффициент a12 является незначимым!\")\n",
    "    a[-1] = 0"
   ]
  },
  {
   "cell_type": "markdown",
   "metadata": {},
   "source": [
    "#### Критерий Фишера ####"
   ]
  },
  {
   "cell_type": "code",
   "execution_count": 46,
   "metadata": {},
   "outputs": [
    {
     "name": "stdout",
     "output_type": "stream",
     "text": [
      "S_ад = 0.06842919051345227\n"
     ]
    }
   ],
   "source": [
    "df['y regression_' + name_y] = [regression(i) for i in df[df.columns[:factor_count + 1]].to_numpy()]\n",
    "df['Δy^2'] = (fixed_y - df['y regression_' + name_y]) ** 2\n",
    "\n",
    "S_ad = (1./f) * df['Δy^2'].sum()\n",
    "print(f\"S_ад = {S_ad}\")"
   ]
  },
  {
   "cell_type": "code",
   "execution_count": 47,
   "metadata": {},
   "outputs": [
    {
     "name": "stdout",
     "output_type": "stream",
     "text": [
      "Табличное значение критерия Фишера: 4.014636507354758\n",
      "Модель неадекватна c F = 54.47356378202909!\n"
     ]
    }
   ],
   "source": [
    "F_table = Fisher.ppf(1-p, f, experiment_count*(y_count-1)) # Табличный критерий Фишера\n",
    "print(f\"Табличное значение критерия Фишера: {F_table}\")\n",
    "\n",
    "F = S_ad/S_y\n",
    "print(f\"Модель адекватна c F = {F}!\") if F < F_table else print(f\"Модель неадекватна c F = {F}!\")\n"
   ]
  },
  {
   "cell_type": "code",
   "execution_count": 48,
   "metadata": {},
   "outputs": [
    {
     "data": {
      "text/html": [
       "<div>\n",
       "<style scoped>\n",
       "    .dataframe tbody tr th:only-of-type {\n",
       "        vertical-align: middle;\n",
       "    }\n",
       "\n",
       "    .dataframe tbody tr th {\n",
       "        vertical-align: top;\n",
       "    }\n",
       "\n",
       "    .dataframe thead th {\n",
       "        text-align: right;\n",
       "    }\n",
       "</style>\n",
       "<table border=\"1\" class=\"dataframe\">\n",
       "  <thead>\n",
       "    <tr style=\"text-align: right;\">\n",
       "      <th></th>\n",
       "      <th>x0</th>\n",
       "      <th>x1</th>\n",
       "      <th>x2</th>\n",
       "      <th>x1x2</th>\n",
       "      <th>(x1)^2</th>\n",
       "      <th>(x2)^2</th>\n",
       "      <th>(x1~)^2</th>\n",
       "      <th>(x2~)^2</th>\n",
       "      <th>y1</th>\n",
       "      <th>y2</th>\n",
       "      <th>y3</th>\n",
       "      <th>y average</th>\n",
       "      <th>(y1-y_avg)^2</th>\n",
       "      <th>(y2-y_avg)^2</th>\n",
       "      <th>(y3-y_avg)^2</th>\n",
       "      <th>Variance</th>\n",
       "      <th>y regression_y average</th>\n",
       "      <th>Δy^2</th>\n",
       "    </tr>\n",
       "  </thead>\n",
       "  <tbody>\n",
       "    <tr>\n",
       "      <th>0</th>\n",
       "      <td>1</td>\n",
       "      <td>-1</td>\n",
       "      <td>-1</td>\n",
       "      <td>1</td>\n",
       "      <td>1</td>\n",
       "      <td>1</td>\n",
       "      <td>0.333333</td>\n",
       "      <td>0.333333</td>\n",
       "      <td>-1.319010</td>\n",
       "      <td>-1.350155</td>\n",
       "      <td>-1.299750</td>\n",
       "      <td>-1.322972</td>\n",
       "      <td>0.000016</td>\n",
       "      <td>7.389564e-04</td>\n",
       "      <td>0.000539</td>\n",
       "      <td>0.001294</td>\n",
       "      <td>-1.539845</td>\n",
       "      <td>0.047034</td>\n",
       "    </tr>\n",
       "    <tr>\n",
       "      <th>1</th>\n",
       "      <td>1</td>\n",
       "      <td>1</td>\n",
       "      <td>-1</td>\n",
       "      <td>-1</td>\n",
       "      <td>1</td>\n",
       "      <td>1</td>\n",
       "      <td>0.333333</td>\n",
       "      <td>0.333333</td>\n",
       "      <td>-0.597110</td>\n",
       "      <td>-0.620827</td>\n",
       "      <td>-0.548008</td>\n",
       "      <td>-0.588648</td>\n",
       "      <td>0.000072</td>\n",
       "      <td>1.035437e-03</td>\n",
       "      <td>0.001652</td>\n",
       "      <td>0.002759</td>\n",
       "      <td>-0.790670</td>\n",
       "      <td>0.040813</td>\n",
       "    </tr>\n",
       "    <tr>\n",
       "      <th>2</th>\n",
       "      <td>1</td>\n",
       "      <td>-1</td>\n",
       "      <td>1</td>\n",
       "      <td>-1</td>\n",
       "      <td>1</td>\n",
       "      <td>1</td>\n",
       "      <td>0.333333</td>\n",
       "      <td>0.333333</td>\n",
       "      <td>-0.947781</td>\n",
       "      <td>-0.949589</td>\n",
       "      <td>-0.856608</td>\n",
       "      <td>-0.917993</td>\n",
       "      <td>0.000887</td>\n",
       "      <td>9.983263e-04</td>\n",
       "      <td>0.003768</td>\n",
       "      <td>0.005654</td>\n",
       "      <td>-1.130497</td>\n",
       "      <td>0.045158</td>\n",
       "    </tr>\n",
       "    <tr>\n",
       "      <th>3</th>\n",
       "      <td>1</td>\n",
       "      <td>1</td>\n",
       "      <td>1</td>\n",
       "      <td>1</td>\n",
       "      <td>1</td>\n",
       "      <td>1</td>\n",
       "      <td>0.333333</td>\n",
       "      <td>0.333333</td>\n",
       "      <td>-0.138228</td>\n",
       "      <td>-0.159582</td>\n",
       "      <td>-0.161931</td>\n",
       "      <td>-0.153247</td>\n",
       "      <td>0.000226</td>\n",
       "      <td>4.013287e-05</td>\n",
       "      <td>0.000075</td>\n",
       "      <td>0.000341</td>\n",
       "      <td>-0.381321</td>\n",
       "      <td>0.052018</td>\n",
       "    </tr>\n",
       "    <tr>\n",
       "      <th>4</th>\n",
       "      <td>1</td>\n",
       "      <td>-1</td>\n",
       "      <td>0</td>\n",
       "      <td>0</td>\n",
       "      <td>1</td>\n",
       "      <td>0</td>\n",
       "      <td>0.333333</td>\n",
       "      <td>-0.666667</td>\n",
       "      <td>-1.037894</td>\n",
       "      <td>-0.931151</td>\n",
       "      <td>-1.019986</td>\n",
       "      <td>-0.996343</td>\n",
       "      <td>0.001726</td>\n",
       "      <td>4.250098e-03</td>\n",
       "      <td>0.000559</td>\n",
       "      <td>0.006535</td>\n",
       "      <td>-1.207211</td>\n",
       "      <td>0.044465</td>\n",
       "    </tr>\n",
       "    <tr>\n",
       "      <th>5</th>\n",
       "      <td>1</td>\n",
       "      <td>1</td>\n",
       "      <td>0</td>\n",
       "      <td>0</td>\n",
       "      <td>1</td>\n",
       "      <td>0</td>\n",
       "      <td>0.333333</td>\n",
       "      <td>-0.666667</td>\n",
       "      <td>-0.230042</td>\n",
       "      <td>-0.247564</td>\n",
       "      <td>-0.266051</td>\n",
       "      <td>-0.247886</td>\n",
       "      <td>0.000318</td>\n",
       "      <td>1.034038e-07</td>\n",
       "      <td>0.000330</td>\n",
       "      <td>0.000648</td>\n",
       "      <td>-0.458036</td>\n",
       "      <td>0.044163</td>\n",
       "    </tr>\n",
       "    <tr>\n",
       "      <th>6</th>\n",
       "      <td>1</td>\n",
       "      <td>0</td>\n",
       "      <td>-1</td>\n",
       "      <td>0</td>\n",
       "      <td>0</td>\n",
       "      <td>1</td>\n",
       "      <td>-0.666667</td>\n",
       "      <td>0.333333</td>\n",
       "      <td>-0.784167</td>\n",
       "      <td>-0.735637</td>\n",
       "      <td>-0.735429</td>\n",
       "      <td>-0.751744</td>\n",
       "      <td>0.001051</td>\n",
       "      <td>2.594321e-04</td>\n",
       "      <td>0.000266</td>\n",
       "      <td>0.001577</td>\n",
       "      <td>-0.973095</td>\n",
       "      <td>0.048996</td>\n",
       "    </tr>\n",
       "    <tr>\n",
       "      <th>7</th>\n",
       "      <td>1</td>\n",
       "      <td>0</td>\n",
       "      <td>1</td>\n",
       "      <td>0</td>\n",
       "      <td>0</td>\n",
       "      <td>1</td>\n",
       "      <td>-0.666667</td>\n",
       "      <td>0.333333</td>\n",
       "      <td>-0.361113</td>\n",
       "      <td>-0.339116</td>\n",
       "      <td>-0.392006</td>\n",
       "      <td>-0.364078</td>\n",
       "      <td>0.000009</td>\n",
       "      <td>6.231345e-04</td>\n",
       "      <td>0.000780</td>\n",
       "      <td>0.001412</td>\n",
       "      <td>-0.563746</td>\n",
       "      <td>0.039867</td>\n",
       "    </tr>\n",
       "    <tr>\n",
       "      <th>8</th>\n",
       "      <td>1</td>\n",
       "      <td>0</td>\n",
       "      <td>0</td>\n",
       "      <td>0</td>\n",
       "      <td>0</td>\n",
       "      <td>0</td>\n",
       "      <td>-0.666667</td>\n",
       "      <td>-0.666667</td>\n",
       "      <td>-0.383606</td>\n",
       "      <td>-0.451614</td>\n",
       "      <td>-0.428478</td>\n",
       "      <td>-0.421232</td>\n",
       "      <td>0.001416</td>\n",
       "      <td>9.230228e-04</td>\n",
       "      <td>0.000052</td>\n",
       "      <td>0.002391</td>\n",
       "      <td>-0.640460</td>\n",
       "      <td>0.048061</td>\n",
       "    </tr>\n",
       "  </tbody>\n",
       "</table>\n",
       "</div>"
      ],
      "text/plain": [
       "   x0  x1  x2  x1x2  (x1)^2  (x2)^2   (x1~)^2   (x2~)^2        y1        y2  \\\n",
       "0   1  -1  -1     1       1       1  0.333333  0.333333 -1.319010 -1.350155   \n",
       "1   1   1  -1    -1       1       1  0.333333  0.333333 -0.597110 -0.620827   \n",
       "2   1  -1   1    -1       1       1  0.333333  0.333333 -0.947781 -0.949589   \n",
       "3   1   1   1     1       1       1  0.333333  0.333333 -0.138228 -0.159582   \n",
       "4   1  -1   0     0       1       0  0.333333 -0.666667 -1.037894 -0.931151   \n",
       "5   1   1   0     0       1       0  0.333333 -0.666667 -0.230042 -0.247564   \n",
       "6   1   0  -1     0       0       1 -0.666667  0.333333 -0.784167 -0.735637   \n",
       "7   1   0   1     0       0       1 -0.666667  0.333333 -0.361113 -0.339116   \n",
       "8   1   0   0     0       0       0 -0.666667 -0.666667 -0.383606 -0.451614   \n",
       "\n",
       "         y3  y average  (y1-y_avg)^2  (y2-y_avg)^2  (y3-y_avg)^2  Variance  \\\n",
       "0 -1.299750  -1.322972      0.000016  7.389564e-04      0.000539  0.001294   \n",
       "1 -0.548008  -0.588648      0.000072  1.035437e-03      0.001652  0.002759   \n",
       "2 -0.856608  -0.917993      0.000887  9.983263e-04      0.003768  0.005654   \n",
       "3 -0.161931  -0.153247      0.000226  4.013287e-05      0.000075  0.000341   \n",
       "4 -1.019986  -0.996343      0.001726  4.250098e-03      0.000559  0.006535   \n",
       "5 -0.266051  -0.247886      0.000318  1.034038e-07      0.000330  0.000648   \n",
       "6 -0.735429  -0.751744      0.001051  2.594321e-04      0.000266  0.001577   \n",
       "7 -0.392006  -0.364078      0.000009  6.231345e-04      0.000780  0.001412   \n",
       "8 -0.428478  -0.421232      0.001416  9.230228e-04      0.000052  0.002391   \n",
       "\n",
       "   y regression_y average      Δy^2  \n",
       "0               -1.539845  0.047034  \n",
       "1               -0.790670  0.040813  \n",
       "2               -1.130497  0.045158  \n",
       "3               -0.381321  0.052018  \n",
       "4               -1.207211  0.044465  \n",
       "5               -0.458036  0.044163  \n",
       "6               -0.973095  0.048996  \n",
       "7               -0.563746  0.039867  \n",
       "8               -0.640460  0.048061  "
      ]
     },
     "execution_count": 48,
     "metadata": {},
     "output_type": "execute_result"
    }
   ],
   "source": [
    "df"
   ]
  },
  {
   "attachments": {},
   "cell_type": "markdown",
   "metadata": {},
   "source": [
    "### &nbsp;&nbsp;&nbsp;&nbsp;&nbsp;&nbsp;&nbsp;&nbsp;Мурат&nbsp;&nbsp;&nbsp;&nbsp;&nbsp;&nbsp;&nbsp;&nbsp;&nbsp;&nbsp;&nbsp;&nbsp;Данис ###\n",
    "## &nbsp;&nbsp;&nbsp;&nbsp;&nbsp;&nbsp;&nbsp;&nbsp;↓&nbsp;&nbsp;&nbsp;&nbsp;&nbsp;&nbsp;&nbsp;&nbsp;&nbsp;&nbsp;&nbsp;&nbsp; ↓ ##"
   ]
  },
  {
   "attachments": {},
   "cell_type": "markdown",
   "metadata": {},
   "source": [
    "![cat](https://www.meme-arsenal.com/memes/27366f67c1b492100085bfebf3415ca2.jpg)"
   ]
  },
  {
   "attachments": {},
   "cell_type": "markdown",
   "metadata": {},
   "source": [
    "### -Как найти c,m,n? ###\n",
    "### -Что за t? ###\n",
    "### -Ты кто? ###"
   ]
  },
  {
   "cell_type": "markdown",
   "metadata": {},
   "source": []
  }
 ],
 "metadata": {
  "kernelspec": {
   "display_name": "venv",
   "language": "python",
   "name": "python3"
  },
  "language_info": {
   "codemirror_mode": {
    "name": "ipython",
    "version": 3
   },
   "file_extension": ".py",
   "mimetype": "text/x-python",
   "name": "python",
   "nbconvert_exporter": "python",
   "pygments_lexer": "ipython3",
   "version": "3.10.0"
  },
  "orig_nbformat": 4
 },
 "nbformat": 4,
 "nbformat_minor": 2
}
