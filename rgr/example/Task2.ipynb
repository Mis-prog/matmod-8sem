{
 "cells": [
  {
   "cell_type": "code",
   "execution_count": 1,
   "metadata": {},
   "outputs": [],
   "source": [
    "import pyDOE2 as ff\n",
    "import numpy as np\n",
    "import pandas as pd\n",
    "from scipy.stats import f as Fisher\n",
    "from scipy.stats import t as Student"
   ]
  },
  {
   "cell_type": "code",
   "execution_count": null,
   "metadata": {},
   "outputs": [
    {
     "data": {
      "text/plain": [
       "'Alia'"
      ]
     },
     "execution_count": 3,
     "metadata": {},
     "output_type": "execute_result"
    }
   ],
   "source": [
    "Authors = [\"Danis\",\"Myrat\",\"Alia\"]\n",
    "Author = Authors[2]\n",
    "Author"
   ]
  },
  {
   "cell_type": "code",
   "execution_count": 4,
   "metadata": {},
   "outputs": [
    {
     "name": "stdout",
     "output_type": "stream",
     "text": [
      "α = 1 ; β = 0.6666666666666666\n"
     ]
    }
   ],
   "source": [
    "factor_count = 2  # Количество факторов\n",
    "y_count = 3  # Количество опытов для каждой комбинации факторов\n",
    "N0 = factor_count**2\n",
    "experiment_count = N0 + 2 * factor_count + 1  # Количество экспериментов\n",
    "name_y = 'y average'  # Название столбца для построения регрессии\n",
    "alpha = int(np.sqrt((np.sqrt(N0 * experiment_count) - N0)/2))\n",
    "betta = (N0 + 2*alpha**2)/experiment_count\n",
    "print(f\"α = {alpha} ; β = {betta}\")\n",
    "table = ff.ccdesign(factor_count, center=(0, 1))  # Матрица планирования\n",
    "table = np.array(table, dtype=np.int8)\n",
    "# table\n"
   ]
  },
  {
   "cell_type": "code",
   "execution_count": 5,
   "metadata": {},
   "outputs": [],
   "source": [
    "database = pd.read_excel('Data_' + Author + '.xlsx') \n",
    "database = database[database.columns[1:]]\n",
    "database = database.to_numpy()\n",
    "#print(database)\n",
    "data = []\n",
    "for i in range(y_count):\n",
    "    data.append(list(zip(np.log(database[y_count*i,:] - 0.43),\n",
    "                         np.log(database[y_count*i + 1,:]- 0.43),\n",
    "                         np.log(database[y_count*i + 2,:]- 0.43)))) # хранение опытов для каждой комбинации факторов\n",
    "    # data.append(list(zip(database[y_count*i,:],\n",
    "    #                      database[y_count*i + 1,:],\n",
    "    #                      database[y_count*i + 2,:]))) # хранение опытов для каждой комбинации факторов\n",
    "# data\n"
   ]
  },
  {
   "cell_type": "code",
   "execution_count": 6,
   "metadata": {},
   "outputs": [],
   "source": [
    "dtypes = np.dtype(\n",
    "    [   \n",
    "        (\"x0\", int),\n",
    "        (\"x1\", int),\n",
    "        (\"x2\", int),\n",
    "        (\"x1x2\", int),\n",
    "        (\"(x1)^2\", int),\n",
    "        (\"(x2)^2\", int),\n",
    "        (\"(x1~)^2\", np.float64),\n",
    "        (\"(x2~)^2\", np.float64),\n",
    "        (\"y1\", np.float64),\n",
    "        (\"y2\", np.float64),\n",
    "        ('y3', np.float64),\n",
    "        ('y average', np.float64)\n",
    "    ]\n",
    ")\n",
    "df = pd.DataFrame(np.zeros(experiment_count, dtype=dtypes))"
   ]
  },
  {
   "cell_type": "code",
   "execution_count": 7,
   "metadata": {},
   "outputs": [],
   "source": [
    "for i in range(experiment_count):\n",
    "    idx1 = table[i, 0]  # x1\n",
    "    idx2 = table[i, 1]  # x2\n",
    "    # совокупность значений y\n",
    "    ys = np.array(data[idx1 + 1][idx2 + 1], dtype=np.float64)\n",
    "    # print(ys)\n",
    "    df.iloc[i] = {'x0': 1, 'x1': idx1, 'x2': idx2, 'x1x2': idx1*idx2, '(x1)^2': idx1**2, '(x2)^2': idx2**2,\n",
    "                '(x1~)^2': idx1**2 - betta, '(x2~)^2': idx2**2 - betta,\n",
    "                'y1': ys[0], 'y2': ys[1], 'y3': ys[2], 'y average': np.mean(ys)}\n",
    "# y1 - столбец целевой переменной для построения регрессии\n",
    "fixed_y = df[name_y]\n",
    "# df\n"
   ]
  },
  {
   "cell_type": "code",
   "execution_count": 8,
   "metadata": {},
   "outputs": [
    {
     "name": "stdout",
     "output_type": "stream",
     "text": [
      "Линейные коэффициенты: [5.60525886 0.172094   0.63259956]\n",
      "Квадратичные коэффициенты: [-0.03420661 -0.23307517]\n",
      "Парный коэффициент: 0.003937414196580669\n"
     ]
    }
   ],
   "source": [
    "\n",
    "a = []\n",
    "# Линейные коэффициенты\n",
    "tmp = np.zeros(factor_count + 1)\n",
    "for i,name in enumerate(df.columns[:factor_count + 1]):\n",
    "    tmp[i] = (1./(N0 + 2*alpha**2)) * np.sum(df[name] * fixed_y)\n",
    "tmp[0] = (1./experiment_count) * np.sum(fixed_y)\n",
    "a.append(tmp)\n",
    "del tmp\n",
    "# Квадратичные коэффициенты\n",
    "tmp = np.zeros(factor_count)\n",
    "for i,name in enumerate(df.columns[(factor_count + 1)*2:(factor_count + 1)*2 + factor_count]):\n",
    "    tmp[i] = (1./(2*alpha**4)) * np.sum(df[name] * fixed_y)\n",
    "a.append(tmp)\n",
    "del tmp\n",
    "# Парный коэффициент\n",
    "a.append((1./N0) * np.sum(df['x1x2'] * fixed_y))\n",
    "print(f\"Линейные коэффициенты: {a[0]}\\nКвадратичные коэффициенты: {a[1]}\\nПарный коэффициент: {a[2]}\")\n",
    "regression = lambda x: np.sum(x*a[0]) + np.sum((x[1:]**2)*a[1]) + x[1]*x[2]*a[2]   #где x[0]=1 - фиктивный фактор"
   ]
  },
  {
   "cell_type": "code",
   "execution_count": 9,
   "metadata": {},
   "outputs": [],
   "source": [
    "dtypes = np.dtype(\n",
    "    [\n",
    "        ('(y1-y_avg)^2', np.float64),\n",
    "        ('(y2-y_avg)^2', np.float64),\n",
    "        ('(y3-y_avg)^2', np.float64),\n",
    "        (\"Variance\", np.float64),\n",
    "        ('y regression_' + name_y, np.float64),\n",
    "        ('Δy^2', np.float64)\n",
    "    ]\n",
    ")\n",
    "df_tmp = pd.DataFrame(np.zeros(experiment_count, dtype=dtypes))\n",
    "df = pd.concat([df, df_tmp], axis=1)\n",
    "# df"
   ]
  },
  {
   "cell_type": "code",
   "execution_count": 10,
   "metadata": {},
   "outputs": [],
   "source": [
    "# df['y regression_' + name_y] = [regression(i) for i in df[df.columns[:factor_count + 1]].to_numpy()]\n",
    "# df['Δy^2'] = (fixed_y - df['y regression_' + name_y]) ** 2\n",
    "\n",
    "tmp = df.columns[factor_count*3 + 2:(factor_count*3 + 2) + y_count]\n",
    "\n",
    "for idx,name in enumerate(df_tmp.columns[:y_count]):\n",
    "    df[name] = (df[tmp[idx]] - df['y average'])**2\n",
    "    df['Variance'] += df[name]\n",
    "del tmp\n",
    "\n",
    "# df"
   ]
  },
  {
   "cell_type": "markdown",
   "metadata": {},
   "source": [
    "### Проверка адекватности модели ###"
   ]
  },
  {
   "cell_type": "code",
   "execution_count": 11,
   "metadata": {},
   "outputs": [
    {
     "name": "stdout",
     "output_type": "stream",
     "text": [
      "f = 6\n",
      "S_y = 0.00032130889423891124\n"
     ]
    }
   ],
   "source": [
    "f = experiment_count - (factor_count + 1)\n",
    "print(f\"f = {f}\")\n",
    "\n",
    "S_y = df['Variance'].sum() * (1/(experiment_count * (y_count - 1)))\n",
    "print(f\"S_y = {S_y}\")\n"
   ]
  },
  {
   "cell_type": "code",
   "execution_count": 12,
   "metadata": {},
   "outputs": [],
   "source": [
    "p = 0.01 # Принятый уровень значимости"
   ]
  },
  {
   "cell_type": "markdown",
   "metadata": {},
   "source": [
    "#### Критерий Стьюдента ####"
   ]
  },
  {
   "cell_type": "code",
   "execution_count": 14,
   "metadata": {},
   "outputs": [
    {
     "name": "stdout",
     "output_type": "stream",
     "text": [
      "S_a0 = 0.0031203578574828376\n",
      "S_ai = 0.004224984511733026\n",
      "S_ail = 0.005174528112453921\n",
      "S_aii = 0.007317887835513187\n",
      "Табличное значение критерия Стьюдента: 2.878440472713585\n",
      "Коэффициент a1 является значимым!\n",
      "Коэффициент a2 является значимым!\n",
      "Коэффициент a11 является значимым!\n",
      "Коэффициент a22 является значимым!\n",
      "Коэффициент a12 является незначимым!\n"
     ]
    }
   ],
   "source": [
    "S_a0 = np.sqrt(np.abs(S_y/(y_count*(experiment_count+2*(alpha**4)))))\n",
    "S_ai = np.sqrt(np.abs(S_y/(y_count*(N0+2*(alpha**2)))))\n",
    "S_ail = np.sqrt(np.abs(S_y/(y_count*N0)))\n",
    "S_aii = np.sqrt(np.abs(S_y/(y_count*(2*(alpha**4)))))\n",
    "print(f\"S_a0 = {S_a0}\\nS_ai = {S_ai}\\nS_ail = {S_ail}\\nS_aii = {S_aii}\")\n",
    "\n",
    "t_table = Student.ppf(1-p/2, experiment_count*(y_count-1)) # Табличный критерий Стьюдента\n",
    "print(f\"Табличное значение критерия Стьюдента: {t_table}\")\n",
    "\n",
    "t = np.zeros(6)\n",
    "# Проверка линейных коэффициентов\n",
    "t[0] = np.abs(a[0][0])/S_a0\n",
    "for i in range(1, len(a[0])):\n",
    "    t[i] = np.abs(a[0][i])/S_ai\n",
    "    if t[i] > t_table:\n",
    "        print(f\"Коэффициент a{i} является значимым!\")\n",
    "    else:\n",
    "        print(f\"Коэффициент a{i} является незначимым!\")\n",
    "        a[0][i] = 0\n",
    "# Проверка квадратичных коэффициентов\n",
    "for i in range(len(a[1])):\n",
    "    t[i+len(a[0])] = np.abs(a[1][i])/S_aii\n",
    "    if t[i+len(a[0])] > t_table:\n",
    "        print(f\"Коэффициент a{i+1}{i+1} является значимым!\")\n",
    "    else:\n",
    "        print(f\"Коэффициент a{i+1}{i+1} является незначимым!\")\n",
    "        a[1][i] = 0\n",
    "# Проверка парного коэффициента:\n",
    "t[-1] = np.abs(a[-1])/S_ail\n",
    "if t[-1] > t_table:\n",
    "    print(f\"Коэффициент a12 является значимым!\")\n",
    "else:\n",
    "    print(f\"Коэффициент a12 является незначимым!\")\n",
    "    a[-1] = 0"
   ]
  },
  {
   "cell_type": "markdown",
   "metadata": {},
   "source": [
    "#### Критерий Фишера ####"
   ]
  },
  {
   "cell_type": "code",
   "execution_count": 15,
   "metadata": {},
   "outputs": [
    {
     "name": "stdout",
     "output_type": "stream",
     "text": [
      "S_ад = 0.04765804069542732\n"
     ]
    }
   ],
   "source": [
    "df['y regression_' + name_y] = [regression(i) for i in df[df.columns[:factor_count + 1]].to_numpy()]\n",
    "df['Δy^2'] = (fixed_y - df['y regression_' + name_y]) ** 2\n",
    "\n",
    "S_ad = (1./f) * df['Δy^2'].sum()\n",
    "print(f\"S_ад = {S_ad}\")"
   ]
  },
  {
   "cell_type": "code",
   "execution_count": 16,
   "metadata": {},
   "outputs": [
    {
     "name": "stdout",
     "output_type": "stream",
     "text": [
      "Табличное значение критерия Фишера: 4.014636507354758\n",
      "Модель неадекватна c F = 148.32468552828445!\n"
     ]
    }
   ],
   "source": [
    "F_table = Fisher.ppf(1-p, f, experiment_count*(y_count-1)) # Табличный критерий Фишера\n",
    "print(f\"Табличное значение критерия Фишера: {F_table}\")\n",
    "\n",
    "F = S_ad/S_y\n",
    "print(f\"Модель адекватна c F = {F}!\") if F < F_table else print(f\"Модель неадекватна c F = {F}!\")\n"
   ]
  },
  {
   "cell_type": "code",
   "execution_count": 17,
   "metadata": {},
   "outputs": [
    {
     "data": {
      "text/html": [
       "<div>\n",
       "<style scoped>\n",
       "    .dataframe tbody tr th:only-of-type {\n",
       "        vertical-align: middle;\n",
       "    }\n",
       "\n",
       "    .dataframe tbody tr th {\n",
       "        vertical-align: top;\n",
       "    }\n",
       "\n",
       "    .dataframe thead th {\n",
       "        text-align: right;\n",
       "    }\n",
       "</style>\n",
       "<table border=\"1\" class=\"dataframe\">\n",
       "  <thead>\n",
       "    <tr style=\"text-align: right;\">\n",
       "      <th></th>\n",
       "      <th>x0</th>\n",
       "      <th>x1</th>\n",
       "      <th>x2</th>\n",
       "      <th>x1x2</th>\n",
       "      <th>(x1)^2</th>\n",
       "      <th>(x2)^2</th>\n",
       "      <th>(x1~)^2</th>\n",
       "      <th>(x2~)^2</th>\n",
       "      <th>y1</th>\n",
       "      <th>y2</th>\n",
       "      <th>y3</th>\n",
       "      <th>y average</th>\n",
       "      <th>(y1-y_avg)^2</th>\n",
       "      <th>(y2-y_avg)^2</th>\n",
       "      <th>(y3-y_avg)^2</th>\n",
       "      <th>Variance</th>\n",
       "      <th>y regression_y average</th>\n",
       "      <th>Δy^2</th>\n",
       "    </tr>\n",
       "  </thead>\n",
       "  <tbody>\n",
       "    <tr>\n",
       "      <th>0</th>\n",
       "      <td>1</td>\n",
       "      <td>-1</td>\n",
       "      <td>-1</td>\n",
       "      <td>1</td>\n",
       "      <td>1</td>\n",
       "      <td>1</td>\n",
       "      <td>0.333333</td>\n",
       "      <td>0.333333</td>\n",
       "      <td>4.716443</td>\n",
       "      <td>4.717337</td>\n",
       "      <td>4.720907</td>\n",
       "      <td>4.718229</td>\n",
       "      <td>0.000003</td>\n",
       "      <td>7.950143e-07</td>\n",
       "      <td>0.000007</td>\n",
       "      <td>0.000011</td>\n",
       "      <td>4.533284</td>\n",
       "      <td>0.034205</td>\n",
       "    </tr>\n",
       "    <tr>\n",
       "      <th>1</th>\n",
       "      <td>1</td>\n",
       "      <td>1</td>\n",
       "      <td>-1</td>\n",
       "      <td>-1</td>\n",
       "      <td>1</td>\n",
       "      <td>1</td>\n",
       "      <td>0.333333</td>\n",
       "      <td>0.333333</td>\n",
       "      <td>5.051585</td>\n",
       "      <td>5.064302</td>\n",
       "      <td>5.028279</td>\n",
       "      <td>5.048055</td>\n",
       "      <td>0.000012</td>\n",
       "      <td>2.639635e-04</td>\n",
       "      <td>0.000391</td>\n",
       "      <td>0.000668</td>\n",
       "      <td>4.877472</td>\n",
       "      <td>0.029099</td>\n",
       "    </tr>\n",
       "    <tr>\n",
       "      <th>2</th>\n",
       "      <td>1</td>\n",
       "      <td>-1</td>\n",
       "      <td>1</td>\n",
       "      <td>-1</td>\n",
       "      <td>1</td>\n",
       "      <td>1</td>\n",
       "      <td>0.333333</td>\n",
       "      <td>0.333333</td>\n",
       "      <td>5.967095</td>\n",
       "      <td>5.972715</td>\n",
       "      <td>5.988385</td>\n",
       "      <td>5.976065</td>\n",
       "      <td>0.000080</td>\n",
       "      <td>1.122269e-05</td>\n",
       "      <td>0.000152</td>\n",
       "      <td>0.000243</td>\n",
       "      <td>5.798483</td>\n",
       "      <td>0.031535</td>\n",
       "    </tr>\n",
       "    <tr>\n",
       "      <th>3</th>\n",
       "      <td>1</td>\n",
       "      <td>1</td>\n",
       "      <td>1</td>\n",
       "      <td>1</td>\n",
       "      <td>1</td>\n",
       "      <td>1</td>\n",
       "      <td>0.333333</td>\n",
       "      <td>0.333333</td>\n",
       "      <td>6.338541</td>\n",
       "      <td>6.321074</td>\n",
       "      <td>6.305308</td>\n",
       "      <td>6.321641</td>\n",
       "      <td>0.000286</td>\n",
       "      <td>3.213881e-07</td>\n",
       "      <td>0.000267</td>\n",
       "      <td>0.000553</td>\n",
       "      <td>6.142671</td>\n",
       "      <td>0.032030</td>\n",
       "    </tr>\n",
       "    <tr>\n",
       "      <th>4</th>\n",
       "      <td>1</td>\n",
       "      <td>-1</td>\n",
       "      <td>0</td>\n",
       "      <td>0</td>\n",
       "      <td>1</td>\n",
       "      <td>0</td>\n",
       "      <td>0.333333</td>\n",
       "      <td>-0.666667</td>\n",
       "      <td>5.554780</td>\n",
       "      <td>5.595715</td>\n",
       "      <td>5.562488</td>\n",
       "      <td>5.570994</td>\n",
       "      <td>0.000263</td>\n",
       "      <td>6.111091e-04</td>\n",
       "      <td>0.000072</td>\n",
       "      <td>0.000946</td>\n",
       "      <td>5.398958</td>\n",
       "      <td>0.029596</td>\n",
       "    </tr>\n",
       "    <tr>\n",
       "      <th>5</th>\n",
       "      <td>1</td>\n",
       "      <td>1</td>\n",
       "      <td>0</td>\n",
       "      <td>0</td>\n",
       "      <td>1</td>\n",
       "      <td>0</td>\n",
       "      <td>0.333333</td>\n",
       "      <td>-0.666667</td>\n",
       "      <td>5.940882</td>\n",
       "      <td>5.899815</td>\n",
       "      <td>5.943770</td>\n",
       "      <td>5.928156</td>\n",
       "      <td>0.000162</td>\n",
       "      <td>8.031791e-04</td>\n",
       "      <td>0.000244</td>\n",
       "      <td>0.001209</td>\n",
       "      <td>5.743146</td>\n",
       "      <td>0.034228</td>\n",
       "    </tr>\n",
       "    <tr>\n",
       "      <th>6</th>\n",
       "      <td>1</td>\n",
       "      <td>0</td>\n",
       "      <td>-1</td>\n",
       "      <td>0</td>\n",
       "      <td>0</td>\n",
       "      <td>1</td>\n",
       "      <td>-0.666667</td>\n",
       "      <td>0.333333</td>\n",
       "      <td>4.944282</td>\n",
       "      <td>4.909488</td>\n",
       "      <td>4.902085</td>\n",
       "      <td>4.918618</td>\n",
       "      <td>0.000659</td>\n",
       "      <td>8.335738e-05</td>\n",
       "      <td>0.000273</td>\n",
       "      <td>0.001015</td>\n",
       "      <td>4.739584</td>\n",
       "      <td>0.032053</td>\n",
       "    </tr>\n",
       "    <tr>\n",
       "      <th>7</th>\n",
       "      <td>1</td>\n",
       "      <td>0</td>\n",
       "      <td>1</td>\n",
       "      <td>0</td>\n",
       "      <td>0</td>\n",
       "      <td>1</td>\n",
       "      <td>-0.666667</td>\n",
       "      <td>0.333333</td>\n",
       "      <td>6.172681</td>\n",
       "      <td>6.178504</td>\n",
       "      <td>6.197197</td>\n",
       "      <td>6.182794</td>\n",
       "      <td>0.000102</td>\n",
       "      <td>1.840550e-05</td>\n",
       "      <td>0.000207</td>\n",
       "      <td>0.000328</td>\n",
       "      <td>6.004783</td>\n",
       "      <td>0.031688</td>\n",
       "    </tr>\n",
       "    <tr>\n",
       "      <th>8</th>\n",
       "      <td>1</td>\n",
       "      <td>0</td>\n",
       "      <td>0</td>\n",
       "      <td>0</td>\n",
       "      <td>0</td>\n",
       "      <td>0</td>\n",
       "      <td>-0.666667</td>\n",
       "      <td>-0.666667</td>\n",
       "      <td>5.789868</td>\n",
       "      <td>5.798395</td>\n",
       "      <td>5.760068</td>\n",
       "      <td>5.782777</td>\n",
       "      <td>0.000050</td>\n",
       "      <td>2.439237e-04</td>\n",
       "      <td>0.000516</td>\n",
       "      <td>0.000810</td>\n",
       "      <td>5.605259</td>\n",
       "      <td>0.031513</td>\n",
       "    </tr>\n",
       "  </tbody>\n",
       "</table>\n",
       "</div>"
      ],
      "text/plain": [
       "   x0  x1  x2  x1x2  (x1)^2  (x2)^2   (x1~)^2   (x2~)^2        y1        y2  \\\n",
       "0   1  -1  -1     1       1       1  0.333333  0.333333  4.716443  4.717337   \n",
       "1   1   1  -1    -1       1       1  0.333333  0.333333  5.051585  5.064302   \n",
       "2   1  -1   1    -1       1       1  0.333333  0.333333  5.967095  5.972715   \n",
       "3   1   1   1     1       1       1  0.333333  0.333333  6.338541  6.321074   \n",
       "4   1  -1   0     0       1       0  0.333333 -0.666667  5.554780  5.595715   \n",
       "5   1   1   0     0       1       0  0.333333 -0.666667  5.940882  5.899815   \n",
       "6   1   0  -1     0       0       1 -0.666667  0.333333  4.944282  4.909488   \n",
       "7   1   0   1     0       0       1 -0.666667  0.333333  6.172681  6.178504   \n",
       "8   1   0   0     0       0       0 -0.666667 -0.666667  5.789868  5.798395   \n",
       "\n",
       "         y3  y average  (y1-y_avg)^2  (y2-y_avg)^2  (y3-y_avg)^2  Variance  \\\n",
       "0  4.720907   4.718229      0.000003  7.950143e-07      0.000007  0.000011   \n",
       "1  5.028279   5.048055      0.000012  2.639635e-04      0.000391  0.000668   \n",
       "2  5.988385   5.976065      0.000080  1.122269e-05      0.000152  0.000243   \n",
       "3  6.305308   6.321641      0.000286  3.213881e-07      0.000267  0.000553   \n",
       "4  5.562488   5.570994      0.000263  6.111091e-04      0.000072  0.000946   \n",
       "5  5.943770   5.928156      0.000162  8.031791e-04      0.000244  0.001209   \n",
       "6  4.902085   4.918618      0.000659  8.335738e-05      0.000273  0.001015   \n",
       "7  6.197197   6.182794      0.000102  1.840550e-05      0.000207  0.000328   \n",
       "8  5.760068   5.782777      0.000050  2.439237e-04      0.000516  0.000810   \n",
       "\n",
       "   y regression_y average      Δy^2  \n",
       "0                4.533284  0.034205  \n",
       "1                4.877472  0.029099  \n",
       "2                5.798483  0.031535  \n",
       "3                6.142671  0.032030  \n",
       "4                5.398958  0.029596  \n",
       "5                5.743146  0.034228  \n",
       "6                4.739584  0.032053  \n",
       "7                6.004783  0.031688  \n",
       "8                5.605259  0.031513  "
      ]
     },
     "execution_count": 17,
     "metadata": {},
     "output_type": "execute_result"
    }
   ],
   "source": [
    "df"
   ]
  },
  {
   "attachments": {},
   "cell_type": "markdown",
   "metadata": {},
   "source": [
    "### &nbsp;&nbsp;&nbsp;&nbsp;&nbsp;&nbsp;&nbsp;&nbsp;Мурат&nbsp;&nbsp;&nbsp;&nbsp;&nbsp;&nbsp;&nbsp;&nbsp;&nbsp;&nbsp;&nbsp;&nbsp;Данис ###\n",
    "## &nbsp;&nbsp;&nbsp;&nbsp;&nbsp;&nbsp;&nbsp;&nbsp;↓&nbsp;&nbsp;&nbsp;&nbsp;&nbsp;&nbsp;&nbsp;&nbsp;&nbsp;&nbsp;&nbsp;&nbsp; ↓ ##"
   ]
  },
  {
   "attachments": {},
   "cell_type": "markdown",
   "metadata": {},
   "source": [
    "![cat](https://www.meme-arsenal.com/memes/27366f67c1b492100085bfebf3415ca2.jpg)"
   ]
  },
  {
   "attachments": {},
   "cell_type": "markdown",
   "metadata": {},
   "source": [
    "### -Как найти c,m,n? ###\n",
    "### -Что за t? ###\n",
    "### -Ты кто? ###"
   ]
  },
  {
   "cell_type": "markdown",
   "metadata": {},
   "source": []
  }
 ],
 "metadata": {
  "kernelspec": {
   "display_name": "venv",
   "language": "python",
   "name": "python3"
  },
  "language_info": {
   "codemirror_mode": {
    "name": "ipython",
    "version": 3
   },
   "file_extension": ".py",
   "mimetype": "text/x-python",
   "name": "python",
   "nbconvert_exporter": "python",
   "pygments_lexer": "ipython3",
   "version": "3.10.0"
  },
  "orig_nbformat": 4
 },
 "nbformat": 4,
 "nbformat_minor": 2
}
