{
 "cells": [
  {
   "cell_type": "code",
   "execution_count": 2,
   "metadata": {},
   "outputs": [],
   "source": [
    "import pyDOE2 as ff\n",
    "import numpy as np\n",
    "import pandas as pd\n",
    "from scipy.stats import f as Fisher\n",
    "from scipy.stats import t as Student"
   ]
  },
  {
   "attachments": {},
   "cell_type": "markdown",
   "metadata": {},
   "source": [
    "### Авторы ###"
   ]
  },
  {
   "cell_type": "code",
   "execution_count": 14,
   "metadata": {},
   "outputs": [
    {
     "data": {
      "text/plain": [
       "'Alia'"
      ]
     },
     "execution_count": 14,
     "metadata": {},
     "output_type": "execute_result"
    }
   ],
   "source": [
    "Authors = [\"Danis\", \"Myrat\", \"Vlad\",\"Alia\"]\n",
    "Author = Authors[3]\n",
    "Author"
   ]
  },
  {
   "cell_type": "code",
   "execution_count": 15,
   "metadata": {},
   "outputs": [
    {
     "data": {
      "text/plain": [
       "array([[-1, -1],\n",
       "       [ 1, -1],\n",
       "       [-1,  1],\n",
       "       [ 1,  1]], dtype=int8)"
      ]
     },
     "execution_count": 15,
     "metadata": {},
     "output_type": "execute_result"
    }
   ],
   "source": [
    "factor_count = 2 # Количество факторов\n",
    "y_count = 3 # Количество параллельных опытов для каждой комбинации факторов\n",
    "experiment_count = factor_count**2 # Количество экспериментов\n",
    "name_y = 'y average' # Название столбца для построения регрессии\n",
    "table = ff.ff2n(factor_count) # Матрица планирования\n",
    "table = np.array(table, dtype=np.int8)\n",
    "table"
   ]
  },
  {
   "cell_type": "code",
   "execution_count": 16,
   "metadata": {},
   "outputs": [
    {
     "name": "stdout",
     "output_type": "stream",
     "text": [
      "[2 4 6]\n",
      "[ 20000.  60000. 100000.]\n"
     ]
    }
   ],
   "source": [
    "database = pd.read_excel('Data_' + Author + '.xlsx')\n",
    "name_database = database.columns\n",
    "Pr = np.unique(np.array(database[name_database[0]]))\n",
    "print(Pr)\n",
    "Re = np.array(np.float64(name_database[1:]))\n",
    "print(Re)\n",
    "x10 = (np.log(Pr[-1]) + np.log(Pr[0]))/2\n",
    "x20 = (np.log(Re[-1]) + np.log(Re[0]))/2\n",
    "I1 = np.log(Pr[-1]) - x10\n",
    "I2 = np.log(Re[-1]) - x20\n",
    "\n",
    "database = database[database.columns[1:]]\n",
    "database = database.to_numpy()\n",
    "\n",
    "data = []\n",
    "for i in range(y_count):\n",
    "    data.append(list(zip(np.log(database[y_count*i, :] - 0.43),\n",
    "                         np.log(database[y_count*i + 1, :] - 0.43),\n",
    "                         np.log(database[y_count*i + 2, :] - 0.43))))  # Хранение опытов для каждой комбинации факторов\n",
    "    # data.append(list(zip(database[y_count*i,:],\n",
    "    #                      database[y_count*i + 1,:],\n",
    "    #                      database[y_count*i + 2,:]))) # хранение опытов для каждой комбинации факторов\n",
    "# data\n"
   ]
  },
  {
   "cell_type": "code",
   "execution_count": 17,
   "metadata": {},
   "outputs": [],
   "source": [
    "dtypes = np.dtype(\n",
    "    [   \n",
    "        (\"x0\", int),\n",
    "        (\"x1\", int),\n",
    "        (\"x2\", int),\n",
    "        (\"y1\", np.float64),\n",
    "        (\"y2\", np.float64),\n",
    "        ('y3', np.float64),\n",
    "        ('y average', np.float64)\n",
    "    ]\n",
    ")\n",
    "df = pd.DataFrame(np.zeros(experiment_count, dtype=dtypes))"
   ]
  },
  {
   "cell_type": "code",
   "execution_count": 18,
   "metadata": {},
   "outputs": [],
   "source": [
    "for i in range(experiment_count):\n",
    "    idx1 = table[i,0] # x1\n",
    "    idx2 = table[i,1] # x2\n",
    "    ys = np.array(data[idx1 + 1][idx2 + 1],dtype=np.float64) # Совокупность значений y\n",
    "    #print(ys)\n",
    "    df.iloc[i] = {'x0': 1,'x1': idx1 , 'x2': idx2 , 'y1': ys[0], 'y2': ys[1], 'y3': ys[2], 'y average': np.mean(ys)}\n",
    "fixed_y = df[name_y] # y1 - столбец целевой переменной для построения регрессии\n",
    "# df"
   ]
  },
  {
   "cell_type": "code",
   "execution_count": 19,
   "metadata": {},
   "outputs": [
    {
     "name": "stdout",
     "output_type": "stream",
     "text": [
      "Коэффициенты -> a0: 5.515997602065647\t a1: 0.16885059574861527\t a2: 0.632855301937931\n"
     ]
    }
   ],
   "source": [
    "a = np.zeros(factor_count + 1)\n",
    "for i,name in enumerate(df.columns[:factor_count + 1]):\n",
    "    a[i] = (1./(experiment_count)) * np.sum(df[name] * fixed_y)\n",
    "print(f\"Коэффициенты -> a0: {a[0]}\\t a1: {a[1]}\\t a2: {a[2]}\")\n",
    "regression = lambda x: np.sum(x*a) #a[0]*x[0] + a[1]*x[1] + a[2]*x[2], где x[0]=1 - фиктивный фактор"
   ]
  },
  {
   "cell_type": "code",
   "execution_count": 20,
   "metadata": {},
   "outputs": [],
   "source": [
    "dtypes = np.dtype(\n",
    "    [\n",
    "        ('(y1-y_avg)^2', np.float64),\n",
    "        ('(y2-y_avg)^2', np.float64),\n",
    "        ('(y3-y_avg)^2', np.float64),\n",
    "        (\"Variance\", np.float64),\n",
    "        ('y regression_' + name_y, np.float64),\n",
    "        ('Δy^2', np.float64)\n",
    "    ]\n",
    ")\n",
    "df_tmp = pd.DataFrame(np.zeros(experiment_count, dtype=dtypes))\n",
    "df = pd.concat([df, df_tmp], axis=1)\n",
    "# df"
   ]
  },
  {
   "cell_type": "code",
   "execution_count": 21,
   "metadata": {},
   "outputs": [],
   "source": [
    "\n",
    "df['y regression_' + name_y] = [regression(i) for i in df[df.columns[:factor_count + 1]].to_numpy()]\n",
    "df['Δy^2'] = (fixed_y - df['y regression_' + name_y]) ** 2\n",
    "\n",
    "tmp = df.columns[factor_count + 1:(factor_count + 1) + y_count]\n",
    "#print(tmp)\n",
    "for idx,name in enumerate(df_tmp.columns[:factor_count + 1]):\n",
    "    df[name] = (df[tmp[idx]] - df['y average'])**2\n",
    "    df['Variance'] += df[name]\n",
    "del tmp\n",
    "# df"
   ]
  },
  {
   "attachments": {},
   "cell_type": "markdown",
   "metadata": {},
   "source": [
    "### Проверка адекватности модели ###"
   ]
  },
  {
   "cell_type": "code",
   "execution_count": 22,
   "metadata": {},
   "outputs": [
    {
     "name": "stdout",
     "output_type": "stream",
     "text": [
      "f = 1\n",
      "S_ад = 6.201292222173996e-05\n",
      "S_y = 0.00018435881128630222\n"
     ]
    }
   ],
   "source": [
    "f = experiment_count - (factor_count + 1)\n",
    "print(f\"f = {f}\")\n",
    "\n",
    "S_ad = (1./f) * df['Δy^2'].sum()\n",
    "print(f\"S_ад = {S_ad}\")\n",
    "\n",
    "S_y = df['Variance'].sum() * (1/(experiment_count * (y_count - 1)))\n",
    "print(f\"S_y = {S_y}\")\n"
   ]
  },
  {
   "cell_type": "code",
   "execution_count": 24,
   "metadata": {},
   "outputs": [],
   "source": [
    "p = 0.05 # Принятый уровень значимости"
   ]
  },
  {
   "attachments": {},
   "cell_type": "markdown",
   "metadata": {},
   "source": [
    "#### Критерий Стьюдента ####"
   ]
  },
  {
   "cell_type": "code",
   "execution_count": 26,
   "metadata": {},
   "outputs": [
    {
     "name": "stdout",
     "output_type": "stream",
     "text": [
      "S_bj = 0.006788939742078696\n",
      "Табличное значение критерия Стьюдента: 2.306004135204166\n",
      "Коэффициент a0 является значимым!\n",
      "Коэффициент a1 является значимым!\n",
      "Коэффициент a2 является значимым!\n"
     ]
    }
   ],
   "source": [
    "S_bj = np.sqrt(np.abs(S_y/experiment_count))\n",
    "print(f\"S_bj = {S_bj}\")\n",
    "\n",
    "t_table = Student.ppf(1-p/2, experiment_count*(y_count-1)) # Табличный критерий Стьюдента\n",
    "print(f\"Табличное значение критерия Стьюдента: {t_table}\")\n",
    "\n",
    "t = np.zeros(factor_count + 1)\n",
    "for i in range(len(t)):\n",
    "    t[i] = np.abs(a[i])/S_bj\n",
    "    if t[i] > t_table:\n",
    "        print(f\"Коэффициент a{i} является значимым!\")\n",
    "    else:\n",
    "        print(f\"Коэффициент a{i} является незначимым!\")"
   ]
  },
  {
   "attachments": {},
   "cell_type": "markdown",
   "metadata": {},
   "source": [
    "#### Критерий Фишера ####"
   ]
  },
  {
   "cell_type": "code",
   "execution_count": 27,
   "metadata": {},
   "outputs": [
    {
     "name": "stdout",
     "output_type": "stream",
     "text": [
      "Табличное значение критерия Фишера: 5.317655071578712\n",
      "Модель адекватна c F = 0.3363708074979734!\n"
     ]
    }
   ],
   "source": [
    "F_table = Fisher.ppf(1-p, f, experiment_count*(y_count-1)) # Табличный критерий Фишера\n",
    "print(f\"Табличное значение критерия Фишера: {F_table}\")\n",
    "\n",
    "F = S_ad/S_y\n",
    "print(f\"Модель адекватна c F = {F}!\") if F < F_table else print(f\"Модель неадекватна c F = {F}!\")\n"
   ]
  },
  {
   "attachments": {},
   "cell_type": "markdown",
   "metadata": {},
   "source": [
    "### Интерпретация результатов ###"
   ]
  },
  {
   "cell_type": "code",
   "execution_count": 28,
   "metadata": {},
   "outputs": [
    {
     "data": {
      "text/html": [
       "<div>\n",
       "<style scoped>\n",
       "    .dataframe tbody tr th:only-of-type {\n",
       "        vertical-align: middle;\n",
       "    }\n",
       "\n",
       "    .dataframe tbody tr th {\n",
       "        vertical-align: top;\n",
       "    }\n",
       "\n",
       "    .dataframe thead th {\n",
       "        text-align: right;\n",
       "    }\n",
       "</style>\n",
       "<table border=\"1\" class=\"dataframe\">\n",
       "  <thead>\n",
       "    <tr style=\"text-align: right;\">\n",
       "      <th></th>\n",
       "      <th>x0</th>\n",
       "      <th>x1</th>\n",
       "      <th>x2</th>\n",
       "      <th>y1</th>\n",
       "      <th>y2</th>\n",
       "      <th>y3</th>\n",
       "      <th>y average</th>\n",
       "      <th>(y1-y_avg)^2</th>\n",
       "      <th>(y2-y_avg)^2</th>\n",
       "      <th>(y3-y_avg)^2</th>\n",
       "      <th>Variance</th>\n",
       "      <th>y regression_y average</th>\n",
       "      <th>Δy^2</th>\n",
       "    </tr>\n",
       "  </thead>\n",
       "  <tbody>\n",
       "    <tr>\n",
       "      <th>0</th>\n",
       "      <td>1</td>\n",
       "      <td>-1</td>\n",
       "      <td>-1</td>\n",
       "      <td>4.716443</td>\n",
       "      <td>4.717337</td>\n",
       "      <td>4.720907</td>\n",
       "      <td>4.718229</td>\n",
       "      <td>0.000003</td>\n",
       "      <td>7.950143e-07</td>\n",
       "      <td>0.000007</td>\n",
       "      <td>0.000011</td>\n",
       "      <td>4.714292</td>\n",
       "      <td>0.000016</td>\n",
       "    </tr>\n",
       "    <tr>\n",
       "      <th>1</th>\n",
       "      <td>1</td>\n",
       "      <td>1</td>\n",
       "      <td>-1</td>\n",
       "      <td>5.051585</td>\n",
       "      <td>5.064302</td>\n",
       "      <td>5.028279</td>\n",
       "      <td>5.048055</td>\n",
       "      <td>0.000012</td>\n",
       "      <td>2.639635e-04</td>\n",
       "      <td>0.000391</td>\n",
       "      <td>0.000668</td>\n",
       "      <td>5.051993</td>\n",
       "      <td>0.000016</td>\n",
       "    </tr>\n",
       "    <tr>\n",
       "      <th>2</th>\n",
       "      <td>1</td>\n",
       "      <td>-1</td>\n",
       "      <td>1</td>\n",
       "      <td>5.967095</td>\n",
       "      <td>5.972715</td>\n",
       "      <td>5.988385</td>\n",
       "      <td>5.976065</td>\n",
       "      <td>0.000080</td>\n",
       "      <td>1.122269e-05</td>\n",
       "      <td>0.000152</td>\n",
       "      <td>0.000243</td>\n",
       "      <td>5.980002</td>\n",
       "      <td>0.000016</td>\n",
       "    </tr>\n",
       "    <tr>\n",
       "      <th>3</th>\n",
       "      <td>1</td>\n",
       "      <td>1</td>\n",
       "      <td>1</td>\n",
       "      <td>6.338541</td>\n",
       "      <td>6.321074</td>\n",
       "      <td>6.305308</td>\n",
       "      <td>6.321641</td>\n",
       "      <td>0.000286</td>\n",
       "      <td>3.213881e-07</td>\n",
       "      <td>0.000267</td>\n",
       "      <td>0.000553</td>\n",
       "      <td>6.317703</td>\n",
       "      <td>0.000016</td>\n",
       "    </tr>\n",
       "  </tbody>\n",
       "</table>\n",
       "</div>"
      ],
      "text/plain": [
       "   x0  x1  x2        y1        y2        y3  y average  (y1-y_avg)^2  \\\n",
       "0   1  -1  -1  4.716443  4.717337  4.720907   4.718229      0.000003   \n",
       "1   1   1  -1  5.051585  5.064302  5.028279   5.048055      0.000012   \n",
       "2   1  -1   1  5.967095  5.972715  5.988385   5.976065      0.000080   \n",
       "3   1   1   1  6.338541  6.321074  6.305308   6.321641      0.000286   \n",
       "\n",
       "   (y2-y_avg)^2  (y3-y_avg)^2  Variance  y regression_y average      Δy^2  \n",
       "0  7.950143e-07      0.000007  0.000011                4.714292  0.000016  \n",
       "1  2.639635e-04      0.000391  0.000668                5.051993  0.000016  \n",
       "2  1.122269e-05      0.000152  0.000243                5.980002  0.000016  \n",
       "3  3.213881e-07      0.000267  0.000553                6.317703  0.000016  "
      ]
     },
     "execution_count": 28,
     "metadata": {},
     "output_type": "execute_result"
    }
   ],
   "source": [
    "df"
   ]
  },
  {
   "cell_type": "code",
   "execution_count": 33,
   "metadata": {},
   "outputs": [
    {
     "name": "stdout",
     "output_type": "stream",
     "text": [
      "-3.2871758726277482 0.3073888713794007 0.7864302152306158\n",
      "c = 0.037359207714647416, n = 0.3073888713794007, m = 0.7864302152306158\n"
     ]
    }
   ],
   "source": [
    "b1 = a[1]/I1\n",
    "b2 = a[2]/I2\n",
    "b0 = a[0] - b1 * x10 - b2 * x20\n",
    "\n",
    "print(b0,b1,b2)\n",
    "\n",
    "c = np.exp(b0)\n",
    "n = b1\n",
    "m = b2\n",
    "print(f\"c = {c}, n = {n}, m = {m}\")\n",
    "Nu = lambda pr,re: 0.43 + c*(re**m)*(pr**n)"
   ]
  },
  {
   "attachments": {},
   "cell_type": "markdown",
   "metadata": {},
   "source": [
    "#### Проверка коэффициентов c, m, n для уравнения Нуссельта ####"
   ]
  },
  {
   "cell_type": "code",
   "execution_count": 31,
   "metadata": {},
   "outputs": [
    {
     "data": {
      "text/html": [
       "<div>\n",
       "<style scoped>\n",
       "    .dataframe tbody tr th:only-of-type {\n",
       "        vertical-align: middle;\n",
       "    }\n",
       "\n",
       "    .dataframe tbody tr th {\n",
       "        vertical-align: top;\n",
       "    }\n",
       "\n",
       "    .dataframe thead th {\n",
       "        text-align: right;\n",
       "    }\n",
       "</style>\n",
       "<table border=\"1\" class=\"dataframe\">\n",
       "  <thead>\n",
       "    <tr style=\"text-align: right;\">\n",
       "      <th></th>\n",
       "      <th>20000.0</th>\n",
       "      <th>60000.0</th>\n",
       "      <th>100000.0</th>\n",
       "    </tr>\n",
       "  </thead>\n",
       "  <tbody>\n",
       "    <tr>\n",
       "      <th>2</th>\n",
       "      <td>111.959787</td>\n",
       "      <td>265.044382</td>\n",
       "      <td>395.871281</td>\n",
       "    </tr>\n",
       "    <tr>\n",
       "      <th>4</th>\n",
       "      <td>138.444318</td>\n",
       "      <td>327.881297</td>\n",
       "      <td>489.775135</td>\n",
       "    </tr>\n",
       "    <tr>\n",
       "      <th>6</th>\n",
       "      <td>156.763711</td>\n",
       "      <td>371.345693</td>\n",
       "      <td>554.728583</td>\n",
       "    </tr>\n",
       "  </tbody>\n",
       "</table>\n",
       "</div>"
      ],
      "text/plain": [
       "     20000.0     60000.0     100000.0\n",
       "2  111.959787  265.044382  395.871281\n",
       "4  138.444318  327.881297  489.775135\n",
       "6  156.763711  371.345693  554.728583"
      ]
     },
     "execution_count": 31,
     "metadata": {},
     "output_type": "execute_result"
    }
   ],
   "source": [
    "table_res = np.zeros((3,3))\n",
    "for i in range(len(Pr)):\n",
    "    for j in range(len(Re)):\n",
    "        table_res[i][j] = Nu(Pr[i], Re[j])\n",
    "table_res = pd.DataFrame(table_res, columns=Re, index=Pr)\n",
    "table_res"
   ]
  },
  {
   "cell_type": "code",
   "execution_count": 32,
   "metadata": {},
   "outputs": [
    {
     "data": {
      "text/plain": [
       "np.float64(0.03762825680717622)"
      ]
     },
     "execution_count": 32,
     "metadata": {},
     "output_type": "execute_result"
    }
   ],
   "source": [
    "np.exp(-3.28)"
   ]
  },
  {
   "attachments": {},
   "cell_type": "markdown",
   "metadata": {},
   "source": [
    "### &nbsp;&nbsp;&nbsp;&nbsp;&nbsp;&nbsp;&nbsp;&nbsp;Мурат&nbsp;&nbsp;&nbsp;&nbsp;&nbsp;&nbsp;&nbsp;&nbsp;&nbsp;&nbsp;&nbsp;&nbsp;Данис ###\n",
    "## &nbsp;&nbsp;&nbsp;&nbsp;&nbsp;&nbsp;&nbsp;&nbsp;↓&nbsp;&nbsp;&nbsp;&nbsp;&nbsp;&nbsp;&nbsp;&nbsp;&nbsp;&nbsp;&nbsp;&nbsp; ↓ ##"
   ]
  },
  {
   "attachments": {},
   "cell_type": "markdown",
   "metadata": {},
   "source": [
    "![cat](https://www.meme-arsenal.com/memes/27366f67c1b492100085bfebf3415ca2.jpg)"
   ]
  }
 ],
 "metadata": {
  "kernelspec": {
   "display_name": "venv",
   "language": "python",
   "name": "python3"
  },
  "language_info": {
   "codemirror_mode": {
    "name": "ipython",
    "version": 3
   },
   "file_extension": ".py",
   "mimetype": "text/x-python",
   "name": "python",
   "nbconvert_exporter": "python",
   "pygments_lexer": "ipython3",
   "version": "3.10.0"
  },
  "orig_nbformat": 4
 },
 "nbformat": 4,
 "nbformat_minor": 2
}
