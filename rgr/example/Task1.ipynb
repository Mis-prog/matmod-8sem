{
 "cells": [
  {
   "cell_type": "code",
   "execution_count": 109,
   "metadata": {},
   "outputs": [],
   "source": [
    "import pyDOE2 as ff\n",
    "import numpy as np\n",
    "import pandas as pd\n",
    "from scipy.stats import f as Fisher\n",
    "from scipy.stats import t as Student"
   ]
  },
  {
   "attachments": {},
   "cell_type": "markdown",
   "metadata": {},
   "source": [
    "### Авторы ###"
   ]
  },
  {
   "cell_type": "code",
   "execution_count": 110,
   "metadata": {},
   "outputs": [
    {
     "data": {
      "text/plain": [
       "'Misha'"
      ]
     },
     "execution_count": 110,
     "metadata": {},
     "output_type": "execute_result"
    }
   ],
   "source": [
    "Authors = [\"Danis\", \"Myrat\", \"Vlad\",\"Alia\",\"Misha\"]\n",
    "Author = Authors[4]\n",
    "Author"
   ]
  },
  {
   "cell_type": "code",
   "execution_count": 111,
   "metadata": {},
   "outputs": [
    {
     "data": {
      "text/plain": [
       "array([[-1, -1],\n",
       "       [ 1, -1],\n",
       "       [-1,  1],\n",
       "       [ 1,  1]], dtype=int8)"
      ]
     },
     "execution_count": 111,
     "metadata": {},
     "output_type": "execute_result"
    }
   ],
   "source": [
    "factor_count = 2 # Количество факторов\n",
    "y_count = 3 # Количество параллельных опытов для каждой комбинации факторов\n",
    "experiment_count = factor_count**2 # Количество экспериментов\n",
    "name_y = 'y average' # Название столбца для построения регрессии\n",
    "table = ff.ff2n(factor_count) # Матрица планирования\n",
    "table = np.array(table, dtype=np.int8)\n",
    "table"
   ]
  },
  {
   "cell_type": "code",
   "execution_count": 112,
   "metadata": {},
   "outputs": [
    {
     "name": "stdout",
     "output_type": "stream",
     "text": [
      "[ 1  6 11]\n",
      "[0.004  0.0047 0.09  ]\n"
     ]
    }
   ],
   "source": [
    "database = pd.read_excel('Data_' + Author + '.xlsx')\n",
    "name_database = database.columns\n",
    "Pr = np.unique(np.array(database[name_database[0]]))\n",
    "print(Pr)\n",
    "Re = np.array(np.float64(name_database[1:]))\n",
    "print(Re)\n",
    "x10 = (np.log(Pr[-1]) + np.log(Pr[0]))/2\n",
    "x20 = (np.log(Re[-1]) + np.log(Re[0]))/2\n",
    "I1 = np.log(Pr[-1]) - x10\n",
    "I2 = np.log(Re[-1]) - x20\n",
    "\n",
    "database = database[database.columns[1:]]\n",
    "database = database.to_numpy()\n",
    "\n",
    "data = []\n",
    "for i in range(y_count):\n",
    "    data.append(list(zip(np.log(database[y_count*i, :] - 0.43),\n",
    "                         np.log(database[y_count*i + 1, :] - 0.43),\n",
    "                         np.log(database[y_count*i + 2, :] - 0.43))))  # Хранение опытов для каждой комбинации факторов\n",
    "    # data.append(list(zip(database[y_count*i,:],\n",
    "    #                      database[y_count*i + 1,:],\n",
    "    #                      database[y_count*i + 2,:]))) # хранение опытов для каждой комбинации факторов\n",
    "# data\n"
   ]
  },
  {
   "cell_type": "code",
   "execution_count": 113,
   "metadata": {},
   "outputs": [],
   "source": [
    "dtypes = np.dtype(\n",
    "    [   \n",
    "        (\"x0\", int),\n",
    "        (\"x1\", int),\n",
    "        (\"x2\", int),\n",
    "        (\"y1\", np.float64),\n",
    "        (\"y2\", np.float64),\n",
    "        ('y3', np.float64),\n",
    "        ('y average', np.float64)\n",
    "    ]\n",
    ")\n",
    "df = pd.DataFrame(np.zeros(experiment_count, dtype=dtypes))"
   ]
  },
  {
   "cell_type": "code",
   "execution_count": 114,
   "metadata": {},
   "outputs": [],
   "source": [
    "for i in range(experiment_count):\n",
    "    idx1 = table[i,0] # x1\n",
    "    idx2 = table[i,1] # x2\n",
    "    ys = np.array(data[idx1 + 1][idx2 + 1],dtype=np.float64) # Совокупность значений y\n",
    "    #print(ys)\n",
    "    df.iloc[i] = {'x0': 1,'x1': idx1 , 'x2': idx2 , 'y1': ys[0], 'y2': ys[1], 'y3': ys[2], 'y average': np.mean(ys)}\n",
    "fixed_y = df[name_y] # y1 - столбец целевой переменной для построения регрессии\n",
    "# df"
   ]
  },
  {
   "cell_type": "code",
   "execution_count": 115,
   "metadata": {},
   "outputs": [
    {
     "name": "stdout",
     "output_type": "stream",
     "text": [
      "Коэффициенты -> a0: -0.7457149014152793\t a1: 0.3747672376667529\t a2: 0.21009503438056168\n"
     ]
    }
   ],
   "source": [
    "a = np.zeros(factor_count + 1)\n",
    "for i,name in enumerate(df.columns[:factor_count + 1]):\n",
    "    a[i] = (1./(experiment_count)) * np.sum(df[name] * fixed_y)\n",
    "print(f\"Коэффициенты -> a0: {a[0]}\\t a1: {a[1]}\\t a2: {a[2]}\")\n",
    "regression = lambda x: np.sum(x*a) #a[0]*x[0] + a[1]*x[1] + a[2]*x[2], где x[0]=1 - фиктивный фактор"
   ]
  },
  {
   "cell_type": "code",
   "execution_count": 116,
   "metadata": {},
   "outputs": [],
   "source": [
    "dtypes = np.dtype(\n",
    "    [\n",
    "        ('(y1-y_avg)^2', np.float64),\n",
    "        ('(y2-y_avg)^2', np.float64),\n",
    "        ('(y3-y_avg)^2', np.float64),\n",
    "        (\"Variance\", np.float64),\n",
    "        ('y regression_' + name_y, np.float64),\n",
    "        ('Δy^2', np.float64)\n",
    "    ]\n",
    ")\n",
    "df_tmp = pd.DataFrame(np.zeros(experiment_count, dtype=dtypes))\n",
    "df = pd.concat([df, df_tmp], axis=1)\n",
    "# df"
   ]
  },
  {
   "cell_type": "code",
   "execution_count": 117,
   "metadata": {},
   "outputs": [],
   "source": [
    "\n",
    "df['y regression_' + name_y] = [regression(i) for i in df[df.columns[:factor_count + 1]].to_numpy()]\n",
    "df['Δy^2'] = (fixed_y - df['y regression_' + name_y]) ** 2\n",
    "\n",
    "tmp = df.columns[factor_count + 1:(factor_count + 1) + y_count]\n",
    "#print(tmp)\n",
    "for idx,name in enumerate(df_tmp.columns[:factor_count + 1]):\n",
    "    df[name] = (df[tmp[idx]] - df['y average'])**2\n",
    "    df['Variance'] += df[name]\n",
    "del tmp\n",
    "# df"
   ]
  },
  {
   "attachments": {},
   "cell_type": "markdown",
   "metadata": {},
   "source": [
    "### Проверка адекватности модели ###"
   ]
  },
  {
   "cell_type": "code",
   "execution_count": 118,
   "metadata": {},
   "outputs": [
    {
     "name": "stdout",
     "output_type": "stream",
     "text": [
      "f = 1\n",
      "S_ад = 0.00023138125140464646\n",
      "S_y = 0.0012559327089381486\n"
     ]
    }
   ],
   "source": [
    "f = experiment_count - (factor_count + 1)\n",
    "print(f\"f = {f}\")\n",
    "\n",
    "S_ad = (1./f) * df['Δy^2'].sum()\n",
    "print(f\"S_ад = {S_ad}\")\n",
    "\n",
    "S_y = df['Variance'].sum() * (1/(experiment_count * (y_count - 1)))\n",
    "print(f\"S_y = {S_y}\")\n"
   ]
  },
  {
   "cell_type": "code",
   "execution_count": 119,
   "metadata": {},
   "outputs": [],
   "source": [
    "p = 0.05 # Принятый уровень значимости"
   ]
  },
  {
   "attachments": {},
   "cell_type": "markdown",
   "metadata": {},
   "source": [
    "#### Критерий Стьюдента ####"
   ]
  },
  {
   "cell_type": "code",
   "execution_count": 120,
   "metadata": {},
   "outputs": [
    {
     "name": "stdout",
     "output_type": "stream",
     "text": [
      "S_bj = 0.017719570458522328\n",
      "Табличное значение критерия Стьюдента: 2.306004135204166\n",
      "Коэффициент a0 является значимым! 42.08425385710315\n",
      "Коэффициент a1 является значимым! 21.14990532891312\n",
      "Коэффициент a2 является значимым! 11.856666326779681\n"
     ]
    }
   ],
   "source": [
    "S_bj = np.sqrt(np.abs(S_y/experiment_count))\n",
    "print(f\"S_bj = {S_bj}\")\n",
    "\n",
    "t_table = Student.ppf(1-p/2, experiment_count*(y_count-1)) # Табличный критерий Стьюдента\n",
    "print(f\"Табличное значение критерия Стьюдента: {t_table}\")\n",
    "\n",
    "t = np.zeros(factor_count + 1)\n",
    "for i in range(len(t)):\n",
    "    t[i] = np.abs(a[i])/S_bj\n",
    "    if t[i] > t_table:\n",
    "        print(f\"Коэффициент a{i} является значимым! {t[i]}\")\n",
    "    else:\n",
    "        print(f\"Коэффициент a{i} является незначимым!\")"
   ]
  },
  {
   "attachments": {},
   "cell_type": "markdown",
   "metadata": {},
   "source": [
    "#### Критерий Фишера ####"
   ]
  },
  {
   "cell_type": "code",
   "execution_count": 121,
   "metadata": {},
   "outputs": [
    {
     "name": "stdout",
     "output_type": "stream",
     "text": [
      "Табличное значение критерия Фишера: 5.317655071578712\n",
      "Модель адекватна c F = 0.1842306118456553!\n"
     ]
    }
   ],
   "source": [
    "F_table = Fisher.ppf(1-p, f, experiment_count*(y_count-1)) # Табличный критерий Фишера\n",
    "print(f\"Табличное значение критерия Фишера: {F_table}\")\n",
    "\n",
    "F = S_ad/S_y\n",
    "print(f\"Модель адекватна c F = {F}!\") if F < F_table else print(f\"Модель неадекватна c F = {F}!\")\n"
   ]
  },
  {
   "attachments": {},
   "cell_type": "markdown",
   "metadata": {},
   "source": [
    "### Интерпретация результатов ###"
   ]
  },
  {
   "cell_type": "code",
   "execution_count": 122,
   "metadata": {},
   "outputs": [
    {
     "data": {
      "text/html": [
       "<div>\n",
       "<style scoped>\n",
       "    .dataframe tbody tr th:only-of-type {\n",
       "        vertical-align: middle;\n",
       "    }\n",
       "\n",
       "    .dataframe tbody tr th {\n",
       "        vertical-align: top;\n",
       "    }\n",
       "\n",
       "    .dataframe thead th {\n",
       "        text-align: right;\n",
       "    }\n",
       "</style>\n",
       "<table border=\"1\" class=\"dataframe\">\n",
       "  <thead>\n",
       "    <tr style=\"text-align: right;\">\n",
       "      <th></th>\n",
       "      <th>x0</th>\n",
       "      <th>x1</th>\n",
       "      <th>x2</th>\n",
       "      <th>y1</th>\n",
       "      <th>y2</th>\n",
       "      <th>y3</th>\n",
       "      <th>y average</th>\n",
       "      <th>(y1-y_avg)^2</th>\n",
       "      <th>(y2-y_avg)^2</th>\n",
       "      <th>(y3-y_avg)^2</th>\n",
       "      <th>Variance</th>\n",
       "      <th>y regression_y average</th>\n",
       "      <th>Δy^2</th>\n",
       "    </tr>\n",
       "  </thead>\n",
       "  <tbody>\n",
       "    <tr>\n",
       "      <th>0</th>\n",
       "      <td>1</td>\n",
       "      <td>-1</td>\n",
       "      <td>-1</td>\n",
       "      <td>-1.319010</td>\n",
       "      <td>-1.350155</td>\n",
       "      <td>-1.299750</td>\n",
       "      <td>-1.322972</td>\n",
       "      <td>0.000016</td>\n",
       "      <td>0.000739</td>\n",
       "      <td>0.000539</td>\n",
       "      <td>0.001294</td>\n",
       "      <td>-1.330577</td>\n",
       "      <td>0.000058</td>\n",
       "    </tr>\n",
       "    <tr>\n",
       "      <th>1</th>\n",
       "      <td>1</td>\n",
       "      <td>1</td>\n",
       "      <td>-1</td>\n",
       "      <td>-0.597110</td>\n",
       "      <td>-0.620827</td>\n",
       "      <td>-0.548008</td>\n",
       "      <td>-0.588648</td>\n",
       "      <td>0.000072</td>\n",
       "      <td>0.001035</td>\n",
       "      <td>0.001652</td>\n",
       "      <td>0.002759</td>\n",
       "      <td>-0.581043</td>\n",
       "      <td>0.000058</td>\n",
       "    </tr>\n",
       "    <tr>\n",
       "      <th>2</th>\n",
       "      <td>1</td>\n",
       "      <td>-1</td>\n",
       "      <td>1</td>\n",
       "      <td>-0.947781</td>\n",
       "      <td>-0.949589</td>\n",
       "      <td>-0.856608</td>\n",
       "      <td>-0.917993</td>\n",
       "      <td>0.000887</td>\n",
       "      <td>0.000998</td>\n",
       "      <td>0.003768</td>\n",
       "      <td>0.005654</td>\n",
       "      <td>-0.910387</td>\n",
       "      <td>0.000058</td>\n",
       "    </tr>\n",
       "    <tr>\n",
       "      <th>3</th>\n",
       "      <td>1</td>\n",
       "      <td>1</td>\n",
       "      <td>1</td>\n",
       "      <td>-0.138228</td>\n",
       "      <td>-0.159582</td>\n",
       "      <td>-0.161931</td>\n",
       "      <td>-0.153247</td>\n",
       "      <td>0.000226</td>\n",
       "      <td>0.000040</td>\n",
       "      <td>0.000075</td>\n",
       "      <td>0.000341</td>\n",
       "      <td>-0.160853</td>\n",
       "      <td>0.000058</td>\n",
       "    </tr>\n",
       "  </tbody>\n",
       "</table>\n",
       "</div>"
      ],
      "text/plain": [
       "   x0  x1  x2        y1        y2        y3  y average  (y1-y_avg)^2  \\\n",
       "0   1  -1  -1 -1.319010 -1.350155 -1.299750  -1.322972      0.000016   \n",
       "1   1   1  -1 -0.597110 -0.620827 -0.548008  -0.588648      0.000072   \n",
       "2   1  -1   1 -0.947781 -0.949589 -0.856608  -0.917993      0.000887   \n",
       "3   1   1   1 -0.138228 -0.159582 -0.161931  -0.153247      0.000226   \n",
       "\n",
       "   (y2-y_avg)^2  (y3-y_avg)^2  Variance  y regression_y average      Δy^2  \n",
       "0      0.000739      0.000539  0.001294               -1.330577  0.000058  \n",
       "1      0.001035      0.001652  0.002759               -0.581043  0.000058  \n",
       "2      0.000998      0.003768  0.005654               -0.910387  0.000058  \n",
       "3      0.000040      0.000075  0.000341               -0.160853  0.000058  "
      ]
     },
     "execution_count": 122,
     "metadata": {},
     "output_type": "execute_result"
    }
   ],
   "source": [
    "df"
   ]
  },
  {
   "cell_type": "code",
   "execution_count": 123,
   "metadata": {},
   "outputs": [
    {
     "name": "stdout",
     "output_type": "stream",
     "text": [
      "-0.5854184662369694 0.3125801547032497 0.13495680188824535\n",
      "c = 0.5568727805903, n = 0.3125801547032497, m = 0.13495680188824535\n"
     ]
    }
   ],
   "source": [
    "b1 = a[1]/I1\n",
    "b2 = a[2]/I2\n",
    "b0 = a[0] - b1 * x10 - b2 * x20\n",
    "\n",
    "print(b0,b1,b2)\n",
    "\n",
    "c = np.exp(b0)\n",
    "n = b1\n",
    "m = b2\n",
    "print(f\"c = {c}, n = {n}, m = {m}\")\n",
    "Nu = lambda pr,re: 0.43 + c*(re**m)*(pr**n)"
   ]
  },
  {
   "attachments": {},
   "cell_type": "markdown",
   "metadata": {},
   "source": [
    "#### Проверка коэффициентов c, m, n для уравнения Нуссельта ####"
   ]
  },
  {
   "cell_type": "code",
   "execution_count": 124,
   "metadata": {},
   "outputs": [
    {
     "data": {
      "text/html": [
       "<div>\n",
       "<style scoped>\n",
       "    .dataframe tbody tr th:only-of-type {\n",
       "        vertical-align: middle;\n",
       "    }\n",
       "\n",
       "    .dataframe tbody tr th {\n",
       "        vertical-align: top;\n",
       "    }\n",
       "\n",
       "    .dataframe thead th {\n",
       "        text-align: right;\n",
       "    }\n",
       "</style>\n",
       "<table border=\"1\" class=\"dataframe\">\n",
       "  <thead>\n",
       "    <tr style=\"text-align: right;\">\n",
       "      <th></th>\n",
       "      <th>0.0040</th>\n",
       "      <th>0.0047</th>\n",
       "      <th>0.0900</th>\n",
       "    </tr>\n",
       "  </thead>\n",
       "  <tbody>\n",
       "    <tr>\n",
       "      <th>1</th>\n",
       "      <td>0.694325</td>\n",
       "      <td>0.700141</td>\n",
       "      <td>0.832368</td>\n",
       "    </tr>\n",
       "    <tr>\n",
       "      <th>6</th>\n",
       "      <td>0.892778</td>\n",
       "      <td>0.902960</td>\n",
       "      <td>1.134464</td>\n",
       "    </tr>\n",
       "    <tr>\n",
       "      <th>11</th>\n",
       "      <td>0.989315</td>\n",
       "      <td>1.001621</td>\n",
       "      <td>1.281418</td>\n",
       "    </tr>\n",
       "  </tbody>\n",
       "</table>\n",
       "</div>"
      ],
      "text/plain": [
       "      0.0040    0.0047    0.0900\n",
       "1   0.694325  0.700141  0.832368\n",
       "6   0.892778  0.902960  1.134464\n",
       "11  0.989315  1.001621  1.281418"
      ]
     },
     "execution_count": 124,
     "metadata": {},
     "output_type": "execute_result"
    }
   ],
   "source": [
    "table_res = np.zeros((3,3))\n",
    "for i in range(len(Pr)):\n",
    "    for j in range(len(Re)):\n",
    "        table_res[i][j] = Nu(Pr[i], Re[j])\n",
    "table_res = pd.DataFrame(table_res, columns=Re, index=Pr)\n",
    "table_res"
   ]
  },
  {
   "cell_type": "code",
   "execution_count": 125,
   "metadata": {},
   "outputs": [
    {
     "data": {
      "text/plain": [
       "np.float64(0.03762825680717622)"
      ]
     },
     "execution_count": 125,
     "metadata": {},
     "output_type": "execute_result"
    }
   ],
   "source": [
    "np.exp(-3.28)"
   ]
  },
  {
   "attachments": {},
   "cell_type": "markdown",
   "metadata": {},
   "source": [
    "### &nbsp;&nbsp;&nbsp;&nbsp;&nbsp;&nbsp;&nbsp;&nbsp;Мурат&nbsp;&nbsp;&nbsp;&nbsp;&nbsp;&nbsp;&nbsp;&nbsp;&nbsp;&nbsp;&nbsp;&nbsp;Данис ###\n",
    "## &nbsp;&nbsp;&nbsp;&nbsp;&nbsp;&nbsp;&nbsp;&nbsp;↓&nbsp;&nbsp;&nbsp;&nbsp;&nbsp;&nbsp;&nbsp;&nbsp;&nbsp;&nbsp;&nbsp;&nbsp; ↓ ##"
   ]
  },
  {
   "attachments": {},
   "cell_type": "markdown",
   "metadata": {},
   "source": [
    "![cat](https://www.meme-arsenal.com/memes/27366f67c1b492100085bfebf3415ca2.jpg)"
   ]
  }
 ],
 "metadata": {
  "kernelspec": {
   "display_name": "venv",
   "language": "python",
   "name": "python3"
  },
  "language_info": {
   "codemirror_mode": {
    "name": "ipython",
    "version": 3
   },
   "file_extension": ".py",
   "mimetype": "text/x-python",
   "name": "python",
   "nbconvert_exporter": "python",
   "pygments_lexer": "ipython3",
   "version": "3.10.0"
  },
  "orig_nbformat": 4
 },
 "nbformat": 4,
 "nbformat_minor": 2
}
